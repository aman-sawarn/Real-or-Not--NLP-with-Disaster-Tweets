{
  "nbformat": 4,
  "nbformat_minor": 0,
  "metadata": {
    "colab": {
      "name": "BERT-RoBERTa.ipynb",
      "provenance": [],
      "machine_shape": "hm"
    },
    "kernelspec": {
      "name": "python3",
      "display_name": "Python 3"
    },
    "accelerator": "GPU",
    "widgets": {
      "application/vnd.jupyter.widget-state+json": {
        "8ef3ce1004804eb8890e229cb1354dbc": {
          "model_module": "@jupyter-widgets/controls",
          "model_name": "HBoxModel",
          "state": {
            "_view_name": "HBoxView",
            "_dom_classes": [],
            "_model_name": "HBoxModel",
            "_view_module": "@jupyter-widgets/controls",
            "_model_module_version": "1.5.0",
            "_view_count": null,
            "_view_module_version": "1.5.0",
            "box_style": "",
            "layout": "IPY_MODEL_1d0ad1b32ac94cfb96223defe1a872e3",
            "_model_module": "@jupyter-widgets/controls",
            "children": [
              "IPY_MODEL_98b5b0a7538b46ea9f915494a44ed798",
              "IPY_MODEL_0d202c5205e543628590ad8402fc71f9"
            ]
          }
        },
        "1d0ad1b32ac94cfb96223defe1a872e3": {
          "model_module": "@jupyter-widgets/base",
          "model_name": "LayoutModel",
          "state": {
            "_view_name": "LayoutView",
            "grid_template_rows": null,
            "right": null,
            "justify_content": null,
            "_view_module": "@jupyter-widgets/base",
            "overflow": null,
            "_model_module_version": "1.2.0",
            "_view_count": null,
            "flex_flow": null,
            "width": null,
            "min_width": null,
            "border": null,
            "align_items": null,
            "bottom": null,
            "_model_module": "@jupyter-widgets/base",
            "top": null,
            "grid_column": null,
            "overflow_y": null,
            "overflow_x": null,
            "grid_auto_flow": null,
            "grid_area": null,
            "grid_template_columns": null,
            "flex": null,
            "_model_name": "LayoutModel",
            "justify_items": null,
            "grid_row": null,
            "max_height": null,
            "align_content": null,
            "visibility": null,
            "align_self": null,
            "height": null,
            "min_height": null,
            "padding": null,
            "grid_auto_rows": null,
            "grid_gap": null,
            "max_width": null,
            "order": null,
            "_view_module_version": "1.2.0",
            "grid_template_areas": null,
            "object_position": null,
            "object_fit": null,
            "grid_auto_columns": null,
            "margin": null,
            "display": null,
            "left": null
          }
        },
        "98b5b0a7538b46ea9f915494a44ed798": {
          "model_module": "@jupyter-widgets/controls",
          "model_name": "IntProgressModel",
          "state": {
            "_view_name": "ProgressView",
            "style": "IPY_MODEL_49681146ff184cca8fa2cf3e7938d530",
            "_dom_classes": [],
            "description": "Converting examples to features",
            "_model_name": "IntProgressModel",
            "bar_style": "success",
            "max": 6090,
            "_view_module": "@jupyter-widgets/controls",
            "_model_module_version": "1.5.0",
            "value": 6090,
            "_view_count": null,
            "_view_module_version": "1.5.0",
            "orientation": "horizontal",
            "min": 0,
            "description_tooltip": null,
            "_model_module": "@jupyter-widgets/controls",
            "layout": "IPY_MODEL_b489629604624cbb8531aae8df51deb0"
          }
        },
        "0d202c5205e543628590ad8402fc71f9": {
          "model_module": "@jupyter-widgets/controls",
          "model_name": "HTMLModel",
          "state": {
            "_view_name": "HTMLView",
            "style": "IPY_MODEL_163a3db5c6fb4dd2aefa24a1b6455146",
            "_dom_classes": [],
            "description": "",
            "_model_name": "HTMLModel",
            "placeholder": "​",
            "_view_module": "@jupyter-widgets/controls",
            "_model_module_version": "1.5.0",
            "value": "100% 6090/6090 [00:03&lt;00:00, 1634.09it/s]",
            "_view_count": null,
            "_view_module_version": "1.5.0",
            "description_tooltip": null,
            "_model_module": "@jupyter-widgets/controls",
            "layout": "IPY_MODEL_6528ec748858433393909ef7d291618a"
          }
        },
        "49681146ff184cca8fa2cf3e7938d530": {
          "model_module": "@jupyter-widgets/controls",
          "model_name": "ProgressStyleModel",
          "state": {
            "_view_name": "StyleView",
            "_model_name": "ProgressStyleModel",
            "description_width": "initial",
            "_view_module": "@jupyter-widgets/base",
            "_model_module_version": "1.5.0",
            "_view_count": null,
            "_view_module_version": "1.2.0",
            "bar_color": null,
            "_model_module": "@jupyter-widgets/controls"
          }
        },
        "b489629604624cbb8531aae8df51deb0": {
          "model_module": "@jupyter-widgets/base",
          "model_name": "LayoutModel",
          "state": {
            "_view_name": "LayoutView",
            "grid_template_rows": null,
            "right": null,
            "justify_content": null,
            "_view_module": "@jupyter-widgets/base",
            "overflow": null,
            "_model_module_version": "1.2.0",
            "_view_count": null,
            "flex_flow": null,
            "width": null,
            "min_width": null,
            "border": null,
            "align_items": null,
            "bottom": null,
            "_model_module": "@jupyter-widgets/base",
            "top": null,
            "grid_column": null,
            "overflow_y": null,
            "overflow_x": null,
            "grid_auto_flow": null,
            "grid_area": null,
            "grid_template_columns": null,
            "flex": null,
            "_model_name": "LayoutModel",
            "justify_items": null,
            "grid_row": null,
            "max_height": null,
            "align_content": null,
            "visibility": null,
            "align_self": null,
            "height": null,
            "min_height": null,
            "padding": null,
            "grid_auto_rows": null,
            "grid_gap": null,
            "max_width": null,
            "order": null,
            "_view_module_version": "1.2.0",
            "grid_template_areas": null,
            "object_position": null,
            "object_fit": null,
            "grid_auto_columns": null,
            "margin": null,
            "display": null,
            "left": null
          }
        },
        "163a3db5c6fb4dd2aefa24a1b6455146": {
          "model_module": "@jupyter-widgets/controls",
          "model_name": "DescriptionStyleModel",
          "state": {
            "_view_name": "StyleView",
            "_model_name": "DescriptionStyleModel",
            "description_width": "",
            "_view_module": "@jupyter-widgets/base",
            "_model_module_version": "1.5.0",
            "_view_count": null,
            "_view_module_version": "1.2.0",
            "_model_module": "@jupyter-widgets/controls"
          }
        },
        "6528ec748858433393909ef7d291618a": {
          "model_module": "@jupyter-widgets/base",
          "model_name": "LayoutModel",
          "state": {
            "_view_name": "LayoutView",
            "grid_template_rows": null,
            "right": null,
            "justify_content": null,
            "_view_module": "@jupyter-widgets/base",
            "overflow": null,
            "_model_module_version": "1.2.0",
            "_view_count": null,
            "flex_flow": null,
            "width": null,
            "min_width": null,
            "border": null,
            "align_items": null,
            "bottom": null,
            "_model_module": "@jupyter-widgets/base",
            "top": null,
            "grid_column": null,
            "overflow_y": null,
            "overflow_x": null,
            "grid_auto_flow": null,
            "grid_area": null,
            "grid_template_columns": null,
            "flex": null,
            "_model_name": "LayoutModel",
            "justify_items": null,
            "grid_row": null,
            "max_height": null,
            "align_content": null,
            "visibility": null,
            "align_self": null,
            "height": null,
            "min_height": null,
            "padding": null,
            "grid_auto_rows": null,
            "grid_gap": null,
            "max_width": null,
            "order": null,
            "_view_module_version": "1.2.0",
            "grid_template_areas": null,
            "object_position": null,
            "object_fit": null,
            "grid_auto_columns": null,
            "margin": null,
            "display": null,
            "left": null
          }
        },
        "835b97e38b8a4dca9708e9cfc6e3f18d": {
          "model_module": "@jupyter-widgets/controls",
          "model_name": "HBoxModel",
          "state": {
            "_view_name": "HBoxView",
            "_dom_classes": [],
            "_model_name": "HBoxModel",
            "_view_module": "@jupyter-widgets/controls",
            "_model_module_version": "1.5.0",
            "_view_count": null,
            "_view_module_version": "1.5.0",
            "box_style": "",
            "layout": "IPY_MODEL_d3711e1ede1947b0b41448f0ab60cefc",
            "_model_module": "@jupyter-widgets/controls",
            "children": [
              "IPY_MODEL_0160fb5b82bc4cb19995633c4e254cd3",
              "IPY_MODEL_8f7ff07e024540ecb6cf4d9bf4358878"
            ]
          }
        },
        "d3711e1ede1947b0b41448f0ab60cefc": {
          "model_module": "@jupyter-widgets/base",
          "model_name": "LayoutModel",
          "state": {
            "_view_name": "LayoutView",
            "grid_template_rows": null,
            "right": null,
            "justify_content": null,
            "_view_module": "@jupyter-widgets/base",
            "overflow": null,
            "_model_module_version": "1.2.0",
            "_view_count": null,
            "flex_flow": null,
            "width": null,
            "min_width": null,
            "border": null,
            "align_items": null,
            "bottom": null,
            "_model_module": "@jupyter-widgets/base",
            "top": null,
            "grid_column": null,
            "overflow_y": null,
            "overflow_x": null,
            "grid_auto_flow": null,
            "grid_area": null,
            "grid_template_columns": null,
            "flex": null,
            "_model_name": "LayoutModel",
            "justify_items": null,
            "grid_row": null,
            "max_height": null,
            "align_content": null,
            "visibility": null,
            "align_self": null,
            "height": null,
            "min_height": null,
            "padding": null,
            "grid_auto_rows": null,
            "grid_gap": null,
            "max_width": null,
            "order": null,
            "_view_module_version": "1.2.0",
            "grid_template_areas": null,
            "object_position": null,
            "object_fit": null,
            "grid_auto_columns": null,
            "margin": null,
            "display": null,
            "left": null
          }
        },
        "0160fb5b82bc4cb19995633c4e254cd3": {
          "model_module": "@jupyter-widgets/controls",
          "model_name": "IntProgressModel",
          "state": {
            "_view_name": "ProgressView",
            "style": "IPY_MODEL_755dd93a817040d39a75ddcbfceb7ff9",
            "_dom_classes": [],
            "description": "Converting examples to features",
            "_model_name": "IntProgressModel",
            "bar_style": "success",
            "max": 1523,
            "_view_module": "@jupyter-widgets/controls",
            "_model_module_version": "1.5.0",
            "value": 1523,
            "_view_count": null,
            "_view_module_version": "1.5.0",
            "orientation": "horizontal",
            "min": 0,
            "description_tooltip": null,
            "_model_module": "@jupyter-widgets/controls",
            "layout": "IPY_MODEL_d8c2abc70150454daabaccb31c4bde8d"
          }
        },
        "8f7ff07e024540ecb6cf4d9bf4358878": {
          "model_module": "@jupyter-widgets/controls",
          "model_name": "HTMLModel",
          "state": {
            "_view_name": "HTMLView",
            "style": "IPY_MODEL_9afa0f97354444e9801feef753000c6b",
            "_dom_classes": [],
            "description": "",
            "_model_name": "HTMLModel",
            "placeholder": "​",
            "_view_module": "@jupyter-widgets/controls",
            "_model_module_version": "1.5.0",
            "value": "100% 1523/1523 [00:00&lt;00:00, 1598.48it/s]",
            "_view_count": null,
            "_view_module_version": "1.5.0",
            "description_tooltip": null,
            "_model_module": "@jupyter-widgets/controls",
            "layout": "IPY_MODEL_b407368496204059a3cd16440cbe61ca"
          }
        },
        "755dd93a817040d39a75ddcbfceb7ff9": {
          "model_module": "@jupyter-widgets/controls",
          "model_name": "ProgressStyleModel",
          "state": {
            "_view_name": "StyleView",
            "_model_name": "ProgressStyleModel",
            "description_width": "initial",
            "_view_module": "@jupyter-widgets/base",
            "_model_module_version": "1.5.0",
            "_view_count": null,
            "_view_module_version": "1.2.0",
            "bar_color": null,
            "_model_module": "@jupyter-widgets/controls"
          }
        },
        "d8c2abc70150454daabaccb31c4bde8d": {
          "model_module": "@jupyter-widgets/base",
          "model_name": "LayoutModel",
          "state": {
            "_view_name": "LayoutView",
            "grid_template_rows": null,
            "right": null,
            "justify_content": null,
            "_view_module": "@jupyter-widgets/base",
            "overflow": null,
            "_model_module_version": "1.2.0",
            "_view_count": null,
            "flex_flow": null,
            "width": null,
            "min_width": null,
            "border": null,
            "align_items": null,
            "bottom": null,
            "_model_module": "@jupyter-widgets/base",
            "top": null,
            "grid_column": null,
            "overflow_y": null,
            "overflow_x": null,
            "grid_auto_flow": null,
            "grid_area": null,
            "grid_template_columns": null,
            "flex": null,
            "_model_name": "LayoutModel",
            "justify_items": null,
            "grid_row": null,
            "max_height": null,
            "align_content": null,
            "visibility": null,
            "align_self": null,
            "height": null,
            "min_height": null,
            "padding": null,
            "grid_auto_rows": null,
            "grid_gap": null,
            "max_width": null,
            "order": null,
            "_view_module_version": "1.2.0",
            "grid_template_areas": null,
            "object_position": null,
            "object_fit": null,
            "grid_auto_columns": null,
            "margin": null,
            "display": null,
            "left": null
          }
        },
        "9afa0f97354444e9801feef753000c6b": {
          "model_module": "@jupyter-widgets/controls",
          "model_name": "DescriptionStyleModel",
          "state": {
            "_view_name": "StyleView",
            "_model_name": "DescriptionStyleModel",
            "description_width": "",
            "_view_module": "@jupyter-widgets/base",
            "_model_module_version": "1.5.0",
            "_view_count": null,
            "_view_module_version": "1.2.0",
            "_model_module": "@jupyter-widgets/controls"
          }
        },
        "b407368496204059a3cd16440cbe61ca": {
          "model_module": "@jupyter-widgets/base",
          "model_name": "LayoutModel",
          "state": {
            "_view_name": "LayoutView",
            "grid_template_rows": null,
            "right": null,
            "justify_content": null,
            "_view_module": "@jupyter-widgets/base",
            "overflow": null,
            "_model_module_version": "1.2.0",
            "_view_count": null,
            "flex_flow": null,
            "width": null,
            "min_width": null,
            "border": null,
            "align_items": null,
            "bottom": null,
            "_model_module": "@jupyter-widgets/base",
            "top": null,
            "grid_column": null,
            "overflow_y": null,
            "overflow_x": null,
            "grid_auto_flow": null,
            "grid_area": null,
            "grid_template_columns": null,
            "flex": null,
            "_model_name": "LayoutModel",
            "justify_items": null,
            "grid_row": null,
            "max_height": null,
            "align_content": null,
            "visibility": null,
            "align_self": null,
            "height": null,
            "min_height": null,
            "padding": null,
            "grid_auto_rows": null,
            "grid_gap": null,
            "max_width": null,
            "order": null,
            "_view_module_version": "1.2.0",
            "grid_template_areas": null,
            "object_position": null,
            "object_fit": null,
            "grid_auto_columns": null,
            "margin": null,
            "display": null,
            "left": null
          }
        },
        "25b2ab89838c4e75adc5b670355f55e2": {
          "model_module": "@jupyter-widgets/controls",
          "model_name": "HBoxModel",
          "state": {
            "_view_name": "HBoxView",
            "_dom_classes": [],
            "_model_name": "HBoxModel",
            "_view_module": "@jupyter-widgets/controls",
            "_model_module_version": "1.5.0",
            "_view_count": null,
            "_view_module_version": "1.5.0",
            "box_style": "",
            "layout": "IPY_MODEL_a9fb9708e3a74cedb60e712232a8bfeb",
            "_model_module": "@jupyter-widgets/controls",
            "children": [
              "IPY_MODEL_354eba7a3c0c4e0e81c7a559b8b1b465",
              "IPY_MODEL_7beaa702a2dc48579774799b364d3da2"
            ]
          }
        },
        "a9fb9708e3a74cedb60e712232a8bfeb": {
          "model_module": "@jupyter-widgets/base",
          "model_name": "LayoutModel",
          "state": {
            "_view_name": "LayoutView",
            "grid_template_rows": null,
            "right": null,
            "justify_content": null,
            "_view_module": "@jupyter-widgets/base",
            "overflow": null,
            "_model_module_version": "1.2.0",
            "_view_count": null,
            "flex_flow": null,
            "width": null,
            "min_width": null,
            "border": null,
            "align_items": null,
            "bottom": null,
            "_model_module": "@jupyter-widgets/base",
            "top": null,
            "grid_column": null,
            "overflow_y": null,
            "overflow_x": null,
            "grid_auto_flow": null,
            "grid_area": null,
            "grid_template_columns": null,
            "flex": null,
            "_model_name": "LayoutModel",
            "justify_items": null,
            "grid_row": null,
            "max_height": null,
            "align_content": null,
            "visibility": null,
            "align_self": null,
            "height": null,
            "min_height": null,
            "padding": null,
            "grid_auto_rows": null,
            "grid_gap": null,
            "max_width": null,
            "order": null,
            "_view_module_version": "1.2.0",
            "grid_template_areas": null,
            "object_position": null,
            "object_fit": null,
            "grid_auto_columns": null,
            "margin": null,
            "display": null,
            "left": null
          }
        },
        "354eba7a3c0c4e0e81c7a559b8b1b465": {
          "model_module": "@jupyter-widgets/controls",
          "model_name": "IntProgressModel",
          "state": {
            "_view_name": "ProgressView",
            "style": "IPY_MODEL_18a1ac563e8c4fd891b6fa5e962bee4c",
            "_dom_classes": [],
            "description": "Converting examples to features",
            "_model_name": "IntProgressModel",
            "bar_style": "success",
            "max": 3263,
            "_view_module": "@jupyter-widgets/controls",
            "_model_module_version": "1.5.0",
            "value": 3263,
            "_view_count": null,
            "_view_module_version": "1.5.0",
            "orientation": "horizontal",
            "min": 0,
            "description_tooltip": null,
            "_model_module": "@jupyter-widgets/controls",
            "layout": "IPY_MODEL_b9bd15e4ccaf41ebba188e0505f2c8bb"
          }
        },
        "7beaa702a2dc48579774799b364d3da2": {
          "model_module": "@jupyter-widgets/controls",
          "model_name": "HTMLModel",
          "state": {
            "_view_name": "HTMLView",
            "style": "IPY_MODEL_a05b8be910624a978be23dcddf628e46",
            "_dom_classes": [],
            "description": "",
            "_model_name": "HTMLModel",
            "placeholder": "​",
            "_view_module": "@jupyter-widgets/controls",
            "_model_module_version": "1.5.0",
            "value": "100% 3263/3263 [00:02&lt;00:00, 1608.81it/s]",
            "_view_count": null,
            "_view_module_version": "1.5.0",
            "description_tooltip": null,
            "_model_module": "@jupyter-widgets/controls",
            "layout": "IPY_MODEL_b802aacfbf2b465fbf73eb1cfcdb8a53"
          }
        },
        "18a1ac563e8c4fd891b6fa5e962bee4c": {
          "model_module": "@jupyter-widgets/controls",
          "model_name": "ProgressStyleModel",
          "state": {
            "_view_name": "StyleView",
            "_model_name": "ProgressStyleModel",
            "description_width": "initial",
            "_view_module": "@jupyter-widgets/base",
            "_model_module_version": "1.5.0",
            "_view_count": null,
            "_view_module_version": "1.2.0",
            "bar_color": null,
            "_model_module": "@jupyter-widgets/controls"
          }
        },
        "b9bd15e4ccaf41ebba188e0505f2c8bb": {
          "model_module": "@jupyter-widgets/base",
          "model_name": "LayoutModel",
          "state": {
            "_view_name": "LayoutView",
            "grid_template_rows": null,
            "right": null,
            "justify_content": null,
            "_view_module": "@jupyter-widgets/base",
            "overflow": null,
            "_model_module_version": "1.2.0",
            "_view_count": null,
            "flex_flow": null,
            "width": null,
            "min_width": null,
            "border": null,
            "align_items": null,
            "bottom": null,
            "_model_module": "@jupyter-widgets/base",
            "top": null,
            "grid_column": null,
            "overflow_y": null,
            "overflow_x": null,
            "grid_auto_flow": null,
            "grid_area": null,
            "grid_template_columns": null,
            "flex": null,
            "_model_name": "LayoutModel",
            "justify_items": null,
            "grid_row": null,
            "max_height": null,
            "align_content": null,
            "visibility": null,
            "align_self": null,
            "height": null,
            "min_height": null,
            "padding": null,
            "grid_auto_rows": null,
            "grid_gap": null,
            "max_width": null,
            "order": null,
            "_view_module_version": "1.2.0",
            "grid_template_areas": null,
            "object_position": null,
            "object_fit": null,
            "grid_auto_columns": null,
            "margin": null,
            "display": null,
            "left": null
          }
        },
        "a05b8be910624a978be23dcddf628e46": {
          "model_module": "@jupyter-widgets/controls",
          "model_name": "DescriptionStyleModel",
          "state": {
            "_view_name": "StyleView",
            "_model_name": "DescriptionStyleModel",
            "description_width": "",
            "_view_module": "@jupyter-widgets/base",
            "_model_module_version": "1.5.0",
            "_view_count": null,
            "_view_module_version": "1.2.0",
            "_model_module": "@jupyter-widgets/controls"
          }
        },
        "b802aacfbf2b465fbf73eb1cfcdb8a53": {
          "model_module": "@jupyter-widgets/base",
          "model_name": "LayoutModel",
          "state": {
            "_view_name": "LayoutView",
            "grid_template_rows": null,
            "right": null,
            "justify_content": null,
            "_view_module": "@jupyter-widgets/base",
            "overflow": null,
            "_model_module_version": "1.2.0",
            "_view_count": null,
            "flex_flow": null,
            "width": null,
            "min_width": null,
            "border": null,
            "align_items": null,
            "bottom": null,
            "_model_module": "@jupyter-widgets/base",
            "top": null,
            "grid_column": null,
            "overflow_y": null,
            "overflow_x": null,
            "grid_auto_flow": null,
            "grid_area": null,
            "grid_template_columns": null,
            "flex": null,
            "_model_name": "LayoutModel",
            "justify_items": null,
            "grid_row": null,
            "max_height": null,
            "align_content": null,
            "visibility": null,
            "align_self": null,
            "height": null,
            "min_height": null,
            "padding": null,
            "grid_auto_rows": null,
            "grid_gap": null,
            "max_width": null,
            "order": null,
            "_view_module_version": "1.2.0",
            "grid_template_areas": null,
            "object_position": null,
            "object_fit": null,
            "grid_auto_columns": null,
            "margin": null,
            "display": null,
            "left": null
          }
        },
        "21546645bc9c48ecb3937e669fc87833": {
          "model_module": "@jupyter-widgets/controls",
          "model_name": "HBoxModel",
          "state": {
            "_view_name": "HBoxView",
            "_dom_classes": [],
            "_model_name": "HBoxModel",
            "_view_module": "@jupyter-widgets/controls",
            "_model_module_version": "1.5.0",
            "_view_count": null,
            "_view_module_version": "1.5.0",
            "box_style": "",
            "layout": "IPY_MODEL_c63c1775c6224d4b94e56be0f7b69296",
            "_model_module": "@jupyter-widgets/controls",
            "children": [
              "IPY_MODEL_e6281379d27d40e08d3999b1d54fda9d",
              "IPY_MODEL_4bf9d4a3470e43bf82b85f8561ac79d8"
            ]
          }
        },
        "c63c1775c6224d4b94e56be0f7b69296": {
          "model_module": "@jupyter-widgets/base",
          "model_name": "LayoutModel",
          "state": {
            "_view_name": "LayoutView",
            "grid_template_rows": null,
            "right": null,
            "justify_content": null,
            "_view_module": "@jupyter-widgets/base",
            "overflow": null,
            "_model_module_version": "1.2.0",
            "_view_count": null,
            "flex_flow": null,
            "width": null,
            "min_width": null,
            "border": null,
            "align_items": null,
            "bottom": null,
            "_model_module": "@jupyter-widgets/base",
            "top": null,
            "grid_column": null,
            "overflow_y": null,
            "overflow_x": null,
            "grid_auto_flow": null,
            "grid_area": null,
            "grid_template_columns": null,
            "flex": null,
            "_model_name": "LayoutModel",
            "justify_items": null,
            "grid_row": null,
            "max_height": null,
            "align_content": null,
            "visibility": null,
            "align_self": null,
            "height": null,
            "min_height": null,
            "padding": null,
            "grid_auto_rows": null,
            "grid_gap": null,
            "max_width": null,
            "order": null,
            "_view_module_version": "1.2.0",
            "grid_template_areas": null,
            "object_position": null,
            "object_fit": null,
            "grid_auto_columns": null,
            "margin": null,
            "display": null,
            "left": null
          }
        },
        "e6281379d27d40e08d3999b1d54fda9d": {
          "model_module": "@jupyter-widgets/controls",
          "model_name": "IntProgressModel",
          "state": {
            "_view_name": "ProgressView",
            "style": "IPY_MODEL_74455fe876b4416db94e03cc6f0e07bb",
            "_dom_classes": [],
            "description": "Downloading",
            "_model_name": "IntProgressModel",
            "bar_style": "success",
            "max": 524,
            "_view_module": "@jupyter-widgets/controls",
            "_model_module_version": "1.5.0",
            "value": 524,
            "_view_count": null,
            "_view_module_version": "1.5.0",
            "orientation": "horizontal",
            "min": 0,
            "description_tooltip": null,
            "_model_module": "@jupyter-widgets/controls",
            "layout": "IPY_MODEL_d44d510e147b45598cad797ec1917530"
          }
        },
        "4bf9d4a3470e43bf82b85f8561ac79d8": {
          "model_module": "@jupyter-widgets/controls",
          "model_name": "HTMLModel",
          "state": {
            "_view_name": "HTMLView",
            "style": "IPY_MODEL_40e4d69b557b4ca8bf42a4a57d52ba6b",
            "_dom_classes": [],
            "description": "",
            "_model_name": "HTMLModel",
            "placeholder": "​",
            "_view_module": "@jupyter-widgets/controls",
            "_model_module_version": "1.5.0",
            "value": "100% 524/524 [00:00&lt;00:00, 21.0kB/s]",
            "_view_count": null,
            "_view_module_version": "1.5.0",
            "description_tooltip": null,
            "_model_module": "@jupyter-widgets/controls",
            "layout": "IPY_MODEL_ffbd0bd4b3bb4962b16e7ecfb15e18d6"
          }
        },
        "74455fe876b4416db94e03cc6f0e07bb": {
          "model_module": "@jupyter-widgets/controls",
          "model_name": "ProgressStyleModel",
          "state": {
            "_view_name": "StyleView",
            "_model_name": "ProgressStyleModel",
            "description_width": "initial",
            "_view_module": "@jupyter-widgets/base",
            "_model_module_version": "1.5.0",
            "_view_count": null,
            "_view_module_version": "1.2.0",
            "bar_color": null,
            "_model_module": "@jupyter-widgets/controls"
          }
        },
        "d44d510e147b45598cad797ec1917530": {
          "model_module": "@jupyter-widgets/base",
          "model_name": "LayoutModel",
          "state": {
            "_view_name": "LayoutView",
            "grid_template_rows": null,
            "right": null,
            "justify_content": null,
            "_view_module": "@jupyter-widgets/base",
            "overflow": null,
            "_model_module_version": "1.2.0",
            "_view_count": null,
            "flex_flow": null,
            "width": null,
            "min_width": null,
            "border": null,
            "align_items": null,
            "bottom": null,
            "_model_module": "@jupyter-widgets/base",
            "top": null,
            "grid_column": null,
            "overflow_y": null,
            "overflow_x": null,
            "grid_auto_flow": null,
            "grid_area": null,
            "grid_template_columns": null,
            "flex": null,
            "_model_name": "LayoutModel",
            "justify_items": null,
            "grid_row": null,
            "max_height": null,
            "align_content": null,
            "visibility": null,
            "align_self": null,
            "height": null,
            "min_height": null,
            "padding": null,
            "grid_auto_rows": null,
            "grid_gap": null,
            "max_width": null,
            "order": null,
            "_view_module_version": "1.2.0",
            "grid_template_areas": null,
            "object_position": null,
            "object_fit": null,
            "grid_auto_columns": null,
            "margin": null,
            "display": null,
            "left": null
          }
        },
        "40e4d69b557b4ca8bf42a4a57d52ba6b": {
          "model_module": "@jupyter-widgets/controls",
          "model_name": "DescriptionStyleModel",
          "state": {
            "_view_name": "StyleView",
            "_model_name": "DescriptionStyleModel",
            "description_width": "",
            "_view_module": "@jupyter-widgets/base",
            "_model_module_version": "1.5.0",
            "_view_count": null,
            "_view_module_version": "1.2.0",
            "_model_module": "@jupyter-widgets/controls"
          }
        },
        "ffbd0bd4b3bb4962b16e7ecfb15e18d6": {
          "model_module": "@jupyter-widgets/base",
          "model_name": "LayoutModel",
          "state": {
            "_view_name": "LayoutView",
            "grid_template_rows": null,
            "right": null,
            "justify_content": null,
            "_view_module": "@jupyter-widgets/base",
            "overflow": null,
            "_model_module_version": "1.2.0",
            "_view_count": null,
            "flex_flow": null,
            "width": null,
            "min_width": null,
            "border": null,
            "align_items": null,
            "bottom": null,
            "_model_module": "@jupyter-widgets/base",
            "top": null,
            "grid_column": null,
            "overflow_y": null,
            "overflow_x": null,
            "grid_auto_flow": null,
            "grid_area": null,
            "grid_template_columns": null,
            "flex": null,
            "_model_name": "LayoutModel",
            "justify_items": null,
            "grid_row": null,
            "max_height": null,
            "align_content": null,
            "visibility": null,
            "align_self": null,
            "height": null,
            "min_height": null,
            "padding": null,
            "grid_auto_rows": null,
            "grid_gap": null,
            "max_width": null,
            "order": null,
            "_view_module_version": "1.2.0",
            "grid_template_areas": null,
            "object_position": null,
            "object_fit": null,
            "grid_auto_columns": null,
            "margin": null,
            "display": null,
            "left": null
          }
        },
        "d8cc0f7204da4e45bd7187e065dd13b4": {
          "model_module": "@jupyter-widgets/controls",
          "model_name": "HBoxModel",
          "state": {
            "_view_name": "HBoxView",
            "_dom_classes": [],
            "_model_name": "HBoxModel",
            "_view_module": "@jupyter-widgets/controls",
            "_model_module_version": "1.5.0",
            "_view_count": null,
            "_view_module_version": "1.5.0",
            "box_style": "",
            "layout": "IPY_MODEL_184959e31dcc4b3c99fb0c69b3b1aedf",
            "_model_module": "@jupyter-widgets/controls",
            "children": [
              "IPY_MODEL_da5b8246561a48c4b9ac0ec61ee3e16d",
              "IPY_MODEL_8749d339f695418d94bd56d6798ef6f8"
            ]
          }
        },
        "184959e31dcc4b3c99fb0c69b3b1aedf": {
          "model_module": "@jupyter-widgets/base",
          "model_name": "LayoutModel",
          "state": {
            "_view_name": "LayoutView",
            "grid_template_rows": null,
            "right": null,
            "justify_content": null,
            "_view_module": "@jupyter-widgets/base",
            "overflow": null,
            "_model_module_version": "1.2.0",
            "_view_count": null,
            "flex_flow": null,
            "width": null,
            "min_width": null,
            "border": null,
            "align_items": null,
            "bottom": null,
            "_model_module": "@jupyter-widgets/base",
            "top": null,
            "grid_column": null,
            "overflow_y": null,
            "overflow_x": null,
            "grid_auto_flow": null,
            "grid_area": null,
            "grid_template_columns": null,
            "flex": null,
            "_model_name": "LayoutModel",
            "justify_items": null,
            "grid_row": null,
            "max_height": null,
            "align_content": null,
            "visibility": null,
            "align_self": null,
            "height": null,
            "min_height": null,
            "padding": null,
            "grid_auto_rows": null,
            "grid_gap": null,
            "max_width": null,
            "order": null,
            "_view_module_version": "1.2.0",
            "grid_template_areas": null,
            "object_position": null,
            "object_fit": null,
            "grid_auto_columns": null,
            "margin": null,
            "display": null,
            "left": null
          }
        },
        "da5b8246561a48c4b9ac0ec61ee3e16d": {
          "model_module": "@jupyter-widgets/controls",
          "model_name": "IntProgressModel",
          "state": {
            "_view_name": "ProgressView",
            "style": "IPY_MODEL_55210b72411441c2b1174389fd918bb6",
            "_dom_classes": [],
            "description": "Downloading",
            "_model_name": "IntProgressModel",
            "bar_style": "success",
            "max": 501200538,
            "_view_module": "@jupyter-widgets/controls",
            "_model_module_version": "1.5.0",
            "value": 501200538,
            "_view_count": null,
            "_view_module_version": "1.5.0",
            "orientation": "horizontal",
            "min": 0,
            "description_tooltip": null,
            "_model_module": "@jupyter-widgets/controls",
            "layout": "IPY_MODEL_6bb2ed57aadf43eebd0000f24eca8468"
          }
        },
        "8749d339f695418d94bd56d6798ef6f8": {
          "model_module": "@jupyter-widgets/controls",
          "model_name": "HTMLModel",
          "state": {
            "_view_name": "HTMLView",
            "style": "IPY_MODEL_fa23efc162964a0ab19c62d40ae6934d",
            "_dom_classes": [],
            "description": "",
            "_model_name": "HTMLModel",
            "placeholder": "​",
            "_view_module": "@jupyter-widgets/controls",
            "_model_module_version": "1.5.0",
            "value": "100% 501M/501M [00:15&lt;00:00, 31.8MB/s]",
            "_view_count": null,
            "_view_module_version": "1.5.0",
            "description_tooltip": null,
            "_model_module": "@jupyter-widgets/controls",
            "layout": "IPY_MODEL_53f2cac147a9405da4182a0a0553fc7d"
          }
        },
        "55210b72411441c2b1174389fd918bb6": {
          "model_module": "@jupyter-widgets/controls",
          "model_name": "ProgressStyleModel",
          "state": {
            "_view_name": "StyleView",
            "_model_name": "ProgressStyleModel",
            "description_width": "initial",
            "_view_module": "@jupyter-widgets/base",
            "_model_module_version": "1.5.0",
            "_view_count": null,
            "_view_module_version": "1.2.0",
            "bar_color": null,
            "_model_module": "@jupyter-widgets/controls"
          }
        },
        "6bb2ed57aadf43eebd0000f24eca8468": {
          "model_module": "@jupyter-widgets/base",
          "model_name": "LayoutModel",
          "state": {
            "_view_name": "LayoutView",
            "grid_template_rows": null,
            "right": null,
            "justify_content": null,
            "_view_module": "@jupyter-widgets/base",
            "overflow": null,
            "_model_module_version": "1.2.0",
            "_view_count": null,
            "flex_flow": null,
            "width": null,
            "min_width": null,
            "border": null,
            "align_items": null,
            "bottom": null,
            "_model_module": "@jupyter-widgets/base",
            "top": null,
            "grid_column": null,
            "overflow_y": null,
            "overflow_x": null,
            "grid_auto_flow": null,
            "grid_area": null,
            "grid_template_columns": null,
            "flex": null,
            "_model_name": "LayoutModel",
            "justify_items": null,
            "grid_row": null,
            "max_height": null,
            "align_content": null,
            "visibility": null,
            "align_self": null,
            "height": null,
            "min_height": null,
            "padding": null,
            "grid_auto_rows": null,
            "grid_gap": null,
            "max_width": null,
            "order": null,
            "_view_module_version": "1.2.0",
            "grid_template_areas": null,
            "object_position": null,
            "object_fit": null,
            "grid_auto_columns": null,
            "margin": null,
            "display": null,
            "left": null
          }
        },
        "fa23efc162964a0ab19c62d40ae6934d": {
          "model_module": "@jupyter-widgets/controls",
          "model_name": "DescriptionStyleModel",
          "state": {
            "_view_name": "StyleView",
            "_model_name": "DescriptionStyleModel",
            "description_width": "",
            "_view_module": "@jupyter-widgets/base",
            "_model_module_version": "1.5.0",
            "_view_count": null,
            "_view_module_version": "1.2.0",
            "_model_module": "@jupyter-widgets/controls"
          }
        },
        "53f2cac147a9405da4182a0a0553fc7d": {
          "model_module": "@jupyter-widgets/base",
          "model_name": "LayoutModel",
          "state": {
            "_view_name": "LayoutView",
            "grid_template_rows": null,
            "right": null,
            "justify_content": null,
            "_view_module": "@jupyter-widgets/base",
            "overflow": null,
            "_model_module_version": "1.2.0",
            "_view_count": null,
            "flex_flow": null,
            "width": null,
            "min_width": null,
            "border": null,
            "align_items": null,
            "bottom": null,
            "_model_module": "@jupyter-widgets/base",
            "top": null,
            "grid_column": null,
            "overflow_y": null,
            "overflow_x": null,
            "grid_auto_flow": null,
            "grid_area": null,
            "grid_template_columns": null,
            "flex": null,
            "_model_name": "LayoutModel",
            "justify_items": null,
            "grid_row": null,
            "max_height": null,
            "align_content": null,
            "visibility": null,
            "align_self": null,
            "height": null,
            "min_height": null,
            "padding": null,
            "grid_auto_rows": null,
            "grid_gap": null,
            "max_width": null,
            "order": null,
            "_view_module_version": "1.2.0",
            "grid_template_areas": null,
            "object_position": null,
            "object_fit": null,
            "grid_auto_columns": null,
            "margin": null,
            "display": null,
            "left": null
          }
        },
        "d1343af446534ffdb9201c9bceb92764": {
          "model_module": "@jupyter-widgets/controls",
          "model_name": "HBoxModel",
          "state": {
            "_view_name": "HBoxView",
            "_dom_classes": [],
            "_model_name": "HBoxModel",
            "_view_module": "@jupyter-widgets/controls",
            "_model_module_version": "1.5.0",
            "_view_count": null,
            "_view_module_version": "1.5.0",
            "box_style": "",
            "layout": "IPY_MODEL_39316527df0a47599b1021a6a7b9876d",
            "_model_module": "@jupyter-widgets/controls",
            "children": [
              "IPY_MODEL_7ea7934a88eb490687245f5a20715ff5",
              "IPY_MODEL_5ea2c9397d554d40afe3e6c8e278fb68"
            ]
          }
        },
        "39316527df0a47599b1021a6a7b9876d": {
          "model_module": "@jupyter-widgets/base",
          "model_name": "LayoutModel",
          "state": {
            "_view_name": "LayoutView",
            "grid_template_rows": null,
            "right": null,
            "justify_content": null,
            "_view_module": "@jupyter-widgets/base",
            "overflow": null,
            "_model_module_version": "1.2.0",
            "_view_count": null,
            "flex_flow": null,
            "width": null,
            "min_width": null,
            "border": null,
            "align_items": null,
            "bottom": null,
            "_model_module": "@jupyter-widgets/base",
            "top": null,
            "grid_column": null,
            "overflow_y": null,
            "overflow_x": null,
            "grid_auto_flow": null,
            "grid_area": null,
            "grid_template_columns": null,
            "flex": null,
            "_model_name": "LayoutModel",
            "justify_items": null,
            "grid_row": null,
            "max_height": null,
            "align_content": null,
            "visibility": null,
            "align_self": null,
            "height": null,
            "min_height": null,
            "padding": null,
            "grid_auto_rows": null,
            "grid_gap": null,
            "max_width": null,
            "order": null,
            "_view_module_version": "1.2.0",
            "grid_template_areas": null,
            "object_position": null,
            "object_fit": null,
            "grid_auto_columns": null,
            "margin": null,
            "display": null,
            "left": null
          }
        },
        "7ea7934a88eb490687245f5a20715ff5": {
          "model_module": "@jupyter-widgets/controls",
          "model_name": "IntProgressModel",
          "state": {
            "_view_name": "ProgressView",
            "style": "IPY_MODEL_13d55a4d493044cb9157ade4c07eed3b",
            "_dom_classes": [],
            "description": "Downloading",
            "_model_name": "IntProgressModel",
            "bar_style": "success",
            "max": 898823,
            "_view_module": "@jupyter-widgets/controls",
            "_model_module_version": "1.5.0",
            "value": 898823,
            "_view_count": null,
            "_view_module_version": "1.5.0",
            "orientation": "horizontal",
            "min": 0,
            "description_tooltip": null,
            "_model_module": "@jupyter-widgets/controls",
            "layout": "IPY_MODEL_b3caaed2b4264401bff12145fa775f48"
          }
        },
        "5ea2c9397d554d40afe3e6c8e278fb68": {
          "model_module": "@jupyter-widgets/controls",
          "model_name": "HTMLModel",
          "state": {
            "_view_name": "HTMLView",
            "style": "IPY_MODEL_af2facf5e0ac41abb9466c6f494cc363",
            "_dom_classes": [],
            "description": "",
            "_model_name": "HTMLModel",
            "placeholder": "​",
            "_view_module": "@jupyter-widgets/controls",
            "_model_module_version": "1.5.0",
            "value": "100% 899k/899k [00:00&lt;00:00, 2.16MB/s]",
            "_view_count": null,
            "_view_module_version": "1.5.0",
            "description_tooltip": null,
            "_model_module": "@jupyter-widgets/controls",
            "layout": "IPY_MODEL_158d648f3eaa48cebd11626a289fc1d4"
          }
        },
        "13d55a4d493044cb9157ade4c07eed3b": {
          "model_module": "@jupyter-widgets/controls",
          "model_name": "ProgressStyleModel",
          "state": {
            "_view_name": "StyleView",
            "_model_name": "ProgressStyleModel",
            "description_width": "initial",
            "_view_module": "@jupyter-widgets/base",
            "_model_module_version": "1.5.0",
            "_view_count": null,
            "_view_module_version": "1.2.0",
            "bar_color": null,
            "_model_module": "@jupyter-widgets/controls"
          }
        },
        "b3caaed2b4264401bff12145fa775f48": {
          "model_module": "@jupyter-widgets/base",
          "model_name": "LayoutModel",
          "state": {
            "_view_name": "LayoutView",
            "grid_template_rows": null,
            "right": null,
            "justify_content": null,
            "_view_module": "@jupyter-widgets/base",
            "overflow": null,
            "_model_module_version": "1.2.0",
            "_view_count": null,
            "flex_flow": null,
            "width": null,
            "min_width": null,
            "border": null,
            "align_items": null,
            "bottom": null,
            "_model_module": "@jupyter-widgets/base",
            "top": null,
            "grid_column": null,
            "overflow_y": null,
            "overflow_x": null,
            "grid_auto_flow": null,
            "grid_area": null,
            "grid_template_columns": null,
            "flex": null,
            "_model_name": "LayoutModel",
            "justify_items": null,
            "grid_row": null,
            "max_height": null,
            "align_content": null,
            "visibility": null,
            "align_self": null,
            "height": null,
            "min_height": null,
            "padding": null,
            "grid_auto_rows": null,
            "grid_gap": null,
            "max_width": null,
            "order": null,
            "_view_module_version": "1.2.0",
            "grid_template_areas": null,
            "object_position": null,
            "object_fit": null,
            "grid_auto_columns": null,
            "margin": null,
            "display": null,
            "left": null
          }
        },
        "af2facf5e0ac41abb9466c6f494cc363": {
          "model_module": "@jupyter-widgets/controls",
          "model_name": "DescriptionStyleModel",
          "state": {
            "_view_name": "StyleView",
            "_model_name": "DescriptionStyleModel",
            "description_width": "",
            "_view_module": "@jupyter-widgets/base",
            "_model_module_version": "1.5.0",
            "_view_count": null,
            "_view_module_version": "1.2.0",
            "_model_module": "@jupyter-widgets/controls"
          }
        },
        "158d648f3eaa48cebd11626a289fc1d4": {
          "model_module": "@jupyter-widgets/base",
          "model_name": "LayoutModel",
          "state": {
            "_view_name": "LayoutView",
            "grid_template_rows": null,
            "right": null,
            "justify_content": null,
            "_view_module": "@jupyter-widgets/base",
            "overflow": null,
            "_model_module_version": "1.2.0",
            "_view_count": null,
            "flex_flow": null,
            "width": null,
            "min_width": null,
            "border": null,
            "align_items": null,
            "bottom": null,
            "_model_module": "@jupyter-widgets/base",
            "top": null,
            "grid_column": null,
            "overflow_y": null,
            "overflow_x": null,
            "grid_auto_flow": null,
            "grid_area": null,
            "grid_template_columns": null,
            "flex": null,
            "_model_name": "LayoutModel",
            "justify_items": null,
            "grid_row": null,
            "max_height": null,
            "align_content": null,
            "visibility": null,
            "align_self": null,
            "height": null,
            "min_height": null,
            "padding": null,
            "grid_auto_rows": null,
            "grid_gap": null,
            "max_width": null,
            "order": null,
            "_view_module_version": "1.2.0",
            "grid_template_areas": null,
            "object_position": null,
            "object_fit": null,
            "grid_auto_columns": null,
            "margin": null,
            "display": null,
            "left": null
          }
        },
        "7bd1b022f50641a087a2adeef89fff35": {
          "model_module": "@jupyter-widgets/controls",
          "model_name": "HBoxModel",
          "state": {
            "_view_name": "HBoxView",
            "_dom_classes": [],
            "_model_name": "HBoxModel",
            "_view_module": "@jupyter-widgets/controls",
            "_model_module_version": "1.5.0",
            "_view_count": null,
            "_view_module_version": "1.5.0",
            "box_style": "",
            "layout": "IPY_MODEL_90f9e40635524e608838e110971ab5e8",
            "_model_module": "@jupyter-widgets/controls",
            "children": [
              "IPY_MODEL_5c636a4f3b854e1f906a1a24e5ae5f2a",
              "IPY_MODEL_4c707edb698c4b40b59abb68d77817f9"
            ]
          }
        },
        "90f9e40635524e608838e110971ab5e8": {
          "model_module": "@jupyter-widgets/base",
          "model_name": "LayoutModel",
          "state": {
            "_view_name": "LayoutView",
            "grid_template_rows": null,
            "right": null,
            "justify_content": null,
            "_view_module": "@jupyter-widgets/base",
            "overflow": null,
            "_model_module_version": "1.2.0",
            "_view_count": null,
            "flex_flow": null,
            "width": null,
            "min_width": null,
            "border": null,
            "align_items": null,
            "bottom": null,
            "_model_module": "@jupyter-widgets/base",
            "top": null,
            "grid_column": null,
            "overflow_y": null,
            "overflow_x": null,
            "grid_auto_flow": null,
            "grid_area": null,
            "grid_template_columns": null,
            "flex": null,
            "_model_name": "LayoutModel",
            "justify_items": null,
            "grid_row": null,
            "max_height": null,
            "align_content": null,
            "visibility": null,
            "align_self": null,
            "height": null,
            "min_height": null,
            "padding": null,
            "grid_auto_rows": null,
            "grid_gap": null,
            "max_width": null,
            "order": null,
            "_view_module_version": "1.2.0",
            "grid_template_areas": null,
            "object_position": null,
            "object_fit": null,
            "grid_auto_columns": null,
            "margin": null,
            "display": null,
            "left": null
          }
        },
        "5c636a4f3b854e1f906a1a24e5ae5f2a": {
          "model_module": "@jupyter-widgets/controls",
          "model_name": "IntProgressModel",
          "state": {
            "_view_name": "ProgressView",
            "style": "IPY_MODEL_7d10b42861cc43d79be2d5fd1bd80527",
            "_dom_classes": [],
            "description": "Downloading",
            "_model_name": "IntProgressModel",
            "bar_style": "success",
            "max": 456318,
            "_view_module": "@jupyter-widgets/controls",
            "_model_module_version": "1.5.0",
            "value": 456318,
            "_view_count": null,
            "_view_module_version": "1.5.0",
            "orientation": "horizontal",
            "min": 0,
            "description_tooltip": null,
            "_model_module": "@jupyter-widgets/controls",
            "layout": "IPY_MODEL_d40315fe3d8f4f39918c92911917e5aa"
          }
        },
        "4c707edb698c4b40b59abb68d77817f9": {
          "model_module": "@jupyter-widgets/controls",
          "model_name": "HTMLModel",
          "state": {
            "_view_name": "HTMLView",
            "style": "IPY_MODEL_50eabcf1978f4a60a0e790b514694b6f",
            "_dom_classes": [],
            "description": "",
            "_model_name": "HTMLModel",
            "placeholder": "​",
            "_view_module": "@jupyter-widgets/controls",
            "_model_module_version": "1.5.0",
            "value": "100% 456k/456k [00:00&lt;00:00, 1.29MB/s]",
            "_view_count": null,
            "_view_module_version": "1.5.0",
            "description_tooltip": null,
            "_model_module": "@jupyter-widgets/controls",
            "layout": "IPY_MODEL_5c44427884244f9494cb5115f0d985b0"
          }
        },
        "7d10b42861cc43d79be2d5fd1bd80527": {
          "model_module": "@jupyter-widgets/controls",
          "model_name": "ProgressStyleModel",
          "state": {
            "_view_name": "StyleView",
            "_model_name": "ProgressStyleModel",
            "description_width": "initial",
            "_view_module": "@jupyter-widgets/base",
            "_model_module_version": "1.5.0",
            "_view_count": null,
            "_view_module_version": "1.2.0",
            "bar_color": null,
            "_model_module": "@jupyter-widgets/controls"
          }
        },
        "d40315fe3d8f4f39918c92911917e5aa": {
          "model_module": "@jupyter-widgets/base",
          "model_name": "LayoutModel",
          "state": {
            "_view_name": "LayoutView",
            "grid_template_rows": null,
            "right": null,
            "justify_content": null,
            "_view_module": "@jupyter-widgets/base",
            "overflow": null,
            "_model_module_version": "1.2.0",
            "_view_count": null,
            "flex_flow": null,
            "width": null,
            "min_width": null,
            "border": null,
            "align_items": null,
            "bottom": null,
            "_model_module": "@jupyter-widgets/base",
            "top": null,
            "grid_column": null,
            "overflow_y": null,
            "overflow_x": null,
            "grid_auto_flow": null,
            "grid_area": null,
            "grid_template_columns": null,
            "flex": null,
            "_model_name": "LayoutModel",
            "justify_items": null,
            "grid_row": null,
            "max_height": null,
            "align_content": null,
            "visibility": null,
            "align_self": null,
            "height": null,
            "min_height": null,
            "padding": null,
            "grid_auto_rows": null,
            "grid_gap": null,
            "max_width": null,
            "order": null,
            "_view_module_version": "1.2.0",
            "grid_template_areas": null,
            "object_position": null,
            "object_fit": null,
            "grid_auto_columns": null,
            "margin": null,
            "display": null,
            "left": null
          }
        },
        "50eabcf1978f4a60a0e790b514694b6f": {
          "model_module": "@jupyter-widgets/controls",
          "model_name": "DescriptionStyleModel",
          "state": {
            "_view_name": "StyleView",
            "_model_name": "DescriptionStyleModel",
            "description_width": "",
            "_view_module": "@jupyter-widgets/base",
            "_model_module_version": "1.5.0",
            "_view_count": null,
            "_view_module_version": "1.2.0",
            "_model_module": "@jupyter-widgets/controls"
          }
        },
        "5c44427884244f9494cb5115f0d985b0": {
          "model_module": "@jupyter-widgets/base",
          "model_name": "LayoutModel",
          "state": {
            "_view_name": "LayoutView",
            "grid_template_rows": null,
            "right": null,
            "justify_content": null,
            "_view_module": "@jupyter-widgets/base",
            "overflow": null,
            "_model_module_version": "1.2.0",
            "_view_count": null,
            "flex_flow": null,
            "width": null,
            "min_width": null,
            "border": null,
            "align_items": null,
            "bottom": null,
            "_model_module": "@jupyter-widgets/base",
            "top": null,
            "grid_column": null,
            "overflow_y": null,
            "overflow_x": null,
            "grid_auto_flow": null,
            "grid_area": null,
            "grid_template_columns": null,
            "flex": null,
            "_model_name": "LayoutModel",
            "justify_items": null,
            "grid_row": null,
            "max_height": null,
            "align_content": null,
            "visibility": null,
            "align_self": null,
            "height": null,
            "min_height": null,
            "padding": null,
            "grid_auto_rows": null,
            "grid_gap": null,
            "max_width": null,
            "order": null,
            "_view_module_version": "1.2.0",
            "grid_template_areas": null,
            "object_position": null,
            "object_fit": null,
            "grid_auto_columns": null,
            "margin": null,
            "display": null,
            "left": null
          }
        }
      }
    }
  },
  "cells": [
    {
      "cell_type": "code",
      "metadata": {
        "id": "lfiaGYgRbz7S",
        "colab_type": "code",
        "outputId": "2df90f76-8766-44e3-804d-1a223cea6d66",
        "colab": {
          "base_uri": "https://localhost:8080/",
          "height": 102
        }
      },
      "source": [
        "!test -d bert_repo || git clone https://github.com/google-research/bert bert_repo"
      ],
      "execution_count": 0,
      "outputs": [
        {
          "output_type": "stream",
          "text": [
            "Cloning into 'bert_repo'...\n",
            "remote: Enumerating objects: 340, done.\u001b[K\n",
            "remote: Total 340 (delta 0), reused 0 (delta 0), pack-reused 340\u001b[K\n",
            "Receiving objects: 100% (340/340), 300.28 KiB | 1.57 MiB/s, done.\n",
            "Resolving deltas: 100% (185/185), done.\n"
          ],
          "name": "stdout"
        }
      ]
    },
    {
      "cell_type": "code",
      "metadata": {
        "id": "-wm8rrHmbzxR",
        "colab_type": "code",
        "outputId": "88df7c47-cd60-4960-f19b-e631b1cd90ad",
        "colab": {
          "base_uri": "https://localhost:8080/",
          "height": 139
        }
      },
      "source": [
        "!pip install bert-tensorflow"
      ],
      "execution_count": 0,
      "outputs": [
        {
          "output_type": "stream",
          "text": [
            "Collecting bert-tensorflow\n",
            "\u001b[?25l  Downloading https://files.pythonhosted.org/packages/a6/66/7eb4e8b6ea35b7cc54c322c816f976167a43019750279a8473d355800a93/bert_tensorflow-1.0.1-py2.py3-none-any.whl (67kB)\n",
            "\r\u001b[K     |████▉                           | 10kB 20.9MB/s eta 0:00:01\r\u001b[K     |█████████▊                      | 20kB 3.2MB/s eta 0:00:01\r\u001b[K     |██████████████▋                 | 30kB 4.6MB/s eta 0:00:01\r\u001b[K     |███████████████████▍            | 40kB 3.0MB/s eta 0:00:01\r\u001b[K     |████████████████████████▎       | 51kB 3.7MB/s eta 0:00:01\r\u001b[K     |█████████████████████████████▏  | 61kB 4.4MB/s eta 0:00:01\r\u001b[K     |████████████████████████████████| 71kB 3.5MB/s \n",
            "\u001b[?25hRequirement already satisfied: six in /usr/local/lib/python3.6/dist-packages (from bert-tensorflow) (1.12.0)\n",
            "Installing collected packages: bert-tensorflow\n",
            "Successfully installed bert-tensorflow-1.0.1\n"
          ],
          "name": "stdout"
        }
      ]
    },
    {
      "cell_type": "code",
      "metadata": {
        "id": "berOltcHvqYR",
        "colab_type": "code",
        "outputId": "0213a1e9-8241-4f6d-c0c3-d0bf152895e4",
        "colab": {
          "base_uri": "https://localhost:8080/",
          "height": 768
        }
      },
      "source": [
        "!pip install simplerepresentations"
      ],
      "execution_count": 0,
      "outputs": [
        {
          "output_type": "stream",
          "text": [
            "Collecting simplerepresentations\n",
            "  Downloading https://files.pythonhosted.org/packages/b6/c7/6b3dbc9b94612307a1f360640da888d5599783b601b0944422e1ba560b58/simplerepresentations-0.0.4.tar.gz\n",
            "Requirement already satisfied: numpy in /usr/local/lib/python3.6/dist-packages (from simplerepresentations) (1.18.1)\n",
            "Requirement already satisfied: torch in /usr/local/lib/python3.6/dist-packages (from simplerepresentations) (1.4.0)\n",
            "Collecting transformers\n",
            "\u001b[?25l  Downloading https://files.pythonhosted.org/packages/13/33/ffb67897a6985a7b7d8e5e7878c3628678f553634bd3836404fef06ef19b/transformers-2.5.1-py3-none-any.whl (499kB)\n",
            "\u001b[K     |████████████████████████████████| 501kB 6.6MB/s \n",
            "\u001b[?25hRequirement already satisfied: tqdm in /usr/local/lib/python3.6/dist-packages (from simplerepresentations) (4.28.1)\n",
            "Collecting tokenizers==0.5.2\n",
            "\u001b[?25l  Downloading https://files.pythonhosted.org/packages/d1/3f/73c881ea4723e43c1e9acf317cf407fab3a278daab3a69c98dcac511c04f/tokenizers-0.5.2-cp36-cp36m-manylinux1_x86_64.whl (3.7MB)\n",
            "\u001b[K     |████████████████████████████████| 3.7MB 49.1MB/s \n",
            "\u001b[?25hRequirement already satisfied: regex!=2019.12.17 in /usr/local/lib/python3.6/dist-packages (from transformers->simplerepresentations) (2019.12.20)\n",
            "Collecting sentencepiece\n",
            "\u001b[?25l  Downloading https://files.pythonhosted.org/packages/74/f4/2d5214cbf13d06e7cb2c20d84115ca25b53ea76fa1f0ade0e3c9749de214/sentencepiece-0.1.85-cp36-cp36m-manylinux1_x86_64.whl (1.0MB)\n",
            "\u001b[K     |████████████████████████████████| 1.0MB 36.8MB/s \n",
            "\u001b[?25hRequirement already satisfied: requests in /usr/local/lib/python3.6/dist-packages (from transformers->simplerepresentations) (2.21.0)\n",
            "Collecting sacremoses\n",
            "\u001b[?25l  Downloading https://files.pythonhosted.org/packages/a6/b4/7a41d630547a4afd58143597d5a49e07bfd4c42914d8335b2a5657efc14b/sacremoses-0.0.38.tar.gz (860kB)\n",
            "\u001b[K     |████████████████████████████████| 870kB 50.4MB/s \n",
            "\u001b[?25hRequirement already satisfied: boto3 in /usr/local/lib/python3.6/dist-packages (from transformers->simplerepresentations) (1.12.18)\n",
            "Requirement already satisfied: filelock in /usr/local/lib/python3.6/dist-packages (from transformers->simplerepresentations) (3.0.12)\n",
            "Requirement already satisfied: idna<2.9,>=2.5 in /usr/local/lib/python3.6/dist-packages (from requests->transformers->simplerepresentations) (2.8)\n",
            "Requirement already satisfied: urllib3<1.25,>=1.21.1 in /usr/local/lib/python3.6/dist-packages (from requests->transformers->simplerepresentations) (1.24.3)\n",
            "Requirement already satisfied: certifi>=2017.4.17 in /usr/local/lib/python3.6/dist-packages (from requests->transformers->simplerepresentations) (2019.11.28)\n",
            "Requirement already satisfied: chardet<3.1.0,>=3.0.2 in /usr/local/lib/python3.6/dist-packages (from requests->transformers->simplerepresentations) (3.0.4)\n",
            "Requirement already satisfied: six in /usr/local/lib/python3.6/dist-packages (from sacremoses->transformers->simplerepresentations) (1.12.0)\n",
            "Requirement already satisfied: click in /usr/local/lib/python3.6/dist-packages (from sacremoses->transformers->simplerepresentations) (7.1.1)\n",
            "Requirement already satisfied: joblib in /usr/local/lib/python3.6/dist-packages (from sacremoses->transformers->simplerepresentations) (0.14.1)\n",
            "Requirement already satisfied: jmespath<1.0.0,>=0.7.1 in /usr/local/lib/python3.6/dist-packages (from boto3->transformers->simplerepresentations) (0.9.5)\n",
            "Requirement already satisfied: s3transfer<0.4.0,>=0.3.0 in /usr/local/lib/python3.6/dist-packages (from boto3->transformers->simplerepresentations) (0.3.3)\n",
            "Requirement already satisfied: botocore<1.16.0,>=1.15.18 in /usr/local/lib/python3.6/dist-packages (from boto3->transformers->simplerepresentations) (1.15.18)\n",
            "Requirement already satisfied: docutils<0.16,>=0.10 in /usr/local/lib/python3.6/dist-packages (from botocore<1.16.0,>=1.15.18->boto3->transformers->simplerepresentations) (0.15.2)\n",
            "Requirement already satisfied: python-dateutil<3.0.0,>=2.1 in /usr/local/lib/python3.6/dist-packages (from botocore<1.16.0,>=1.15.18->boto3->transformers->simplerepresentations) (2.8.1)\n",
            "Building wheels for collected packages: simplerepresentations, sacremoses\n",
            "  Building wheel for simplerepresentations (setup.py) ... \u001b[?25l\u001b[?25hdone\n",
            "  Created wheel for simplerepresentations: filename=simplerepresentations-0.0.4-cp36-none-any.whl size=8439 sha256=89c3c847af38803285feea2865d25759914ac18d17243096d734f030056af3d0\n",
            "  Stored in directory: /root/.cache/pip/wheels/ab/cd/ab/6ba46ab4845442abb114bf92136a0d760151de2ccfb3af4d7d\n",
            "  Building wheel for sacremoses (setup.py) ... \u001b[?25l\u001b[?25hdone\n",
            "  Created wheel for sacremoses: filename=sacremoses-0.0.38-cp36-none-any.whl size=884628 sha256=829ac34b7e9405c38b50ee3b2cc542d8cd6585b59d8dd583fe638c8935473dc5\n",
            "  Stored in directory: /root/.cache/pip/wheels/6d/ec/1a/21b8912e35e02741306f35f66c785f3afe94de754a0eaf1422\n",
            "Successfully built simplerepresentations sacremoses\n",
            "Installing collected packages: tokenizers, sentencepiece, sacremoses, transformers, simplerepresentations\n",
            "Successfully installed sacremoses-0.0.38 sentencepiece-0.1.85 simplerepresentations-0.0.4 tokenizers-0.5.2 transformers-2.5.1\n"
          ],
          "name": "stdout"
        }
      ]
    },
    {
      "cell_type": "code",
      "metadata": {
        "id": "UMOCjSYobuJX",
        "colab_type": "code",
        "colab": {}
      },
      "source": [
        "import tensorflow as tf\n",
        "import pandas as pd\n",
        "import tensorflow_hub as hub\n",
        "import os\n",
        "import re\n",
        "import os\n",
        "import time\n",
        "import numpy as np # linear algebra\n",
        "import pandas as pd # data processing, CSV file I/O (e.g. pd.read_csv)\n",
        "from tqdm import tqdm\n",
        "import spacy\n",
        "import math\n",
        "from sklearn.model_selection import train_test_split\n",
        "from sklearn import metrics\n",
        "import matplotlib.pyplot as plt\n",
        "from keras.preprocessing.text import Tokenizer\n",
        "from keras.preprocessing.sequence import pad_sequences\n",
        "from keras.layers import Dense, Input, LSTM, Embedding, Dropout, Activation, CuDNNGRU, Conv1D\n",
        "from keras.layers import Bidirectional, GlobalMaxPool1D\n",
        "from keras.models import Model\n",
        "from keras import initializers, regularizers, constraints, optimizers, layers\n",
        "%matplotlib inline\n",
        "import numpy as np\n",
        "# from bert.tokenization import FullTokenizer\n",
        "from tqdm import tqdm_notebook\n",
        "from tensorflow.keras import backend as K\n",
        "from __future__ import absolute_import, division\n",
        "\n",
        "import os\n",
        "import time\n",
        "import numpy as np\n",
        "import pandas as pd\n",
        "import gensim\n",
        "from tqdm import tqdm\n",
        "from nltk.stem import PorterStemmer\n",
        "ps = PorterStemmer()\n",
        "from nltk.stem.lancaster import LancasterStemmer\n",
        "lc = LancasterStemmer()\n",
        "from nltk.stem import SnowballStemmer\n",
        "sb = SnowballStemmer(\"english\")\n",
        "import gc\n",
        "\n",
        "from keras.preprocessing.text import Tokenizer\n",
        "from keras.preprocessing.sequence import pad_sequences\n",
        "from keras.layers import Dense, Input, CuDNNLSTM, Embedding, Dropout, Activation, CuDNNGRU, Conv1D\n",
        "from keras.layers import Bidirectional, GlobalMaxPool1D, GlobalMaxPooling1D, GlobalAveragePooling1D\n",
        "from keras.layers import Input, Embedding, Dense, Conv2D, MaxPool2D, concatenate\n",
        "from keras.layers import Reshape, Flatten, Concatenate, Dropout, SpatialDropout1D\n",
        "from keras.optimizers import Adam\n",
        "from keras.models import Model\n",
        "from keras import backend as K\n",
        "from keras.engine.topology import Layer\n",
        "from keras import initializers, regularizers, constraints, optimizers, layers\n",
        "\n",
        "import sys\n",
        "from os.path import dirname\n",
        "#sys.path.append(dirname(dirname(__file__)))\n",
        "from keras import initializers\n",
        "from keras.engine import InputSpec, Layer\n",
        "from keras import backend as K\n",
        "\n",
        "import spacy\n",
        "\n",
        "# Initialize session\n",
        "sess = tf.Session()\n",
        "\n",
        "\n"
      ],
      "execution_count": 0,
      "outputs": []
    },
    {
      "cell_type": "code",
      "metadata": {
        "id": "uvhDbH2jgycU",
        "colab_type": "code",
        "colab": {}
      },
      "source": [
        "from keras import backend as K\n",
        "# Params for bert model and tokenization\n",
        "bert_path = \"https://tfhub.dev/google/bert_uncased_L-12_H-768_A-12/1\"\n",
        "max_seq_length = 140\n",
        "import pandas as pd\n",
        "import numpy as np\n",
        "\n",
        "def f1(y_true, y_pred):\n",
        "    def recall(y_true, y_pred):\n",
        "        \"\"\"Recall metric.\n",
        "\n",
        "        Only computes a batch-wise average of recall.\n",
        "\n",
        "        Computes the recall, a metric for multi-label classification of\n",
        "        how many relevant items are selected.\n",
        "        \"\"\"\n",
        "        true_positives = K.sum(K.round(K.clip(y_true * y_pred, 0, 1)))\n",
        "        possible_positives = K.sum(K.round(K.clip(y_true, 0, 1)))\n",
        "        recall = true_positives / (possible_positives + K.epsilon())\n",
        "        return recall\n",
        "\n",
        "    def precision(y_true, y_pred):\n",
        "        \"\"\"Precision metric.\n",
        "\n",
        "        Only computes a batch-wise average of precision.\n",
        "\n",
        "        Computes the precision, a metric for multi-label classification of\n",
        "        how many selected items are relevant.\n",
        "        \"\"\"\n",
        "        true_positives = K.sum(K.round(K.clip(y_true * y_pred, 0, 1)))\n",
        "        predicted_positives = K.sum(K.round(K.clip(y_pred, 0, 1)))\n",
        "        precision = true_positives / (predicted_positives + K.epsilon())\n",
        "        return precision\n",
        "    precision = precision(y_true, y_pred)\n",
        "    recall = recall(y_true, y_pred)\n",
        "    return 2*((precision*recall)/(precision+recall+K.epsilon()))\n"
      ],
      "execution_count": 0,
      "outputs": []
    },
    {
      "cell_type": "code",
      "metadata": {
        "id": "21WcoAe-hC48",
        "colab_type": "code",
        "colab": {}
      },
      "source": [
        "def plt_dynamic(epoch):\n",
        "    fig,ax = plt.subplots(1,1)\n",
        "    x = list(range(1,epoch+1))\n",
        "\n",
        "    vy = history.history['val_loss']\n",
        "    ty = history.history['loss']\n",
        "    ax.set_xlabel('epoch') ; ax.set_ylabel('Categorical Crossentropy Loss')\n",
        "    ax.plot(x, vy, 'b', label=\"Validation Loss\")\n",
        "    ax.plot(x, ty, 'r', label=\"Train Loss\")\n",
        "    plt.legend()\n",
        "    plt.grid()\n",
        "    fig.canvas.draw()\n",
        "from sklearn.metrics import f1_score"
      ],
      "execution_count": 0,
      "outputs": []
    },
    {
      "cell_type": "code",
      "metadata": {
        "id": "EhSt3oceabY9",
        "colab_type": "code",
        "colab": {}
      },
      "source": [
        "train = pd.read_csv('/content/drive/My Drive/Colab Notebooks/train.csv').fillna(' ')\n",
        "test = pd.read_csv('/content/drive/My Drive/Colab Notebooks/test.csv').fillna(' ')\n",
        "original=pd.read_csv(\"/content/drive/My Drive/Colab Notebooks/NLP Original.csv\")"
      ],
      "execution_count": 0,
      "outputs": []
    },
    {
      "cell_type": "code",
      "metadata": {
        "id": "l82MeRsecvOX",
        "colab_type": "code",
        "colab": {}
      },
      "source": [
        "from keras.layers import Layer\n",
        "\n",
        "class BertLayer(Layer):\n",
        "    def __init__(self, n_fine_tune_layers=10, **kwargs):\n",
        "        self.n_fine_tune_layers = n_fine_tune_layers\n",
        "        self.trainable = True\n",
        "        self.output_size = 768\n",
        "        super(BertLayer, self).__init__(**kwargs)\n",
        "\n",
        "    def build(self, input_shape):\n",
        "        self.bert = hub.Module(\n",
        "            bert_path,\n",
        "            trainable=self.trainable,\n",
        "            name=\"{}_module\".format(self.name)\n",
        "        )\n",
        "        trainable_vars = self.bert.variables\n",
        "        \n",
        "        # Remove unused layers\n",
        "        trainable_vars = [var for var in trainable_vars if not \"/cls/\" in var.name]\n",
        "        \n",
        "        # Select how many layers to fine tune\n",
        "        trainable_vars = trainable_vars[-self.n_fine_tune_layers :]\n",
        "        \n",
        "        # Add to trainable weights\n",
        "        for var in trainable_vars:\n",
        "            self._trainable_weights.append(var)\n",
        "        \n",
        "        # Add non-trainable weights\n",
        "        for var in self.bert.variables:\n",
        "            if var not in self._trainable_weights:\n",
        "                self._non_trainable_weights.append(var)\n",
        "        \n",
        "        super(BertLayer, self).build(input_shape)\n",
        "\n",
        "    def call(self, inputs):\n",
        "        inputs = [K.cast(x, dtype=\"int32\") for x in inputs]\n",
        "        input_ids, input_mask, segment_ids = inputs\n",
        "        bert_inputs = dict(\n",
        "            input_ids=input_ids, input_mask=input_mask, segment_ids=segment_ids\n",
        "        )\n",
        "        result = self.bert(inputs=bert_inputs, signature=\"tokens\", as_dict=True)[\n",
        "            \"pooled_output\"\n",
        "        ]\n",
        "        return result\n",
        "\n",
        "    def compute_output_shape(self, input_shape):\n",
        "        return (input_shape[0], self.output_size)"
      ],
      "execution_count": 0,
      "outputs": []
    },
    {
      "cell_type": "code",
      "metadata": {
        "id": "DsoF54o5btee",
        "colab_type": "code",
        "colab": {}
      },
      "source": [
        "# Build model\n",
        "def build_model(max_seq_length): \n",
        "    in_id = Input(shape=(max_seq_length,), name=\"input_ids\")\n",
        "    in_mask = Input(shape=(max_seq_length,), name=\"input_masks\")\n",
        "    in_segment = Input(shape=(max_seq_length,), name=\"segment_ids\")\n",
        "    bert_inputs = [in_id, in_mask, in_segment]\n",
        "    \n",
        "    bert_output = BertLayer(n_fine_tune_layers=3)(bert_inputs)\n",
        "    dense = Dense(256, activation='relu')(bert_output)\n",
        "    pred = Dense(1, activation='sigmoid')(dense)\n",
        "    \n",
        "    model = Model(inputs=bert_inputs, outputs=pred)\n",
        "    model.compile(loss='binary_crossentropy', optimizer='adam', metrics=['accuracy'])\n",
        "    model.summary()\n",
        "    \n",
        "    return model\n",
        "\n",
        "def initialize_vars(sess):\n",
        "    sess.run(tf.local_variables_initializer())\n",
        "    sess.run(tf.global_variables_initializer())\n",
        "    sess.run(tf.tables_initializer())\n",
        "    K.set_session(sess)\n",
        "from sklearn.model_selection import train_test_split\n",
        "\n",
        "class PaddingInputExample(object):\n",
        "    \"\"\"Fake example so the num input examples is a multiple of the batch size.\n",
        "  When running eval/predict on the TPU, we need to pad the number of examples\n",
        "  to be a multiple of the batch size, because the TPU requires a fixed batch\n",
        "  size. The alternative is to drop the last batch, which is bad because it means\n",
        "  the entire output data won't be generated.\n",
        "  We use this class instead of `None` because treating `None` as padding\n",
        "  battches could cause silent errors.\n",
        "  \"\"\"\n",
        "\n",
        "class InputExample(object):\n",
        "    \"\"\"A single training/test example for simple sequence classification.\"\"\"\n",
        "\n",
        "    def __init__(self, guid, text_a, text_b=None, label=None):\n",
        "        \"\"\"Constructs a InputExample.\n",
        "    Args:\n",
        "      guid: Unique id for the example.\n",
        "      text_a: string. The untokenized text of the first sequence. For single\n",
        "        sequence tasks, only this sequence must be specified.\n",
        "      text_b: (Optional) string. The untokenized text of the second sequence.\n",
        "        Only must be specified for sequence pair tasks.\n",
        "      label: (Optional) string. The label of the example. This should be\n",
        "        specified for train and dev examples, but not for test examples.\n",
        "    \"\"\"\n",
        "        self.guid = guid\n",
        "        self.text_a = text_a\n",
        "        self.text_b = text_b\n",
        "        self.label = label\n",
        "\n",
        "def create_tokenizer_from_hub_module():\n",
        "    \"\"\"Get the vocab file and casing info from the Hub module.\"\"\"\n",
        "    bert_module =  hub.Module(bert_path)\n",
        "    tokenization_info = bert_module(signature=\"tokenization_info\", as_dict=True)\n",
        "    vocab_file, do_lower_case = sess.run(\n",
        "        [\n",
        "            tokenization_info[\"vocab_file\"],\n",
        "            tokenization_info[\"do_lower_case\"],\n",
        "        ]\n",
        "    )\n",
        "\n",
        "    return FullTokenizer(vocab_file=vocab_file, do_lower_case=do_lower_case)\n",
        "\n",
        "def convert_single_example(tokenizer, example, max_seq_length=256):\n",
        "    \"\"\"Converts a single `InputExample` into a single `InputFeatures`.\"\"\"\n",
        "\n",
        "    if isinstance(example, PaddingInputExample):\n",
        "        input_ids = [0] * max_seq_length\n",
        "        input_mask = [0] * max_seq_length\n",
        "        segment_ids = [0] * max_seq_length\n",
        "        label = 0\n",
        "        return input_ids, input_mask, segment_ids, label\n",
        "\n",
        "    tokens_a = tokenizer.tokenize(example.text_a)\n",
        "    if len(tokens_a) > max_seq_length - 2:\n",
        "        tokens_a = tokens_a[0 : (max_seq_length - 2)]\n",
        "\n",
        "    tokens = []\n",
        "    segment_ids = []\n",
        "    tokens.append(\"[CLS]\")\n",
        "    segment_ids.append(0)\n",
        "    for token in tokens_a:\n",
        "        tokens.append(token)\n",
        "        segment_ids.append(0)\n",
        "    tokens.append(\"[SEP]\")\n",
        "    segment_ids.append(0)\n",
        "\n",
        "    input_ids = tokenizer.convert_tokens_to_ids(tokens)\n",
        "\n",
        "    # The mask has 1 for real tokens and 0 for padding tokens. Only real\n",
        "    # tokens are attended to.\n",
        "    input_mask = [1] * len(input_ids)\n",
        "\n",
        "    # Zero-pad up to the sequence length.\n",
        "    while len(input_ids) < max_seq_length:\n",
        "        input_ids.append(0)\n",
        "        input_mask.append(0)\n",
        "        segment_ids.append(0)\n",
        "\n",
        "    assert len(input_ids) == max_seq_length\n",
        "    assert len(input_mask) == max_seq_length\n",
        "    assert len(segment_ids) == max_seq_length\n",
        "\n",
        "    return input_ids, input_mask, segment_ids, example.label\n",
        "\n",
        "def convert_examples_to_features(tokenizer, examples, max_seq_length=256):\n",
        "    \"\"\"Convert a set of `InputExample`s to a list of `InputFeatures`.\"\"\"\n",
        "\n",
        "    input_ids, input_masks, segment_ids, labels = [], [], [], []\n",
        "    for example in tqdm_notebook(examples, desc=\"Converting examples to features\"):\n",
        "        input_id, input_mask, segment_id, label = convert_single_example(\n",
        "            tokenizer, example, max_seq_length\n",
        "        )\n",
        "        input_ids.append(input_id)\n",
        "        input_masks.append(input_mask)\n",
        "        segment_ids.append(segment_id)\n",
        "        labels.append(label)\n",
        "    return (\n",
        "        np.array(input_ids),\n",
        "        np.array(input_masks),\n",
        "        np.array(segment_ids),\n",
        "        np.array(labels).reshape(-1, 1),\n",
        "    )\n",
        "\n",
        "def convert_text_to_examples(texts, labels):\n",
        "    \"\"\"Create InputExamples\"\"\"\n",
        "    InputExamples = []\n",
        "    for text, label in zip(texts, labels):\n",
        "        InputExamples.append(\n",
        "            InputExample(guid=None, text_a=\" \".join(text), text_b=None, label=label)\n",
        "        )\n",
        "    return InputExamples\n",
        "\n",
        "def convert_text_to_examples_test(texts):\n",
        "  InputExamples = []\n",
        "  for text in texts:\n",
        "    InputExamples.append(InputExample(guid=None, text_a=\" \".join(text), text_b=None))\n",
        "    \n",
        "  return InputExamples\n",
        "def convert_examples_to_features_test(tokenizer, examples, max_seq_length=160):\n",
        "    \"\"\"Convert a set of `InputExample`s to a list of `InputFeatures`.\"\"\"\n",
        "\n",
        "    input_ids, input_masks, segment_ids = [], [], []\n",
        "    for example in tqdm_notebook(examples, desc=\"Converting examples to features\"):\n",
        "        input_id, input_mask, segment_id, label = convert_single_example(\n",
        "            tokenizer, example, max_seq_length\n",
        "        )\n",
        "        input_ids.append(input_id)\n",
        "        input_masks.append(input_mask)\n",
        "        segment_ids.append(segment_id)\n",
        "        \n",
        "    return (\n",
        "        np.array(input_ids),\n",
        "        np.array(input_masks),\n",
        "        np.array(segment_ids),\n",
        "           )"
      ],
      "execution_count": 0,
      "outputs": []
    },
    {
      "cell_type": "code",
      "metadata": {
        "id": "g7TN3oUDcOdO",
        "colab_type": "code",
        "outputId": "f5e47f21-8f71-4945-8ea8-93e3db1aad4d",
        "colab": {
          "base_uri": "https://localhost:8080/",
          "height": 316
        }
      },
      "source": [
        "# Instantiate tokenizer\n",
        "tokenizer = create_tokenizer_from_hub_module()"
      ],
      "execution_count": 0,
      "outputs": [
        {
          "output_type": "stream",
          "text": [
            "INFO:tensorflow:Saver not created because there are no variables in the graph to restore\n"
          ],
          "name": "stdout"
        },
        {
          "output_type": "stream",
          "text": [
            "INFO:tensorflow:Saver not created because there are no variables in the graph to restore\n"
          ],
          "name": "stderr"
        },
        {
          "output_type": "error",
          "ename": "NameError",
          "evalue": "ignored",
          "traceback": [
            "\u001b[0;31m---------------------------------------------------------------------------\u001b[0m",
            "\u001b[0;31mNameError\u001b[0m                                 Traceback (most recent call last)",
            "\u001b[0;32m<ipython-input-91-c62151a3d5a7>\u001b[0m in \u001b[0;36m<module>\u001b[0;34m()\u001b[0m\n\u001b[0;32m----> 1\u001b[0;31m \u001b[0mtokenizer\u001b[0m \u001b[0;34m=\u001b[0m \u001b[0mcreate_tokenizer_from_hub_module\u001b[0m\u001b[0;34m(\u001b[0m\u001b[0;34m)\u001b[0m\u001b[0;34m\u001b[0m\u001b[0;34m\u001b[0m\u001b[0m\n\u001b[0m",
            "\u001b[0;32m<ipython-input-90-b43eaa2742c6>\u001b[0m in \u001b[0;36mcreate_tokenizer_from_hub_module\u001b[0;34m()\u001b[0m\n\u001b[1;32m     62\u001b[0m     )\n\u001b[1;32m     63\u001b[0m \u001b[0;34m\u001b[0m\u001b[0m\n\u001b[0;32m---> 64\u001b[0;31m     \u001b[0;32mreturn\u001b[0m \u001b[0mFullTokenizer\u001b[0m\u001b[0;34m(\u001b[0m\u001b[0mvocab_file\u001b[0m\u001b[0;34m=\u001b[0m\u001b[0mvocab_file\u001b[0m\u001b[0;34m,\u001b[0m \u001b[0mdo_lower_case\u001b[0m\u001b[0;34m=\u001b[0m\u001b[0mdo_lower_case\u001b[0m\u001b[0;34m)\u001b[0m\u001b[0;34m\u001b[0m\u001b[0;34m\u001b[0m\u001b[0m\n\u001b[0m\u001b[1;32m     65\u001b[0m \u001b[0;34m\u001b[0m\u001b[0m\n\u001b[1;32m     66\u001b[0m \u001b[0;32mdef\u001b[0m \u001b[0mconvert_single_example\u001b[0m\u001b[0;34m(\u001b[0m\u001b[0mtokenizer\u001b[0m\u001b[0;34m,\u001b[0m \u001b[0mexample\u001b[0m\u001b[0;34m,\u001b[0m \u001b[0mmax_seq_length\u001b[0m\u001b[0;34m=\u001b[0m\u001b[0;36m256\u001b[0m\u001b[0;34m)\u001b[0m\u001b[0;34m:\u001b[0m\u001b[0;34m\u001b[0m\u001b[0;34m\u001b[0m\u001b[0m\n",
            "\u001b[0;31mNameError\u001b[0m: name 'FullTokenizer' is not defined"
          ]
        }
      ]
    },
    {
      "cell_type": "code",
      "metadata": {
        "id": "t-8nduy-cOlz",
        "colab_type": "code",
        "colab": {}
      },
      "source": [
        "train_text, test_text, train_label, test_label = train_test_split( train['text'], train['target'], test_size=0.20, random_state=42)"
      ],
      "execution_count": 0,
      "outputs": []
    },
    {
      "cell_type": "code",
      "metadata": {
        "id": "hludFvzAcOo1",
        "colab_type": "code",
        "outputId": "f2f76f06-d9d9-4169-a9b0-30ca387f1464",
        "colab": {
          "base_uri": "https://localhost:8080/",
          "height": 115,
          "referenced_widgets": [
            "8ef3ce1004804eb8890e229cb1354dbc",
            "1d0ad1b32ac94cfb96223defe1a872e3",
            "98b5b0a7538b46ea9f915494a44ed798",
            "0d202c5205e543628590ad8402fc71f9",
            "49681146ff184cca8fa2cf3e7938d530",
            "b489629604624cbb8531aae8df51deb0",
            "163a3db5c6fb4dd2aefa24a1b6455146",
            "6528ec748858433393909ef7d291618a",
            "835b97e38b8a4dca9708e9cfc6e3f18d",
            "d3711e1ede1947b0b41448f0ab60cefc",
            "0160fb5b82bc4cb19995633c4e254cd3",
            "8f7ff07e024540ecb6cf4d9bf4358878",
            "755dd93a817040d39a75ddcbfceb7ff9",
            "d8c2abc70150454daabaccb31c4bde8d",
            "9afa0f97354444e9801feef753000c6b",
            "b407368496204059a3cd16440cbe61ca"
          ]
        }
      },
      "source": [
        "# Convert data to InputExample format\n",
        "train_examples = convert_text_to_examples(train_text, train_label)\n",
        "test_examples = convert_text_to_examples(test_text, test_label)\n",
        "\n",
        "# Convert to features\n",
        "(train_input_ids, train_input_masks, train_segment_ids, train_labels\n",
        " ) = convert_examples_to_features(tokenizer, train_examples, max_seq_length=max_seq_length)\n",
        "(test_input_ids, test_input_masks, test_segment_ids, test_labels\n",
        ") = convert_examples_to_features(tokenizer, test_examples, max_seq_length=max_seq_length)"
      ],
      "execution_count": 0,
      "outputs": [
        {
          "output_type": "display_data",
          "data": {
            "application/vnd.jupyter.widget-view+json": {
              "model_id": "8ef3ce1004804eb8890e229cb1354dbc",
              "version_minor": 0,
              "version_major": 2
            },
            "text/plain": [
              "HBox(children=(IntProgress(value=0, description='Converting examples to features', max=6090, style=ProgressSty…"
            ]
          },
          "metadata": {
            "tags": []
          }
        },
        {
          "output_type": "stream",
          "text": [
            "\n"
          ],
          "name": "stdout"
        },
        {
          "output_type": "display_data",
          "data": {
            "application/vnd.jupyter.widget-view+json": {
              "model_id": "835b97e38b8a4dca9708e9cfc6e3f18d",
              "version_minor": 0,
              "version_major": 2
            },
            "text/plain": [
              "HBox(children=(IntProgress(value=0, description='Converting examples to features', max=1523, style=ProgressSty…"
            ]
          },
          "metadata": {
            "tags": []
          }
        },
        {
          "output_type": "stream",
          "text": [
            "\n"
          ],
          "name": "stdout"
        }
      ]
    },
    {
      "cell_type": "code",
      "metadata": {
        "id": "Jh5gxmkKcYL-",
        "colab_type": "code",
        "outputId": "c8c10633-6a84-4845-c6b8-705b5235df2c",
        "colab": {
          "base_uri": "https://localhost:8080/",
          "height": 66,
          "referenced_widgets": [
            "25b2ab89838c4e75adc5b670355f55e2",
            "a9fb9708e3a74cedb60e712232a8bfeb",
            "354eba7a3c0c4e0e81c7a559b8b1b465",
            "7beaa702a2dc48579774799b364d3da2",
            "18a1ac563e8c4fd891b6fa5e962bee4c",
            "b9bd15e4ccaf41ebba188e0505f2c8bb",
            "a05b8be910624a978be23dcddf628e46",
            "b802aacfbf2b465fbf73eb1cfcdb8a53"
          ]
        }
      },
      "source": [
        "test_submission_examples=convert_text_to_examples_test(test['text'])\n",
        "(test_input_ids_submisson, test_input_masks_submisson, test_segment_ids_submisson\n",
        ") = convert_examples_to_features_test(tokenizer, test_submission_examples, max_seq_length=max_seq_length)"
      ],
      "execution_count": 0,
      "outputs": [
        {
          "output_type": "display_data",
          "data": {
            "application/vnd.jupyter.widget-view+json": {
              "model_id": "25b2ab89838c4e75adc5b670355f55e2",
              "version_minor": 0,
              "version_major": 2
            },
            "text/plain": [
              "HBox(children=(IntProgress(value=0, description='Converting examples to features', max=3263, style=ProgressSty…"
            ]
          },
          "metadata": {
            "tags": []
          }
        },
        {
          "output_type": "stream",
          "text": [
            "\n"
          ],
          "name": "stdout"
        }
      ]
    },
    {
      "cell_type": "code",
      "metadata": {
        "id": "ntNqRPQyPfnY",
        "colab_type": "code",
        "outputId": "210395f6-e729-44f2-a643-9b6523b4df20",
        "colab": {
          "base_uri": "https://localhost:8080/",
          "height": 163
        }
      },
      "source": [
        "test_submission_examples.shape"
      ],
      "execution_count": 0,
      "outputs": [
        {
          "output_type": "error",
          "ename": "NameError",
          "evalue": "ignored",
          "traceback": [
            "\u001b[0;31m---------------------------------------------------------------------------\u001b[0m",
            "\u001b[0;31mNameError\u001b[0m                                 Traceback (most recent call last)",
            "\u001b[0;32m<ipython-input-59-33d3d95cd129>\u001b[0m in \u001b[0;36m<module>\u001b[0;34m()\u001b[0m\n\u001b[0;32m----> 1\u001b[0;31m \u001b[0mtest_submission_examples\u001b[0m\u001b[0;34m.\u001b[0m\u001b[0mshape\u001b[0m\u001b[0;34m\u001b[0m\u001b[0;34m\u001b[0m\u001b[0m\n\u001b[0m",
            "\u001b[0;31mNameError\u001b[0m: name 'test_submission_examples' is not defined"
          ]
        }
      ]
    },
    {
      "cell_type": "code",
      "metadata": {
        "id": "ph21sEXjcYPF",
        "colab_type": "code",
        "outputId": "40f894a2-d426-4745-c612-5b5e7aba38f2",
        "colab": {
          "base_uri": "https://localhost:8080/",
          "height": 425
        }
      },
      "source": [
        "in_id = Input(shape=(max_seq_length,), name=\"input_ids\")\n",
        "in_mask = Input(shape=(max_seq_length,), name=\"input_masks\")\n",
        "in_segment = Input(shape=(max_seq_length,), name=\"segment_ids\")\n",
        "bert_inputs = [in_id, in_mask, in_segment]\n",
        "bert_output = BertLayer(n_fine_tune_layers=2)(bert_inputs)\n",
        "dense = Dense(256, activation='relu')(bert_output)\n",
        "pred = Dense(1, activation='sigmoid')(dense)\n",
        "    \n",
        "model = Model(inputs=bert_inputs, outputs=pred)\n",
        "model.compile(loss='binary_crossentropy', optimizer='adam', metrics=[f1])\n",
        "model.summary()"
      ],
      "execution_count": 0,
      "outputs": [
        {
          "output_type": "stream",
          "text": [
            "INFO:tensorflow:Saver not created because there are no variables in the graph to restore\n"
          ],
          "name": "stdout"
        },
        {
          "output_type": "stream",
          "text": [
            "INFO:tensorflow:Saver not created because there are no variables in the graph to restore\n"
          ],
          "name": "stderr"
        },
        {
          "output_type": "stream",
          "text": [
            "Model: \"model_5\"\n",
            "__________________________________________________________________________________________________\n",
            "Layer (type)                    Output Shape         Param #     Connected to                     \n",
            "==================================================================================================\n",
            "input_ids (InputLayer)          (None, 140)          0                                            \n",
            "__________________________________________________________________________________________________\n",
            "input_masks (InputLayer)        (None, 140)          0                                            \n",
            "__________________________________________________________________________________________________\n",
            "segment_ids (InputLayer)        (None, 140)          0                                            \n",
            "__________________________________________________________________________________________________\n",
            "bert_layer_5 (BertLayer)        ((None, 140), 768)   110104890   input_ids[0][0]                  \n",
            "                                                                 input_masks[0][0]                \n",
            "                                                                 segment_ids[0][0]                \n",
            "__________________________________________________________________________________________________\n",
            "dense_9 (Dense)                 ((None, 140), 256)   196864      bert_layer_5[0][0]               \n",
            "__________________________________________________________________________________________________\n",
            "dense_10 (Dense)                ((None, 140), 1)     257         dense_9[0][0]                    \n",
            "==================================================================================================\n",
            "Total params: 110,302,011\n",
            "Trainable params: 787,713\n",
            "Non-trainable params: 109,514,298\n",
            "__________________________________________________________________________________________________\n"
          ],
          "name": "stdout"
        }
      ]
    },
    {
      "cell_type": "code",
      "metadata": {
        "id": "qyL9uNkWc_II",
        "colab_type": "code",
        "colab": {}
      },
      "source": [
        "# test_labels=original['target']"
      ],
      "execution_count": 0,
      "outputs": []
    },
    {
      "cell_type": "code",
      "metadata": {
        "id": "Bmaeke04cYR3",
        "colab_type": "code",
        "outputId": "aac753f5-40e4-49de-a589-e2191901c738",
        "colab": {
          "base_uri": "https://localhost:8080/",
          "height": 714
        }
      },
      "source": [
        "history=model.fit(\n",
        "    [train_input_ids, train_input_masks, train_segment_ids], \n",
        "    train_labels,\n",
        "    validation_data=([test_input_ids, test_input_masks, test_segment_ids], test_labels),\n",
        "    epochs=20,\n",
        "    batch_size=128 )"
      ],
      "execution_count": 0,
      "outputs": [
        {
          "output_type": "stream",
          "text": [
            "Train on 6090 samples, validate on 1523 samples\n",
            "Epoch 1/20\n",
            "6090/6090 [==============================] - 47s 8ms/step - loss: 0.7858 - f1: 0.3571 - val_loss: 0.6400 - val_f1: 0.6190\n",
            "Epoch 2/20\n",
            "6090/6090 [==============================] - 39s 6ms/step - loss: 0.6372 - f1: 0.5142 - val_loss: 0.6222 - val_f1: 0.5905\n",
            "Epoch 3/20\n",
            "6090/6090 [==============================] - 39s 6ms/step - loss: 0.6212 - f1: 0.5621 - val_loss: 0.6072 - val_f1: 0.5735\n",
            "Epoch 4/20\n",
            "6090/6090 [==============================] - 39s 6ms/step - loss: 0.6243 - f1: 0.5339 - val_loss: 0.6490 - val_f1: 0.1918\n",
            "Epoch 5/20\n",
            "6090/6090 [==============================] - 39s 6ms/step - loss: 0.6121 - f1: 0.5607 - val_loss: 0.6004 - val_f1: 0.6067\n",
            "Epoch 6/20\n",
            "6090/6090 [==============================] - 39s 6ms/step - loss: 0.6020 - f1: 0.5841 - val_loss: 0.5943 - val_f1: 0.6164\n",
            "Epoch 7/20\n",
            "6090/6090 [==============================] - 39s 6ms/step - loss: 0.5986 - f1: 0.5812 - val_loss: 0.5949 - val_f1: 0.6256\n",
            "Epoch 8/20\n",
            "6090/6090 [==============================] - 39s 6ms/step - loss: 0.6052 - f1: 0.5755 - val_loss: 0.5927 - val_f1: 0.6241\n",
            "Epoch 9/20\n",
            "6090/6090 [==============================] - 39s 6ms/step - loss: 0.5951 - f1: 0.5928 - val_loss: 0.6065 - val_f1: 0.4948\n",
            "Epoch 10/20\n",
            "6090/6090 [==============================] - 39s 6ms/step - loss: 0.5914 - f1: 0.5945 - val_loss: 0.6340 - val_f1: 0.4207\n",
            "Epoch 11/20\n",
            "6090/6090 [==============================] - 39s 6ms/step - loss: 0.5912 - f1: 0.5921 - val_loss: 0.5850 - val_f1: 0.6197\n",
            "Epoch 12/20\n",
            "6090/6090 [==============================] - 39s 6ms/step - loss: 0.5782 - f1: 0.6113 - val_loss: 0.6177 - val_f1: 0.5009\n",
            "Epoch 13/20\n",
            "6090/6090 [==============================] - 39s 6ms/step - loss: 0.5793 - f1: 0.6069 - val_loss: 0.5875 - val_f1: 0.6112\n",
            "Epoch 14/20\n",
            "6090/6090 [==============================] - 39s 6ms/step - loss: 0.5735 - f1: 0.6187 - val_loss: 0.6003 - val_f1: 0.5556\n",
            "Epoch 15/20\n",
            "6090/6090 [==============================] - 39s 6ms/step - loss: 0.5804 - f1: 0.6156 - val_loss: 0.5899 - val_f1: 0.6422\n",
            "Epoch 16/20\n",
            "6090/6090 [==============================] - 39s 6ms/step - loss: 0.5687 - f1: 0.6154 - val_loss: 0.6424 - val_f1: 0.6417\n",
            "Epoch 17/20\n",
            "6090/6090 [==============================] - 39s 6ms/step - loss: 0.5683 - f1: 0.6309 - val_loss: 0.5863 - val_f1: 0.6346\n",
            "Epoch 18/20\n",
            "6090/6090 [==============================] - 39s 6ms/step - loss: 0.5849 - f1: 0.5902 - val_loss: 0.6038 - val_f1: 0.5012\n",
            "Epoch 19/20\n",
            "6090/6090 [==============================] - 39s 6ms/step - loss: 0.5781 - f1: 0.6078 - val_loss: 0.5906 - val_f1: 0.6177\n",
            "Epoch 20/20\n",
            "6090/6090 [==============================] - 39s 6ms/step - loss: 0.5641 - f1: 0.6118 - val_loss: 0.6325 - val_f1: 0.6518\n"
          ],
          "name": "stdout"
        }
      ]
    },
    {
      "cell_type": "code",
      "metadata": {
        "id": "e68-CPc0efjJ",
        "colab_type": "code",
        "outputId": "ece2b0d9-3624-4499-bb22-882b28b32cde",
        "colab": {
          "base_uri": "https://localhost:8080/",
          "height": 296
        }
      },
      "source": [
        "plt_dynamic(20)\n",
        "pred=model.predict([test_input_ids_submisson, test_input_masks_submisson, test_segment_ids_submisson])\n",
        "f1_score(original['target'], pred.round())"
      ],
      "execution_count": 0,
      "outputs": [
        {
          "output_type": "execute_result",
          "data": {
            "text/plain": [
              "0.6495626822157435"
            ]
          },
          "metadata": {
            "tags": []
          },
          "execution_count": 43
        },
        {
          "output_type": "display_data",
          "data": {
            "image/png": "[encoded data removed]",
            "text/plain": [
              "<Figure size 432x288 with 1 Axes>"
            ]
          },
          "metadata": {
            "tags": []
          }
        }
      ]
    },
    {
      "cell_type": "code",
      "metadata": {
        "id": "Aa-nZcHrfYgb",
        "colab_type": "code",
        "outputId": "6eca5972-c46b-4b4e-ada7-0e11a5b00f0c",
        "colab": {
          "base_uri": "https://localhost:8080/",
          "height": 425
        }
      },
      "source": [
        "in_id = Input(shape=(max_seq_length,), name=\"input_ids\")\n",
        "in_mask = Input(shape=(max_seq_length,), name=\"input_masks\")\n",
        "in_segment = Input(shape=(max_seq_length,), name=\"segment_ids\")\n",
        "bert_inputs = [in_id, in_mask, in_segment]\n",
        "bert_output = BertLayer(n_fine_tune_layers=6)(bert_inputs)\n",
        "dense = Dense(256, activation='relu')(bert_output)\n",
        "pred = Dense(1, activation='sigmoid')(dense)\n",
        "    \n",
        "model = Model(inputs=bert_inputs, outputs=pred)\n",
        "model.compile(loss='binary_crossentropy', optimizer='rmsprop', metrics=[f1])\n",
        "model.summary()"
      ],
      "execution_count": 0,
      "outputs": [
        {
          "output_type": "stream",
          "text": [
            "INFO:tensorflow:Saver not created because there are no variables in the graph to restore\n"
          ],
          "name": "stdout"
        },
        {
          "output_type": "stream",
          "text": [
            "INFO:tensorflow:Saver not created because there are no variables in the graph to restore\n"
          ],
          "name": "stderr"
        },
        {
          "output_type": "stream",
          "text": [
            "Model: \"model_3\"\n",
            "__________________________________________________________________________________________________\n",
            "Layer (type)                    Output Shape         Param #     Connected to                     \n",
            "==================================================================================================\n",
            "input_ids (InputLayer)          (None, 140)          0                                            \n",
            "__________________________________________________________________________________________________\n",
            "input_masks (InputLayer)        (None, 140)          0                                            \n",
            "__________________________________________________________________________________________________\n",
            "segment_ids (InputLayer)        (None, 140)          0                                            \n",
            "__________________________________________________________________________________________________\n",
            "bert_layer_3 (BertLayer)        ((None, 140), 768)   110104890   input_ids[0][0]                  \n",
            "                                                                 input_masks[0][0]                \n",
            "                                                                 segment_ids[0][0]                \n",
            "__________________________________________________________________________________________________\n",
            "dense_5 (Dense)                 ((None, 140), 256)   196864      bert_layer_3[0][0]               \n",
            "__________________________________________________________________________________________________\n",
            "dense_6 (Dense)                 ((None, 140), 1)     257         dense_5[0][0]                    \n",
            "==================================================================================================\n",
            "Total params: 110,302,011\n",
            "Trainable params: 3,149,313\n",
            "Non-trainable params: 107,152,698\n",
            "__________________________________________________________________________________________________\n"
          ],
          "name": "stdout"
        }
      ]
    },
    {
      "cell_type": "code",
      "metadata": {
        "id": "RxbUjKzLisj-",
        "colab_type": "code",
        "outputId": "11a6d45c-91e1-4d05-883a-8d8f2ef8e181",
        "colab": {
          "base_uri": "https://localhost:8080/",
          "height": 425
        }
      },
      "source": [
        "in_id = Input(shape=(max_seq_length,), name=\"input_ids\")\n",
        "in_mask = Input(shape=(max_seq_length,), name=\"input_masks\")\n",
        "in_segment = Input(shape=(max_seq_length,), name=\"segment_ids\")\n",
        "bert_inputs = [in_id, in_mask, in_segment]\n",
        "bert_output = BertLayer(n_fine_tune_layers=2)(bert_inputs)\n",
        "dense = Dense(256, activation='relu')(bert_output)\n",
        "pred = Dense(1, activation='sigmoid')(dense)\n",
        "    \n",
        "model = Model(inputs=bert_inputs, outputs=pred)\n",
        "\n",
        "model.compile(loss='binary_crossentropy', optimizer='nadam', metrics=[f1])\n",
        "model.summary()"
      ],
      "execution_count": 0,
      "outputs": [
        {
          "output_type": "stream",
          "text": [
            "INFO:tensorflow:Saver not created because there are no variables in the graph to restore\n"
          ],
          "name": "stdout"
        },
        {
          "output_type": "stream",
          "text": [
            "INFO:tensorflow:Saver not created because there are no variables in the graph to restore\n"
          ],
          "name": "stderr"
        },
        {
          "output_type": "stream",
          "text": [
            "Model: \"model_6\"\n",
            "__________________________________________________________________________________________________\n",
            "Layer (type)                    Output Shape         Param #     Connected to                     \n",
            "==================================================================================================\n",
            "input_ids (InputLayer)          (None, 140)          0                                            \n",
            "__________________________________________________________________________________________________\n",
            "input_masks (InputLayer)        (None, 140)          0                                            \n",
            "__________________________________________________________________________________________________\n",
            "segment_ids (InputLayer)        (None, 140)          0                                            \n",
            "__________________________________________________________________________________________________\n",
            "bert_layer_6 (BertLayer)        ((None, 140), 768)   110104890   input_ids[0][0]                  \n",
            "                                                                 input_masks[0][0]                \n",
            "                                                                 segment_ids[0][0]                \n",
            "__________________________________________________________________________________________________\n",
            "dense_11 (Dense)                ((None, 140), 256)   196864      bert_layer_6[0][0]               \n",
            "__________________________________________________________________________________________________\n",
            "dense_12 (Dense)                ((None, 140), 1)     257         dense_11[0][0]                   \n",
            "==================================================================================================\n",
            "Total params: 110,302,011\n",
            "Trainable params: 787,713\n",
            "Non-trainable params: 109,514,298\n",
            "__________________________________________________________________________________________________\n"
          ],
          "name": "stdout"
        }
      ]
    },
    {
      "cell_type": "code",
      "metadata": {
        "id": "OVz6g85vjNrb",
        "colab_type": "code",
        "outputId": "8b05b1cc-8e9e-47d1-b00c-1d477c3af363",
        "colab": {
          "base_uri": "https://localhost:8080/",
          "height": 1000
        }
      },
      "source": [
        "history=model.fit(\n",
        "    [train_input_ids, train_input_masks, train_segment_ids], \n",
        "    train_labels,\n",
        "    validation_data=([test_input_ids, test_input_masks, test_segment_ids], test_labels),\n",
        "    epochs=35,\n",
        "    batch_size=128 )"
      ],
      "execution_count": 0,
      "outputs": [
        {
          "output_type": "stream",
          "text": [
            "Train on 6090 samples, validate on 1523 samples\n",
            "Epoch 1/35\n",
            "6090/6090 [==============================] - 47s 8ms/step - loss: 0.9945 - f1: 0.3300 - val_loss: 0.8018 - val_f1: 0.0000e+00\n",
            "Epoch 2/35\n",
            "6090/6090 [==============================] - 39s 6ms/step - loss: 0.7808 - f1: 0.3534 - val_loss: 1.0129 - val_f1: 0.6173\n",
            "Epoch 3/35\n",
            "6090/6090 [==============================] - 39s 6ms/step - loss: 0.6845 - f1: 0.4443 - val_loss: 0.6210 - val_f1: 0.5919\n",
            "Epoch 4/35\n",
            "6090/6090 [==============================] - 39s 6ms/step - loss: 0.6427 - f1: 0.4983 - val_loss: 0.6197 - val_f1: 0.5991\n",
            "Epoch 5/35\n",
            "6090/6090 [==============================] - 39s 6ms/step - loss: 0.6374 - f1: 0.5365 - val_loss: 1.3004 - val_f1: 0.0000e+00\n",
            "Epoch 6/35\n",
            "6090/6090 [==============================] - 39s 6ms/step - loss: 0.6509 - f1: 0.4945 - val_loss: 0.6512 - val_f1: 0.1562\n",
            "Epoch 7/35\n",
            "6090/6090 [==============================] - 39s 6ms/step - loss: 0.6153 - f1: 0.5432 - val_loss: 0.6148 - val_f1: 0.6518\n",
            "Epoch 8/35\n",
            "6090/6090 [==============================] - 39s 6ms/step - loss: 0.6127 - f1: 0.5572 - val_loss: 0.6247 - val_f1: 0.6409\n",
            "Epoch 9/35\n",
            "6090/6090 [==============================] - 39s 6ms/step - loss: 0.6048 - f1: 0.5586 - val_loss: 0.6050 - val_f1: 0.6427\n",
            "Epoch 10/35\n",
            "6090/6090 [==============================] - 39s 6ms/step - loss: 0.5940 - f1: 0.6048 - val_loss: 0.6144 - val_f1: 0.5549\n",
            "Epoch 11/35\n",
            "6090/6090 [==============================] - 39s 6ms/step - loss: 0.5983 - f1: 0.5823 - val_loss: 0.6106 - val_f1: 0.6453\n",
            "Epoch 12/35\n",
            "6090/6090 [==============================] - 39s 6ms/step - loss: 0.5892 - f1: 0.5795 - val_loss: 0.6287 - val_f1: 0.6504\n",
            "Epoch 13/35\n",
            "6090/6090 [==============================] - 39s 6ms/step - loss: 0.5892 - f1: 0.5973 - val_loss: 0.5884 - val_f1: 0.6166\n",
            "Epoch 14/35\n",
            "6090/6090 [==============================] - 39s 6ms/step - loss: 0.6046 - f1: 0.5708 - val_loss: 0.6068 - val_f1: 0.6076\n",
            "Epoch 15/35\n",
            "6090/6090 [==============================] - 39s 6ms/step - loss: 0.5859 - f1: 0.6078 - val_loss: 0.5882 - val_f1: 0.6393\n",
            "Epoch 16/35\n",
            "6090/6090 [==============================] - 39s 6ms/step - loss: 0.5867 - f1: 0.5912 - val_loss: 0.5875 - val_f1: 0.6320\n",
            "Epoch 17/35\n",
            "6090/6090 [==============================] - 39s 6ms/step - loss: 0.5743 - f1: 0.6159 - val_loss: 0.5971 - val_f1: 0.6101\n",
            "Epoch 18/35\n",
            "6090/6090 [==============================] - 39s 6ms/step - loss: 0.5786 - f1: 0.6087 - val_loss: 0.7040 - val_f1: 0.0758\n",
            "Epoch 19/35\n",
            "6090/6090 [==============================] - 39s 6ms/step - loss: 0.5742 - f1: 0.5949 - val_loss: 0.5941 - val_f1: 0.5889\n",
            "Epoch 20/35\n",
            "6090/6090 [==============================] - 39s 6ms/step - loss: 0.5715 - f1: 0.6197 - val_loss: 0.5983 - val_f1: 0.5013\n",
            "Epoch 21/35\n",
            "6090/6090 [==============================] - 39s 6ms/step - loss: 0.5616 - f1: 0.6200 - val_loss: 0.6181 - val_f1: 0.4390\n",
            "Epoch 22/35\n",
            "6090/6090 [==============================] - 39s 6ms/step - loss: 0.5957 - f1: 0.5953 - val_loss: 0.6132 - val_f1: 0.5463\n",
            "Epoch 23/35\n",
            "6090/6090 [==============================] - 39s 6ms/step - loss: 0.5967 - f1: 0.5962 - val_loss: 0.6101 - val_f1: 0.5242\n",
            "Epoch 24/35\n",
            "6090/6090 [==============================] - 39s 6ms/step - loss: 0.5785 - f1: 0.6028 - val_loss: 0.6178 - val_f1: 0.6582\n",
            "Epoch 25/35\n",
            "6090/6090 [==============================] - 39s 6ms/step - loss: 0.5757 - f1: 0.6132 - val_loss: 0.5957 - val_f1: 0.6406\n",
            "Epoch 26/35\n",
            "6090/6090 [==============================] - 39s 6ms/step - loss: 0.5652 - f1: 0.6277 - val_loss: 0.6074 - val_f1: 0.5738\n",
            "Epoch 27/35\n",
            "6090/6090 [==============================] - 39s 6ms/step - loss: 0.5550 - f1: 0.6409 - val_loss: 0.6657 - val_f1: 0.6533\n",
            "Epoch 28/35\n",
            "6090/6090 [==============================] - 39s 6ms/step - loss: 0.5532 - f1: 0.6333 - val_loss: 0.5971 - val_f1: 0.5561\n",
            "Epoch 29/35\n",
            "6090/6090 [==============================] - 39s 6ms/step - loss: 0.5539 - f1: 0.6462 - val_loss: 0.5900 - val_f1: 0.6067\n",
            "Epoch 30/35\n",
            "6090/6090 [==============================] - 39s 6ms/step - loss: 0.5577 - f1: 0.6251 - val_loss: 0.5885 - val_f1: 0.5932\n",
            "Epoch 31/35\n",
            "6090/6090 [==============================] - 39s 6ms/step - loss: 0.5441 - f1: 0.6478 - val_loss: 0.5997 - val_f1: 0.5694\n",
            "Epoch 32/35\n",
            "6090/6090 [==============================] - 39s 6ms/step - loss: 0.5459 - f1: 0.6447 - val_loss: 0.6158 - val_f1: 0.6441\n",
            "Epoch 33/35\n",
            "6090/6090 [==============================] - 39s 6ms/step - loss: 0.5515 - f1: 0.6354 - val_loss: 0.5974 - val_f1: 0.6448\n",
            "Epoch 34/35\n",
            "6090/6090 [==============================] - 39s 6ms/step - loss: 0.5342 - f1: 0.6578 - val_loss: 0.6309 - val_f1: 0.6281\n",
            "Epoch 35/35\n",
            "6090/6090 [==============================] - 39s 6ms/step - loss: 0.5332 - f1: 0.6596 - val_loss: 0.7104 - val_f1: 0.2189\n"
          ],
          "name": "stdout"
        }
      ]
    },
    {
      "cell_type": "code",
      "metadata": {
        "id": "9CaiF3JLnl7v",
        "colab_type": "code",
        "outputId": "82e50a0e-7213-4321-ea4a-6d92ac24d2ff",
        "colab": {
          "base_uri": "https://localhost:8080/",
          "height": 296
        }
      },
      "source": [
        "plt_dynamic(35)\n",
        "pred=model.predict([test_input_ids_submisson, test_input_masks_submisson, test_segment_ids_submisson])\n",
        "f1_score(original['target'], pred.round())"
      ],
      "execution_count": 0,
      "outputs": [
        {
          "output_type": "execute_result",
          "data": {
            "text/plain": [
              "0.1819330385344283"
            ]
          },
          "metadata": {
            "tags": []
          },
          "execution_count": 47
        },
        {
          "output_type": "display_data",
          "data": {
            "image/png": "[encoded data removed]",
            "text/plain": [
              "<Figure size 432x288 with 1 Axes>"
            ]
          },
          "metadata": {
            "tags": []
          }
        }
      ]
    },
    {
      "cell_type": "code",
      "metadata": {
        "id": "YWwWc2ZG-oXJ",
        "colab_type": "code",
        "colab": {}
      },
      "source": [
        ""
      ],
      "execution_count": 0,
      "outputs": []
    },
    {
      "cell_type": "markdown",
      "metadata": {
        "id": "ydsen2_g_-2k",
        "colab_type": "text"
      },
      "source": [
        "# Glove, Positional Encoding and Attention"
      ]
    },
    {
      "cell_type": "code",
      "metadata": {
        "id": "hNaG62xoKaio",
        "colab_type": "code",
        "colab": {}
      },
      "source": [
        "def words(text):\n",
        "    return re.findall(r'\\w+', text.lower())\n",
        "def P(word): \n",
        "    \"Probability of `word`.\"\n",
        "    # use inverse of rank as proxy\n",
        "    # returns 0 if the word isn't in the dictionary\n",
        "    return - WORDS.get(word, 0)\n",
        "def correction(word): \n",
        "    \"Most probable spelling correction for word.\"\n",
        "    return max(candidates(word), key=P)\n",
        "def candidates(word): \n",
        "    \"Generate possible spelling corrections for word.\"\n",
        "    return (known([word]) or known(edits1(word)) or [word])\n",
        "def known(words): \n",
        "    \"The subset of `words` that appear in the dictionary of WORDS.\"\n",
        "    return set(w for w in words if w in WORDS)\n",
        "def edits1(word):\n",
        "    \"All edits that are one edit away from `word`.\"\n",
        "    letters    = 'abcdefghijklmnopqrstuvwxyz'\n",
        "    splits     = [(word[:i], word[i:])    for i in range(len(word) + 1)]\n",
        "    deletes    = [L + R[1:]               for L, R in splits if R]\n",
        "    transposes = [L + R[1] + R[0] + R[2:] for L, R in splits if len(R)>1]\n",
        "    replaces   = [L + c + R[1:]           for L, R in splits if R for c in letters]\n",
        "    inserts    = [L + c + R               for L, R in splits for c in letters]\n",
        "    return set(deletes + transposes + replaces + inserts)\n",
        "def edits2(word): \n",
        "    \"All edits that are two edits away from `word`.\"\n",
        "    return (e2 for e1 in edits1(word) for e2 in edits1(e1))\n",
        "def singlify(word):\n",
        "    return \"\".join([letter for i,letter in enumerate(word) if i == 0 or letter != word[i-1]])\n"
      ],
      "execution_count": 0,
      "outputs": []
    },
    {
      "cell_type": "code",
      "metadata": {
        "id": "ggvsAJES-oQ9",
        "colab_type": "code",
        "colab": {}
      },
      "source": [
        "# modified version of \n",
        "# https://www.kaggle.com/sudalairajkumar/a-look-at-different-embeddings\n",
        "# https://www.kaggle.com/danofer/different-embeddings-with-attention-fork\n",
        "# https://www.kaggle.com/shujian/different-embeddings-with-attention-fork-fork\n",
        "def load_glove(word_dict, lemma_dict):\n",
        "    EMBEDDING_FILE = '/content/drive/My Drive/Colab Notebooks/glove.840B.300d.txt'\n",
        "    def get_coefs(word,*arr): return word, np.asarray(arr, dtype='float32')\n",
        "    embeddings_index = dict(get_coefs(*o.split(\" \")) for o in open(EMBEDDING_FILE))\n",
        "    embed_size = 300\n",
        "    nb_words = len(word_dict)+1\n",
        "    embedding_matrix = np.zeros((nb_words, embed_size), dtype=np.float32)\n",
        "    unknown_vector = np.zeros((embed_size,), dtype=np.float32) - 1.\n",
        "    print(unknown_vector[:5])\n",
        "    for key in tqdm(word_dict):\n",
        "        word = key\n",
        "        embedding_vector = embeddings_index.get(word)\n",
        "        if embedding_vector is not None:\n",
        "            embedding_matrix[word_dict[key]] = embedding_vector\n",
        "            continue\n",
        "        word = key.lower()\n",
        "        embedding_vector = embeddings_index.get(word)\n",
        "        if embedding_vector is not None:\n",
        "            embedding_matrix[word_dict[key]] = embedding_vector\n",
        "            continue\n",
        "        word = key.upper()\n",
        "        embedding_vector = embeddings_index.get(word)\n",
        "        if embedding_vector is not None:\n",
        "            embedding_matrix[word_dict[key]] = embedding_vector\n",
        "            continue\n",
        "        word = key.capitalize()\n",
        "        embedding_vector = embeddings_index.get(word)\n",
        "        if embedding_vector is not None:\n",
        "            embedding_matrix[word_dict[key]] = embedding_vector\n",
        "            continue\n",
        "        word = ps.stem(key)\n",
        "        embedding_vector = embeddings_index.get(word)\n",
        "        if embedding_vector is not None:\n",
        "            embedding_matrix[word_dict[key]] = embedding_vector\n",
        "            continue\n",
        "        word = lc.stem(key)\n",
        "        embedding_vector = embeddings_index.get(word)\n",
        "        if embedding_vector is not None:\n",
        "            embedding_matrix[word_dict[key]] = embedding_vector\n",
        "            continue\n",
        "        word = sb.stem(key)\n",
        "        embedding_vector = embeddings_index.get(word)\n",
        "        if embedding_vector is not None:\n",
        "            embedding_matrix[word_dict[key]] = embedding_vector\n",
        "            continue\n",
        "        word = lemma_dict[key]\n",
        "        embedding_vector = embeddings_index.get(word)\n",
        "        if embedding_vector is not None:\n",
        "            embedding_matrix[word_dict[key]] = embedding_vector\n",
        "            continue\n",
        "        if len(key) > 1:\n",
        "            word = correction(key)\n",
        "            embedding_vector = embeddings_index.get(word)\n",
        "            if embedding_vector is not None:\n",
        "                embedding_matrix[word_dict[key]] = embedding_vector\n",
        "                continue\n",
        "        embedding_matrix[word_dict[key]] = unknown_vector                    \n",
        "    return embedding_matrix, nb_words \n",
        "\n",
        "\n",
        "def load_fasttext(word_dict, lemma_dict):\n",
        "    EMBEDDING_FILE = '/content/drive/My Drive/Colab Notebooks/paragram_300_sl999.txt'\n",
        "    def get_coefs(word,*arr): \n",
        "      return word, np.asarray(arr, dtype='float32')\n",
        "    embeddings_index = dict(get_coefs(*o.split(\" \")) for o in open(EMBEDDING_FILE) if len(o)>100)\n",
        "    embed_size = 300\n",
        "    nb_words = len(word_dict)+1\n",
        "    embedding_matrix = np.zeros((nb_words, embed_size), dtype=np.float32)\n",
        "    unknown_vector = np.zeros((embed_size,), dtype=np.float32) - 1.\n",
        "    print(unknown_vector[:5])\n",
        "    for key in tqdm(word_dict):\n",
        "        word = key\n",
        "        embedding_vector = embeddings_index.get(word)\n",
        "        if embedding_vector is not None:\n",
        "            embedding_matrix[word_dict[key]] = embedding_vector\n",
        "            continue\n",
        "        word = key.lower()\n",
        "        embedding_vector = embeddings_index.get(word)\n",
        "        if embedding_vector is not None:\n",
        "            embedding_matrix[word_dict[key]] = embedding_vector\n",
        "            continue\n",
        "        word = key.upper()\n",
        "        embedding_vector = embeddings_index.get(word)\n",
        "        if embedding_vector is not None:\n",
        "            embedding_matrix[word_dict[key]] = embedding_vector\n",
        "            continue\n",
        "        word = key.capitalize()\n",
        "        embedding_vector = embeddings_index.get(word)\n",
        "        if embedding_vector is not None:\n",
        "            embedding_matrix[word_dict[key]] = embedding_vector\n",
        "            continue\n",
        "        word = ps.stem(key)\n",
        "        embedding_vector = embeddings_index.get(word)\n",
        "        if embedding_vector is not None:\n",
        "            embedding_matrix[word_dict[key]] = embedding_vector\n",
        "            continue\n",
        "        word = lc.stem(key)\n",
        "        embedding_vector = embeddings_index.get(word)\n",
        "        if embedding_vector is not None:\n",
        "            embedding_matrix[word_dict[key]] = embedding_vector\n",
        "            continue\n",
        "        word = sb.stem(key)\n",
        "        embedding_vector = embeddings_index.get(word)\n",
        "        if embedding_vector is not None:\n",
        "            embedding_matrix[word_dict[key]] = embedding_vector\n",
        "            continue\n",
        "        word = lemma_dict[key]\n",
        "        embedding_vector = embeddings_index.get(word)\n",
        "        if embedding_vector is not None:\n",
        "            embedding_matrix[word_dict[key]] = embedding_vector\n",
        "            continue\n",
        "        if len(key) > 1:\n",
        "            word = correction(key)\n",
        "            embedding_vector = embeddings_index.get(word)\n",
        "            if embedding_vector is not None:\n",
        "                embedding_matrix[word_dict[key]] = embedding_vector\n",
        "                continue\n",
        "        embedding_matrix[word_dict[key]] = unknown_vector                    \n",
        "    return embedding_matrix, nb_words \n",
        "\n",
        "\n",
        "def load_para(word_dict, lemma_dict):\n",
        "    EMBEDDING_FILE = '/content/drive/My Drive/Colab Notebooks/paragram_300_sl999.txt'\n",
        "    def get_coefs(word,*arr): return word, np.asarray(arr, dtype='float32')\n",
        "    embeddings_index = dict(get_coefs(*o.split(\" \")) for o in open(EMBEDDING_FILE, encoding=\"utf8\", errors='ignore') if len(o)>100)\n",
        "    embed_size = 300\n",
        "    nb_words = len(word_dict)+1\n",
        "    embedding_matrix = np.zeros((nb_words, embed_size), dtype=np.float32)\n",
        "    unknown_vector = np.zeros((embed_size,), dtype=np.float32) - 1.\n",
        "    print(unknown_vector[:5])\n",
        "    for key in tqdm(word_dict):\n",
        "        word = key\n",
        "        embedding_vector = embeddings_index.get(word)\n",
        "        if embedding_vector is not None:\n",
        "            embedding_matrix[word_dict[key]] = embedding_vector\n",
        "            continue\n",
        "        word = key.lower()\n",
        "        embedding_vector = embeddings_index.get(word)\n",
        "        if embedding_vector is not None:\n",
        "            embedding_matrix[word_dict[key]] = embedding_vector\n",
        "            continue\n",
        "        word = key.upper()\n",
        "        embedding_vector = embeddings_index.get(word)\n",
        "        if embedding_vector is not None:\n",
        "            embedding_matrix[word_dict[key]] = embedding_vector\n",
        "            continue\n",
        "        word = key.capitalize()\n",
        "        embedding_vector = embeddings_index.get(word)\n",
        "        if embedding_vector is not None:\n",
        "            embedding_matrix[word_dict[key]] = embedding_vector\n",
        "            continue\n",
        "        word = ps.stem(key)\n",
        "        embedding_vector = embeddings_index.get(word)\n",
        "        if embedding_vector is not None:\n",
        "            embedding_matrix[word_dict[key]] = embedding_vector\n",
        "            continue\n",
        "        word = lc.stem(key)\n",
        "        embedding_vector = embeddings_index.get(word)\n",
        "        if embedding_vector is not None:\n",
        "            embedding_matrix[word_dict[key]] = embedding_vector\n",
        "            continue\n",
        "        word = sb.stem(key)\n",
        "        embedding_vector = embeddings_index.get(word)\n",
        "        if embedding_vector is not None:\n",
        "            embedding_matrix[word_dict[key]] = embedding_vector\n",
        "            continue\n",
        "        word = lemma_dict[key]\n",
        "        embedding_vector = embeddings_index.get(word)\n",
        "        if embedding_vector is not None:\n",
        "            embedding_matrix[word_dict[key]] = embedding_vector\n",
        "            continue\n",
        "        if len(key) > 1:\n",
        "            word = correction(key)\n",
        "            embedding_vector = embeddings_index.get(word)\n",
        "            if embedding_vector is not None:\n",
        "                embedding_matrix[word_dict[key]] = embedding_vector\n",
        "                continue\n",
        "        embedding_matrix[word_dict[key]] = unknown_vector                    \n",
        "    return embedding_matrix, nb_words \n"
      ],
      "execution_count": 0,
      "outputs": []
    },
    {
      "cell_type": "code",
      "metadata": {
        "id": "1rDqsOmXNedi",
        "colab_type": "code",
        "colab": {}
      },
      "source": [
        "train = pd.read_csv('/content/drive/My Drive/Colab Notebooks/train.csv').fillna(' ')\n",
        "test = pd.read_csv('/content/drive/My Drive/Colab Notebooks/test.csv').fillna(' ')\n",
        "original=pd.read_csv(\"/content/drive/My Drive/Colab Notebooks/NLP Original.csv\")\n"
      ],
      "execution_count": 0,
      "outputs": []
    },
    {
      "cell_type": "code",
      "metadata": {
        "id": "1FQ9b9BYBjI5",
        "colab_type": "code",
        "colab": {}
      },
      "source": [
        "train_text = train['text']\n",
        "test_text = test['text']\n",
        "text_list = pd.concat([train_text, test_text])"
      ],
      "execution_count": 0,
      "outputs": []
    },
    {
      "cell_type": "code",
      "metadata": {
        "id": "Qk-hphJuDjGS",
        "colab_type": "code",
        "outputId": "30b3b809-6229-426b-e629-01174ece4a0b",
        "colab": {
          "base_uri": "https://localhost:8080/",
          "height": 71
        }
      },
      "source": [
        "# https://www.kaggle.com/cpmpml/spell-checker-using-word2vec\n",
        "import gensim\n",
        "spell_model = gensim.models.KeyedVectors.load_word2vec_format('/content/drive/My Drive/Colab Notebooks/wiki-news-300d-1M.vec')\n",
        "words = spell_model.index2word\n",
        "w_rank = {}\n",
        "for i,word in enumerate(words):\n",
        "    w_rank[word] = i\n",
        "WORDS = w_rank"
      ],
      "execution_count": 0,
      "outputs": [
        {
          "output_type": "stream",
          "text": [
            "/usr/local/lib/python3.6/dist-packages/smart_open/smart_open_lib.py:402: UserWarning: This function is deprecated, use smart_open.open instead. See the migration notes for details: https://github.com/RaRe-Technologies/smart_open/blob/master/README.rst#migrating-to-the-new-open-function\n",
            "  'See the migration notes for details: %s' % _MIGRATION_NOTES_URL\n"
          ],
          "name": "stderr"
        }
      ]
    },
    {
      "cell_type": "code",
      "metadata": {
        "id": "n_NSX2Z5AitR",
        "colab_type": "code",
        "outputId": "80eaeb4e-be78-449d-df93-55e8d6921548",
        "colab": {
          "base_uri": "https://localhost:8080/",
          "height": 68
        }
      },
      "source": [
        "start_time = time.time()\n",
        "print(\"Spacy NLP ...\")\n",
        "nlp = spacy.load('/content/drive/My Drive/Colab Notebooks/en_core_web_lg-2.1.0/en_core_web_lg/en_core_web_lg-2.1.0', disable=['parser','ner','tagger'])\n",
        "nlp.vocab.add_flag(lambda s: s.lower() in spacy.lang.en.stop_words.STOP_WORDS, spacy.attrs.IS_STOP)\n",
        "word_dict = {}\n",
        "word_index = 1\n",
        "lemma_dict = {}\n",
        "docs = nlp.pipe(text_list, n_threads = 2)\n",
        "word_sequences = []\n",
        "for doc in tqdm(docs):\n",
        "    word_seq = []\n",
        "    for token in doc:\n",
        "        if (token.text not in word_dict) and (token.pos_ is not \"PUNCT\"):\n",
        "            word_dict[token.text] = word_index\n",
        "            word_index += 1\n",
        "            lemma_dict[token.text] = token.lemma_\n",
        "        if token.pos_ is not \"PUNCT\":\n",
        "            word_seq.append(word_dict[token.text])\n",
        "    word_sequences.append(word_seq)\n",
        "del docs\n",
        "gc.collect()\n",
        "# train_word_sequences = word_sequences[:num_train_data]\n",
        "# test_word_sequences = word_sequences[num_train_data:]\n",
        "print(\"--- %s seconds ---\" % (time.time() - start_time))"
      ],
      "execution_count": 0,
      "outputs": [
        {
          "output_type": "stream",
          "text": [
            "Spacy NLP ...\n"
          ],
          "name": "stdout"
        },
        {
          "output_type": "stream",
          "text": [
            "10876it [00:03, 3379.34it/s]\n"
          ],
          "name": "stderr"
        },
        {
          "output_type": "stream",
          "text": [
            "--- 29.566516876220703 seconds ---\n"
          ],
          "name": "stdout"
        }
      ]
    },
    {
      "cell_type": "code",
      "metadata": {
        "id": "Rl50UF4IOX8V",
        "colab_type": "code",
        "colab": {}
      },
      "source": [
        "y = train['target'].values\n",
        "num_train_data = y.shape[0]"
      ],
      "execution_count": 0,
      "outputs": []
    },
    {
      "cell_type": "code",
      "metadata": {
        "id": "bCqgB2n6NUaw",
        "colab_type": "code",
        "colab": {}
      },
      "source": [
        "train_word_sequences = word_sequences[:num_train_data]\n",
        "test_word_sequences = word_sequences[num_train_data:]"
      ],
      "execution_count": 0,
      "outputs": []
    },
    {
      "cell_type": "code",
      "metadata": {
        "id": "301W5GF0MqPL",
        "colab_type": "code",
        "outputId": "c0ff5215-066d-4b17-a495-2f26b67be942",
        "colab": {
          "base_uri": "https://localhost:8080/",
          "height": 289
        }
      },
      "source": [
        "# hyperparameters\n",
        "max_length = 140\n",
        "embedding_size = 600\n",
        "learning_rate = 0.001\n",
        "batch_size = 256\n",
        "num_epoch = 4\n",
        "\n",
        "train_word_sequences = pad_sequences(train_word_sequences, maxlen=max_length, padding='post')\n",
        "test_word_sequences = pad_sequences(test_word_sequences, maxlen=max_length, padding='post')\n",
        "print(train_word_sequences[:1])\n",
        "print(test_word_sequences[:1])\n",
        "pred_prob = np.zeros((len(test_word_sequences),), dtype=np.float32)"
      ],
      "execution_count": 0,
      "outputs": [
        {
          "output_type": "stream",
          "text": [
            "[[ 1  2  3  4  5  6  7  8  9 10 11 12 13 14  0  0  0  0  0  0  0  0  0  0\n",
            "   0  0  0  0  0  0  0  0  0  0  0  0  0  0  0  0  0  0  0  0  0  0  0  0\n",
            "   0  0  0  0  0  0  0  0  0  0  0  0  0  0  0  0  0  0  0  0  0  0  0  0\n",
            "   0  0  0  0  0  0  0  0  0  0  0  0  0  0  0  0  0  0  0  0  0  0  0  0\n",
            "   0  0  0  0  0  0  0  0  0  0  0  0  0  0  0  0  0  0  0  0  0  0  0  0\n",
            "   0  0  0  0  0  0  0  0  0  0  0  0  0  0  0  0  0  0  0  0]]\n",
            "[[  46  762   57 3545  154  155    0    0    0    0    0    0    0    0\n",
            "     0    0    0    0    0    0    0    0    0    0    0    0    0    0\n",
            "     0    0    0    0    0    0    0    0    0    0    0    0    0    0\n",
            "     0    0    0    0    0    0    0    0    0    0    0    0    0    0\n",
            "     0    0    0    0    0    0    0    0    0    0    0    0    0    0\n",
            "     0    0    0    0    0    0    0    0    0    0    0    0    0    0\n",
            "     0    0    0    0    0    0    0    0    0    0    0    0    0    0\n",
            "     0    0    0    0    0    0    0    0    0    0    0    0    0    0\n",
            "     0    0    0    0    0    0    0    0    0    0    0    0    0    0\n",
            "     0    0    0    0    0    0    0    0    0    0    0    0    0    0]]\n"
          ],
          "name": "stdout"
        }
      ]
    },
    {
      "cell_type": "code",
      "metadata": {
        "id": "TOTY5ShkJqU3",
        "colab_type": "code",
        "outputId": "c6d76f7a-2b39-4f56-ef0c-0ed3b8cfd2f7",
        "colab": {
          "base_uri": "https://localhost:8080/",
          "height": 51
        }
      },
      "source": [
        "embedding_matrix_fasttext, nb_words = load_fasttext(word_dict, lemma_dict)"
      ],
      "execution_count": 0,
      "outputs": [
        {
          "output_type": "stream",
          "text": [
            "  4%|▎         | 1228/34503 [00:00<00:02, 12269.39it/s]"
          ],
          "name": "stderr"
        },
        {
          "output_type": "stream",
          "text": [
            "[-1. -1. -1. -1. -1.]\n"
          ],
          "name": "stdout"
        },
        {
          "output_type": "stream",
          "text": [
            "100%|██████████| 34503/34503 [00:06<00:00, 5033.16it/s]\n"
          ],
          "name": "stderr"
        }
      ]
    },
    {
      "cell_type": "code",
      "metadata": {
        "id": "V6f5B3PWAix8",
        "colab_type": "code",
        "outputId": "b52f7e89-aef5-459b-9084-a9c07bdbcd22",
        "colab": {
          "base_uri": "https://localhost:8080/",
          "height": 51
        }
      },
      "source": [
        "embedding_matrix_glove, nb_words = load_glove(word_dict, lemma_dict)"
      ],
      "execution_count": 0,
      "outputs": [
        {
          "output_type": "stream",
          "text": [
            "  3%|▎         | 1186/34503 [00:00<00:02, 11856.62it/s]"
          ],
          "name": "stderr"
        },
        {
          "output_type": "stream",
          "text": [
            "[-1. -1. -1. -1. -1.]\n"
          ],
          "name": "stdout"
        },
        {
          "output_type": "stream",
          "text": [
            "100%|██████████| 34503/34503 [00:06<00:00, 5346.85it/s]\n"
          ],
          "name": "stderr"
        }
      ]
    },
    {
      "cell_type": "code",
      "metadata": {
        "id": "Na0f1bAuSnxi",
        "colab_type": "code",
        "colab": {}
      },
      "source": [
        "def dot_product(x, kernel):\n",
        "    \"\"\"\n",
        "    Wrapper for dot product operation, in order to be compatible with both\n",
        "    Theano and Tensorflow\n",
        "    Args:\n",
        "        x (): input\n",
        "        kernel (): weights\n",
        "    Returns:\n",
        "    \"\"\"\n",
        "    if K.backend() == 'tensorflow':\n",
        "        return K.squeeze(K.dot(x, K.expand_dims(kernel)), axis=-1)\n",
        "    else:\n",
        "        return K.dot(x, kernel)\n",
        "    \n",
        "\n",
        "class AttentionWithContext(Layer):\n",
        "    \"\"\"\n",
        "    Attention operation, with a context/query vector, for temporal data.\n",
        "    Supports Masking.\n",
        "    Follows the work of Yang et al. [https://www.cs.cmu.edu/~diyiy/docs/naacl16.pdf]\n",
        "    \"Hierarchical Attention Networks for Document Classification\"\n",
        "    by using a context vector to assist the attention\n",
        "    # Input shape\n",
        "        3D tensor with shape: `(samples, steps, features)`.\n",
        "    # Output shape\n",
        "        2D tensor with shape: `(samples, features)`.\n",
        "    How to use:\n",
        "    Just put it on top of an RNN Layer (GRU/LSTM/SimpleRNN) with return_sequences=True.\n",
        "    The dimensions are inferred based on the output shape of the RNN.\n",
        "    Note: The layer has been tested with Keras 2.0.6\n",
        "    Example:\n",
        "        model.add(LSTM(64, return_sequences=True))\n",
        "        model.add(AttentionWithContext())\n",
        "        # next add a Dense layer (for classification/regression) or whatever...\n",
        "    \"\"\"\n",
        "\n",
        "    def __init__(self,\n",
        "                 W_regularizer=None, u_regularizer=None, b_regularizer=None,\n",
        "                 W_constraint=None, u_constraint=None, b_constraint=None,\n",
        "                 bias=True, **kwargs):\n",
        "\n",
        "        self.supports_masking = True\n",
        "        self.init = initializers.get('glorot_uniform')\n",
        "\n",
        "        self.W_regularizer = regularizers.get(W_regularizer)\n",
        "        self.u_regularizer = regularizers.get(u_regularizer)\n",
        "        self.b_regularizer = regularizers.get(b_regularizer)\n",
        "\n",
        "        self.W_constraint = constraints.get(W_constraint)\n",
        "        self.u_constraint = constraints.get(u_constraint)\n",
        "        self.b_constraint = constraints.get(b_constraint)\n",
        "\n",
        "        self.bias = bias\n",
        "        super(AttentionWithContext, self).__init__(**kwargs)\n",
        "\n",
        "    def build(self, input_shape):\n",
        "        assert len(input_shape) == 3\n",
        "\n",
        "        self.W = self.add_weight((input_shape[-1], input_shape[-1],),\n",
        "                                 initializer=self.init,\n",
        "                                 name='{}_W'.format(self.name),\n",
        "                                 regularizer=self.W_regularizer,\n",
        "                                 constraint=self.W_constraint)\n",
        "        if self.bias:\n",
        "            self.b = self.add_weight((input_shape[-1],),\n",
        "                                     initializer='zero',\n",
        "                                     name='{}_b'.format(self.name),\n",
        "                                     regularizer=self.b_regularizer,\n",
        "                                     constraint=self.b_constraint)\n",
        "\n",
        "        self.u = self.add_weight((input_shape[-1],),\n",
        "                                 initializer=self.init,\n",
        "                                 name='{}_u'.format(self.name),\n",
        "                                 regularizer=self.u_regularizer,\n",
        "                                 constraint=self.u_constraint)\n",
        "\n",
        "        super(AttentionWithContext, self).build(input_shape)\n",
        "\n",
        "    def compute_mask(self, input, input_mask=None):\n",
        "        # do not pass the mask to the next layers\n",
        "        return None\n",
        "\n",
        "    def call(self, x, mask=None):\n",
        "        uit = dot_product(x, self.W)\n",
        "\n",
        "        if self.bias:\n",
        "            uit += self.b\n",
        "\n",
        "        uit = K.tanh(uit)\n",
        "        ait = dot_product(uit, self.u)\n",
        "\n",
        "        a = K.exp(ait)\n",
        "\n",
        "        # apply mask after the exp. will be re-normalized next\n",
        "        if mask is not None:\n",
        "            # Cast the mask to floatX to avoid float64 upcasting in theano\n",
        "            a *= K.cast(mask, K.floatx())\n",
        "\n",
        "        # in some cases especially in the early stages of training the sum may be almost zero\n",
        "        # and this results in NaN's. A workaround is to add a very small positive number ε to the sum.\n",
        "        # a /= K.cast(K.sum(a, axis=1, keepdims=True), K.floatx())\n",
        "        a /= K.cast(K.sum(a, axis=1, keepdims=True) + K.epsilon(), K.floatx())\n",
        "\n",
        "        a = K.expand_dims(a)\n",
        "        weighted_input = x * a\n",
        "        return K.sum(weighted_input, axis=1)\n",
        "\n",
        "    def compute_output_shape(self, input_shape):\n",
        "        return input_shape[0], input_shape[-1]"
      ],
      "execution_count": 0,
      "outputs": []
    },
    {
      "cell_type": "code",
      "metadata": {
        "id": "wK3SzAYLAi-c",
        "colab_type": "code",
        "colab": {}
      },
      "source": [
        "def build_model(embedding_matrix, nb_words, embedding_size=300):\n",
        "    inp = Input(shape=(max_length,))\n",
        "    x = Embedding(nb_words, embedding_size, weights=[embedding_matrix], trainable=False)(inp)\n",
        "                    \n",
        "    # prob = Position_Embedding()(x)\n",
        "    # prob = AttentionWithContext()(prob)\n",
        "    # prob = GlobalMaxPool1D()(prob)      \n",
        "    prob = Position_Embedding()(BatchNormalization()(x))\n",
        "    # prob = Attention_block(prob, 4, 64, 1024)\n",
        "    prob = GlobalMaxPool1D()(prob)\n",
        "    # x = SpatialDropout1D(0.3)(x)\n",
        "    x1 = Bidirectional(CuDNNLSTM(256, return_sequences=True))(x)\n",
        "    x2 = Bidirectional(CuDNNGRU(128, return_sequences=True))(x1)\n",
        "    max_pool1 = AttentionWithContext()(x1)\n",
        "    max_pool2 = AttentionWithContext()(x2)\n",
        "    conc = Concatenate()([max_pool1, max_pool2])\n",
        "    predictions = Dense(1, activation='sigmoid')(conc)\n",
        "    model = Model(inputs=inp, outputs=predictions)\n",
        "    adam = optimizers.Adam(lr=learning_rate)\n",
        "    model.compile(optimizer=adam, loss='binary_crossentropy', metrics=[f1])\n",
        "    return model"
      ],
      "execution_count": 0,
      "outputs": []
    },
    {
      "cell_type": "code",
      "metadata": {
        "id": "YJnkvcu6Ai9F",
        "colab_type": "code",
        "outputId": "05f2ac9a-b624-4e45-e0ce-7df2969fbba7",
        "colab": {
          "base_uri": "https://localhost:8080/",
          "height": 714
        }
      },
      "source": [
        "\n",
        "model = build_model(embedding_matrix_glove, nb_words, embedding_size=300)\n",
        "history=model.fit(train_word_sequences, y, batch_size=batch_size, epochs=20, validation_split=0.2, verbose=2)"
      ],
      "execution_count": 0,
      "outputs": [
        {
          "output_type": "stream",
          "text": [
            "Train on 6090 samples, validate on 1523 samples\n",
            "Epoch 1/20\n",
            " - 10s - loss: 0.5435 - f1: 0.5946 - val_loss: 0.4216 - val_f1: 0.7557\n",
            "Epoch 2/20\n",
            " - 3s - loss: 0.4245 - f1: 0.7565 - val_loss: 0.4235 - val_f1: 0.7780\n",
            "Epoch 3/20\n",
            " - 3s - loss: 0.3910 - f1: 0.7890 - val_loss: 0.4133 - val_f1: 0.7677\n",
            "Epoch 4/20\n",
            " - 3s - loss: 0.3609 - f1: 0.8067 - val_loss: 0.4226 - val_f1: 0.7736\n",
            "Epoch 5/20\n",
            " - 3s - loss: 0.3470 - f1: 0.8167 - val_loss: 0.4380 - val_f1: 0.7434\n",
            "Epoch 6/20\n",
            " - 3s - loss: 0.3184 - f1: 0.8400 - val_loss: 0.4505 - val_f1: 0.7760\n",
            "Epoch 7/20\n",
            " - 3s - loss: 0.3058 - f1: 0.8469 - val_loss: 0.4465 - val_f1: 0.7576\n",
            "Epoch 8/20\n",
            " - 3s - loss: 0.2743 - f1: 0.8637 - val_loss: 0.4781 - val_f1: 0.7553\n",
            "Epoch 9/20\n",
            " - 3s - loss: 0.2487 - f1: 0.8831 - val_loss: 0.4974 - val_f1: 0.7469\n",
            "Epoch 10/20\n",
            " - 3s - loss: 0.2320 - f1: 0.8903 - val_loss: 0.5175 - val_f1: 0.7408\n",
            "Epoch 11/20\n",
            " - 3s - loss: 0.2003 - f1: 0.9052 - val_loss: 0.5854 - val_f1: 0.7304\n",
            "Epoch 12/20\n",
            " - 3s - loss: 0.1869 - f1: 0.9145 - val_loss: 0.5819 - val_f1: 0.7505\n",
            "Epoch 13/20\n",
            " - 3s - loss: 0.1616 - f1: 0.9287 - val_loss: 0.6056 - val_f1: 0.7333\n",
            "Epoch 14/20\n",
            " - 3s - loss: 0.1548 - f1: 0.9308 - val_loss: 0.6224 - val_f1: 0.7465\n",
            "Epoch 15/20\n",
            " - 3s - loss: 0.7736 - f1: 0.9133 - val_loss: 8.5207 - val_f1: 0.6254\n",
            "Epoch 16/20\n",
            " - 3s - loss: 9.2356 - f1: 0.5922 - val_loss: 8.5207 - val_f1: 0.6254\n",
            "Epoch 17/20\n",
            " - 3s - loss: 9.2356 - f1: 0.5915 - val_loss: 8.5207 - val_f1: 0.6254\n",
            "Epoch 18/20\n",
            " - 3s - loss: 9.2356 - f1: 0.5921 - val_loss: 8.5207 - val_f1: 0.6254\n",
            "Epoch 19/20\n",
            " - 3s - loss: 9.2356 - f1: 0.5916 - val_loss: 8.5207 - val_f1: 0.6254\n",
            "Epoch 20/20\n",
            " - 3s - loss: 9.2356 - f1: 0.5920 - val_loss: 8.5207 - val_f1: 0.6254\n"
          ],
          "name": "stdout"
        }
      ]
    },
    {
      "cell_type": "code",
      "metadata": {
        "id": "ww0oGmo9Aiwg",
        "colab_type": "code",
        "outputId": "398607b2-4c20-4859-c6c5-7e5cd78065f1",
        "colab": {
          "base_uri": "https://localhost:8080/",
          "height": 590
        }
      },
      "source": [
        "plot_history(history)"
      ],
      "execution_count": 0,
      "outputs": [
        {
          "output_type": "stream",
          "text": [
            "WARNING:matplotlib.legend:No handles with labels found to put in legend.\n"
          ],
          "name": "stderr"
        },
        {
          "output_type": "display_data",
          "data": {
            "image/png": "[encoded data removed]",
            "text/plain": [
              "<Figure size 432x288 with 1 Axes>"
            ]
          },
          "metadata": {
            "tags": []
          }
        },
        {
          "output_type": "display_data",
          "data": {
            "image/png": "[encoded data removed]",
            "text/plain": [
              "<Figure size 432x288 with 1 Axes>"
            ]
          },
          "metadata": {
            "tags": []
          }
        }
      ]
    },
    {
      "cell_type": "code",
      "metadata": {
        "id": "MNzKnMViipm8",
        "colab_type": "code",
        "colab": {}
      },
      "source": [
        ""
      ],
      "execution_count": 0,
      "outputs": []
    },
    {
      "cell_type": "code",
      "metadata": {
        "id": "EdSdj6JJAirn",
        "colab_type": "code",
        "colab": {}
      },
      "source": [
        ""
      ],
      "execution_count": 0,
      "outputs": []
    },
    {
      "cell_type": "markdown",
      "metadata": {
        "id": "rM4j98-4y4UY",
        "colab_type": "text"
      },
      "source": [
        "# RoBERTa\n",
        "https://huggingface.co/transformers/pretrained_models.html\n",
        "\n",
        "https://medium.com/swlh/simplerepresentations-bert-roberta-xlm-xlnet-and-distilbert-features-for-any-nlp-task-468b5ceb6f0e\n",
        "\n",
        "https://github.com/AliOsm/simplerepresentations/blob/master/examples/text_classification_example.ipynb\n"
      ]
    },
    {
      "cell_type": "code",
      "metadata": {
        "id": "YQ6jFK3OnpYV",
        "colab_type": "code",
        "colab": {}
      },
      "source": [
        "import numpy as np\n",
        "from keras.utils import Sequence\n",
        "\n",
        "from keras.layers.normalization import BatchNormalization\n",
        "class DataGenerator(Sequence):\n",
        "    def __init__(self, representation_model, sentences, labels, batch_size, token_level=True):\n",
        "        self.representation_model = representation_model\n",
        "        self.sentences = sentences\n",
        "        self.labels = labels\n",
        "        self.batch_size = batch_size\n",
        "        self.token_level = token_level\n",
        "\n",
        "    def __len__(self):\n",
        "        return int(np.ceil(len(self.sentences) / float(self.batch_size)))\n",
        "\n",
        "    def __getitem__(self, idx):\n",
        "        sentences_batch = np.array(self.sentences[idx * self.batch_size:(idx + 1) * self.batch_size])\n",
        "        labels_batch = np.array(self.labels[idx * self.batch_size:(idx + 1) * self.batch_size])\n",
        "\n",
        "        sentences_sen_batch, sentences_tok_batch = self.representation_model(sentences_batch)\n",
        "\n",
        "        if self.token_level:\n",
        "            sentences_batch = sentences_tok_batch\n",
        "        else:\n",
        "            sentences_batch = sentences_sen_batch\n",
        "\n",
        "        return sentences_batch, np.array(labels_batch)"
      ],
      "execution_count": 0,
      "outputs": []
    },
    {
      "cell_type": "code",
      "metadata": {
        "id": "yzEdB5HW9NSY",
        "colab_type": "code",
        "colab": {}
      },
      "source": [
        "class Self_Attention(Layer):\n",
        "    def __init__(self, head_num, head_size, **kwargs):\n",
        "        self.head_size = head_size\n",
        "        self.sqrt_head_size = math.sqrt(head_size)\n",
        "        self.head_num = head_num\n",
        "        self.output_units = head_size * head_num\n",
        "        self.supports_masking = True\n",
        "        super(Self_Attention, self).__init__(**kwargs)\n",
        "    def build(self, input_shape):\n",
        "        self.d_model = input_shape[-1]\n",
        "        self.kernal = self.add_weight('kernal', (self.head_num, 3, self.d_model, self.head_size),\n",
        "                                      initializer = 'glorot_uniform')\n",
        "        super(Self_Attention, self).build(input_shape)\n",
        "        self.built = True\n",
        "    def call(self, inputs, mask = None):\n",
        "        w = K.dot(inputs, self.kernal)\n",
        "        w = K.permute_dimensions(w, [3, 2, 0, 1, 4])\n",
        "        Head = K.batch_dot(w[0], K.permute_dimensions(w[1], [0, 1, 3, 2]))\n",
        "        if mask is not None:\n",
        "            new_mask = K.expand_dims(mask, -1)\n",
        "            new_mask = K.batch_dot(new_mask, K.permute_dimensions(new_mask, [0, 2, 1]))\n",
        "            new_mask = K.expand_dims(new_mask, 0)\n",
        "            Head -= 1e8 * (K.ones_like(Head) - new_mask)\n",
        "        Head = K.softmax(Head)\n",
        "        Head = K.batch_dot(Head, w[2])\n",
        "        Head = K.permute_dimensions(Head, [1, 2, 3, 0])\n",
        "        return K.reshape(Head, (-1, K.shape(Head)[1],self.output_units))\n",
        "    def compute_output_shape(self, input_shape):\n",
        "        return (input_shape[0], input_shape[1], self.output_units)\n",
        "    def compute_mask(self, inputs, mask = None):\n",
        "        pass"
      ],
      "execution_count": 0,
      "outputs": []
    },
    {
      "cell_type": "code",
      "metadata": {
        "id": "cAv-dmaT9NPj",
        "colab_type": "code",
        "colab": {}
      },
      "source": [
        "class Position_Embedding(Layer):\n",
        "    def __init__(self, **kwargs):\n",
        "        self.supports_masking = True\n",
        "        super(Position_Embedding, self).__init__(**kwargs)\n",
        "    def build(self, input_shape):\n",
        "        self.depth = input_shape[1]\n",
        "        self.d_model = input_shape[2]\n",
        "        super(Position_Embedding, self).build(input_shape)\n",
        "        self.built = True\n",
        "    def call(self, inputs):\n",
        "        pos_emb = np.zeros([1, self.depth, self.d_model])\n",
        "        p = np.zeros([self.d_model], dtype = 'int32')\n",
        "        for i in range(self.d_model):\n",
        "            p[i] = math.pow(10000, (i - 1) / self.d_model) if i%2 else math.pow(10000, i / self.d_model)\n",
        "        for i in range(self.depth):\n",
        "            for j in range(self.d_model):\n",
        "                pos_emb[0][i][j] = math.cos(i / p[j]) if j%2 else math.sin(i / p[j])\n",
        "        return inputs + tf.Variable(np.asarray(pos_emb, dtype = 'float32'), trainable = False)\n",
        "    def compute_mask(self, inputs, mask = None):\n",
        "        pass"
      ],
      "execution_count": 0,
      "outputs": []
    },
    {
      "cell_type": "code",
      "metadata": {
        "id": "P8sAYzEj9T6R",
        "colab_type": "code",
        "colab": {}
      },
      "source": [
        "def Attention_block(inputs, head_num, head_size, hidden_units):\n",
        "    s = Self_Attention(head_num, head_size)(inputs)\n",
        "    s = BatchNormalization()(Add()([s, inputs]))\n",
        "    output = Dense(hidden_units, activation = 'relu')(s)\n",
        "    output = Dense(int(inputs.shape[-1]))(output)\n",
        "    return BatchNormalization()(Add()([s, output]))"
      ],
      "execution_count": 0,
      "outputs": []
    },
    {
      "cell_type": "code",
      "metadata": {
        "id": "6o0n1EGVzqie",
        "colab_type": "code",
        "colab": {}
      },
      "source": [
        "def plot_history(history):\n",
        "    loss_list = [s for s in history.history.keys() if 'loss' in s and 'val' not in s]\n",
        "    val_loss_list = [s for s in history.history.keys() if 'loss' in s and 'val' in s]\n",
        "    acc_list = [s for s in history.history.keys() if 'acc' in s and 'val' not in s]\n",
        "    val_acc_list = [s for s in history.history.keys() if 'acc' in s and 'val' in s]\n",
        "    \n",
        "    if len(loss_list) == 0:\n",
        "        print('Loss is missing in history')\n",
        "        return \n",
        "    \n",
        "    ## As loss always exists\n",
        "    epochs = range(1,len(history.history[loss_list[0]]) + 1)\n",
        "    \n",
        "    ## Loss\n",
        "    plt.figure(1)\n",
        "    for l in loss_list:\n",
        "        plt.plot(epochs, history.history[l], 'b', label='Training loss (' + str(str(format(history.history[l][-1],'.5f'))+')'))\n",
        "    for l in val_loss_list:\n",
        "        plt.plot(epochs, history.history[l], 'g', label='Validation loss (' + str(str(format(history.history[l][-1],'.5f'))+')'))\n",
        "    \n",
        "    plt.title('Loss')\n",
        "    plt.xlabel('Epochs')\n",
        "    plt.ylabel('Loss')\n",
        "    plt.legend()\n",
        "    \n",
        "    ## Accuracy\n",
        "    plt.figure(2)\n",
        "    for l in acc_list:\n",
        "        plt.plot(epochs, history.history[l], 'b', label='Training accuracy (' + str(format(history.history[l][-1],'.5f'))+')')\n",
        "    for l in val_acc_list:    \n",
        "        plt.plot(epochs, history.history[l], 'g', label='Validation accuracy (' + str(format(history.history[l][-1],'.5f'))+')')\n",
        "\n",
        "    plt.title('Accuracy')\n",
        "    plt.xlabel('Epochs')\n",
        "    plt.ylabel('Accuracy')\n",
        "    plt.legend()\n",
        "    plt.show()"
      ],
      "execution_count": 0,
      "outputs": []
    },
    {
      "cell_type": "code",
      "metadata": {
        "id": "Laj481Yhsvec",
        "colab_type": "code",
        "outputId": "7172600b-bdca-4923-b836-94a531d67129",
        "colab": {
          "base_uri": "https://localhost:8080/",
          "height": 213,
          "referenced_widgets": [
            "21546645bc9c48ecb3937e669fc87833",
            "c63c1775c6224d4b94e56be0f7b69296",
            "e6281379d27d40e08d3999b1d54fda9d",
            "4bf9d4a3470e43bf82b85f8561ac79d8",
            "74455fe876b4416db94e03cc6f0e07bb",
            "d44d510e147b45598cad797ec1917530",
            "40e4d69b557b4ca8bf42a4a57d52ba6b",
            "ffbd0bd4b3bb4962b16e7ecfb15e18d6",
            "d8cc0f7204da4e45bd7187e065dd13b4",
            "184959e31dcc4b3c99fb0c69b3b1aedf",
            "da5b8246561a48c4b9ac0ec61ee3e16d",
            "8749d339f695418d94bd56d6798ef6f8",
            "55210b72411441c2b1174389fd918bb6",
            "6bb2ed57aadf43eebd0000f24eca8468",
            "fa23efc162964a0ab19c62d40ae6934d",
            "53f2cac147a9405da4182a0a0553fc7d",
            "d1343af446534ffdb9201c9bceb92764",
            "39316527df0a47599b1021a6a7b9876d",
            "7ea7934a88eb490687245f5a20715ff5",
            "5ea2c9397d554d40afe3e6c8e278fb68",
            "13d55a4d493044cb9157ade4c07eed3b",
            "b3caaed2b4264401bff12145fa775f48",
            "af2facf5e0ac41abb9466c6f494cc363",
            "158d648f3eaa48cebd11626a289fc1d4",
            "7bd1b022f50641a087a2adeef89fff35",
            "90f9e40635524e608838e110971ab5e8",
            "5c636a4f3b854e1f906a1a24e5ae5f2a",
            "4c707edb698c4b40b59abb68d77817f9",
            "7d10b42861cc43d79be2d5fd1bd80527",
            "d40315fe3d8f4f39918c92911917e5aa",
            "50eabcf1978f4a60a0e790b514694b6f",
            "5c44427884244f9494cb5115f0d985b0"
          ]
        }
      },
      "source": [
        "from simplerepresentations import RepresentationModel\n",
        "\n",
        "model_type = 'roberta'\n",
        "model_name = 'roberta-base'\n",
        "\n",
        "representation_model = RepresentationModel(\n",
        "    model_type=model_type,\n",
        "    model_name=model_name,\n",
        "    batch_size=128,\n",
        "    max_seq_length=128, # truncate sentences to be less than or equal to 128 tokens\n",
        "    combination_method='sum', # sum the last `last_hidden_to_use` hidden states\n",
        "    last_hidden_to_use=1, # use the last 1 hidden states to build tokens representations\n",
        "    verbose=0\n",
        ")"
      ],
      "execution_count": 0,
      "outputs": [
        {
          "output_type": "display_data",
          "data": {
            "application/vnd.jupyter.widget-view+json": {
              "model_id": "21546645bc9c48ecb3937e669fc87833",
              "version_minor": 0,
              "version_major": 2
            },
            "text/plain": [
              "HBox(children=(IntProgress(value=0, description='Downloading', max=524, style=ProgressStyle(description_width=…"
            ]
          },
          "metadata": {
            "tags": []
          }
        },
        {
          "output_type": "stream",
          "text": [
            "\n"
          ],
          "name": "stdout"
        },
        {
          "output_type": "display_data",
          "data": {
            "application/vnd.jupyter.widget-view+json": {
              "model_id": "d8cc0f7204da4e45bd7187e065dd13b4",
              "version_minor": 0,
              "version_major": 2
            },
            "text/plain": [
              "HBox(children=(IntProgress(value=0, description='Downloading', max=501200538, style=ProgressStyle(description_…"
            ]
          },
          "metadata": {
            "tags": []
          }
        },
        {
          "output_type": "stream",
          "text": [
            "\n"
          ],
          "name": "stdout"
        },
        {
          "output_type": "display_data",
          "data": {
            "application/vnd.jupyter.widget-view+json": {
              "model_id": "d1343af446534ffdb9201c9bceb92764",
              "version_minor": 0,
              "version_major": 2
            },
            "text/plain": [
              "HBox(children=(IntProgress(value=0, description='Downloading', max=898823, style=ProgressStyle(description_wid…"
            ]
          },
          "metadata": {
            "tags": []
          }
        },
        {
          "output_type": "stream",
          "text": [
            "\n"
          ],
          "name": "stdout"
        },
        {
          "output_type": "display_data",
          "data": {
            "application/vnd.jupyter.widget-view+json": {
              "model_id": "7bd1b022f50641a087a2adeef89fff35",
              "version_minor": 0,
              "version_major": 2
            },
            "text/plain": [
              "HBox(children=(IntProgress(value=0, description='Downloading', max=456318, style=ProgressStyle(description_wid…"
            ]
          },
          "metadata": {
            "tags": []
          }
        },
        {
          "output_type": "stream",
          "text": [
            "\n"
          ],
          "name": "stdout"
        }
      ]
    },
    {
      "cell_type": "code",
      "metadata": {
        "id": "jLWr0NpUw5u9",
        "colab_type": "code",
        "outputId": "6ee3ae8f-8dca-426a-df4f-c077c80847ea",
        "colab": {
          "base_uri": "https://localhost:8080/",
          "height": 85
        }
      },
      "source": [
        "all_sentences_representations, all_tokens_representations = representation_model(['Simple Representations!'])\n",
        "\n",
        "print(all_sentences_representations.shape) # (1, 768)\n",
        "print(all_tokens_representations.shape) # (1, 128, 768)\n",
        "print(all_sentences_representations[0].shape) # (768,)\n",
        "print(all_tokens_representations[0].shape) # (128, 768)"
      ],
      "execution_count": 0,
      "outputs": [
        {
          "output_type": "stream",
          "text": [
            "(1, 768)\n",
            "(1, 128, 768)\n",
            "(768,)\n",
            "(128, 768)\n"
          ],
          "name": "stdout"
        }
      ]
    },
    {
      "cell_type": "code",
      "metadata": {
        "id": "8aOYKiZH2x9e",
        "colab_type": "code",
        "colab": {}
      },
      "source": [
        "# train_text, test_text, train_label, test_label "
      ],
      "execution_count": 0,
      "outputs": []
    },
    {
      "cell_type": "code",
      "metadata": {
        "id": "mC-Uu1e0w5yk",
        "colab_type": "code",
        "colab": {}
      },
      "source": [
        "train_tok_generator = DataGenerator(representation_model, train_text, train_label, 128)\n",
        "val_tok_generator = DataGenerator(representation_model, test_text, test_label, 128)\n",
        "test_tok_generator = DataGenerator(representation_model, test['text'], original['target'], 128)"
      ],
      "execution_count": 0,
      "outputs": []
    },
    {
      "cell_type": "code",
      "metadata": {
        "id": "uKDgkq-2yRfk",
        "colab_type": "code",
        "outputId": "57227a05-48a2-49a6-e393-95479f5edf77",
        "colab": {
          "base_uri": "https://localhost:8080/",
          "height": 357
        }
      },
      "source": [
        "from keras.models import Input, Model\n",
        "from keras.layers import Dropout, Dense, LSTM, Bidirectional\n",
        "from keras.optimizers import Adam\n",
        "\n",
        "model_input = Input(shape=(128, len(representation_model(['test'])[0][0])))\n",
        "\n",
        "model = Bidirectional(LSTM(units=128,dropout=0.3, return_sequences=True))(model_input)\n",
        "model = Bidirectional(LSTM(units=128,dropout=0.3, return_sequences=False))(model)\n",
        "model = Dense(128, activation='relu')(model)\n",
        "model = Dropout(0.3)(model)\n",
        "\n",
        "model_output = Dense(1, activation='sigmoid')(model)\n",
        "\n",
        "model = Model(model_input, model_output)\n",
        "\n",
        "model.compile(optimizer=Adam(lr=0.001), loss='binary_crossentropy', metrics=[f1])\n",
        "model.summary()"
      ],
      "execution_count": 0,
      "outputs": [
        {
          "output_type": "stream",
          "text": [
            "Model: \"model_6\"\n",
            "_________________________________________________________________\n",
            "Layer (type)                 Output Shape              Param #   \n",
            "=================================================================\n",
            "input_11 (InputLayer)        (None, 128, 768)          0         \n",
            "_________________________________________________________________\n",
            "bidirectional_13 (Bidirectio (None, 128, 256)          918528    \n",
            "_________________________________________________________________\n",
            "bidirectional_14 (Bidirectio (None, 256)               394240    \n",
            "_________________________________________________________________\n",
            "dense_7 (Dense)              (None, 128)               32896     \n",
            "_________________________________________________________________\n",
            "dropout_2 (Dropout)          (None, 128)               0         \n",
            "_________________________________________________________________\n",
            "dense_8 (Dense)              (None, 1)                 129       \n",
            "=================================================================\n",
            "Total params: 1,345,793\n",
            "Trainable params: 1,345,793\n",
            "Non-trainable params: 0\n",
            "_________________________________________________________________\n"
          ],
          "name": "stdout"
        }
      ]
    },
    {
      "cell_type": "code",
      "metadata": {
        "id": "bC0sPMtwydN0",
        "colab_type": "code",
        "outputId": "8618db45-d90d-467a-e72c-0716abd17795",
        "colab": {
          "base_uri": "https://localhost:8080/",
          "height": 357
        }
      },
      "source": [
        "history=model.fit_generator(train_tok_generator,validation_data=val_tok_generator, epochs=10)"
      ],
      "execution_count": 0,
      "outputs": [
        {
          "output_type": "stream",
          "text": [
            "Epoch 1/10\n",
            "48/48 [==============================] - 169s 4s/step - loss: 0.5474 - f1: 0.6284 - val_loss: 0.4209 - val_f1: 0.7832\n",
            "Epoch 2/10\n",
            "48/48 [==============================] - 156s 3s/step - loss: 0.4247 - f1: 0.7666 - val_loss: 0.3960 - val_f1: 0.8043\n",
            "Epoch 3/10\n",
            "48/48 [==============================] - 158s 3s/step - loss: 0.4041 - f1: 0.7762 - val_loss: 0.3870 - val_f1: 0.8049\n",
            "Epoch 4/10\n",
            "48/48 [==============================] - 158s 3s/step - loss: 0.3983 - f1: 0.7853 - val_loss: 0.4204 - val_f1: 0.8134\n",
            "Epoch 5/10\n",
            "48/48 [==============================] - 158s 3s/step - loss: 0.3888 - f1: 0.7929 - val_loss: 0.3870 - val_f1: 0.8138\n",
            "Epoch 6/10\n",
            "48/48 [==============================] - 158s 3s/step - loss: 0.3736 - f1: 0.8007 - val_loss: 0.3810 - val_f1: 0.8143\n",
            "Epoch 7/10\n",
            "48/48 [==============================] - 160s 3s/step - loss: 0.3624 - f1: 0.8055 - val_loss: 0.4061 - val_f1: 0.7970\n",
            "Epoch 8/10\n",
            "48/48 [==============================] - 160s 3s/step - loss: 0.3589 - f1: 0.8106 - val_loss: 0.3878 - val_f1: 0.8113\n",
            "Epoch 9/10\n",
            "48/48 [==============================] - 160s 3s/step - loss: 0.3433 - f1: 0.8094 - val_loss: 0.4395 - val_f1: 0.7942\n",
            "Epoch 10/10\n",
            "48/48 [==============================] - 160s 3s/step - loss: 0.3364 - f1: 0.8203 - val_loss: 0.4071 - val_f1: 0.7846\n"
          ],
          "name": "stdout"
        }
      ]
    },
    {
      "cell_type": "code",
      "metadata": {
        "id": "PRiM1Xvw3pIf",
        "colab_type": "code",
        "outputId": "3e9f4af9-5396-4305-a8c0-5f3253bba072",
        "colab": {
          "base_uri": "https://localhost:8080/",
          "height": 590
        }
      },
      "source": [
        "plot_history(history)"
      ],
      "execution_count": 0,
      "outputs": [
        {
          "output_type": "stream",
          "text": [
            "WARNING:matplotlib.legend:No handles with labels found to put in legend.\n"
          ],
          "name": "stderr"
        },
        {
          "output_type": "display_data",
          "data": {
            "image/png": "[encoded data removed]",
            "text/plain": [
              "<Figure size 432x288 with 1 Axes>"
            ]
          },
          "metadata": {
            "tags": []
          }
        },
        {
          "output_type": "display_data",
          "data": {
            "image/png": "[encoded data removed]",
            "text/plain": [
              "<Figure size 432x288 with 1 Axes>"
            ]
          },
          "metadata": {
            "tags": []
          }
        }
      ]
    },
    {
      "cell_type": "code",
      "metadata": {
        "id": "YvQ_FlxFznU6",
        "colab_type": "code",
        "outputId": "0412e5e9-75d5-4d04-9954-6b4f997e3a30",
        "colab": {
          "base_uri": "https://localhost:8080/",
          "height": 34
        }
      },
      "source": [
        "print(model.evaluate_generator(test_tok_generator))"
      ],
      "execution_count": 0,
      "outputs": [
        {
          "output_type": "stream",
          "text": [
            "[0.4287386970343927, 0.7640821193574654]\n"
          ],
          "name": "stdout"
        }
      ]
    },
    {
      "cell_type": "code",
      "metadata": {
        "id": "qVINKo9q1yID",
        "colab_type": "code",
        "outputId": "27acfaa5-25ac-4897-884e-f1d5fbb193e1",
        "colab": {
          "base_uri": "https://localhost:8080/",
          "height": 34
        }
      },
      "source": [
        "\n",
        "pred=model.predict(test_tok_generator)\n",
        "f1_score(original['target'], pred.round())"
      ],
      "execution_count": 0,
      "outputs": [
        {
          "output_type": "execute_result",
          "data": {
            "text/plain": [
              "0.7914674512688489"
            ]
          },
          "metadata": {
            "tags": []
          },
          "execution_count": 71
        }
      ]
    },
    {
      "cell_type": "code",
      "metadata": {
        "id": "tnrZseN_93T6",
        "colab_type": "code",
        "outputId": "2fc8f2b4-b68c-4682-dcb4-6c64b655ab05",
        "colab": {
          "base_uri": "https://localhost:8080/",
          "height": 391
        }
      },
      "source": [
        "from keras.models import Input, Model\n",
        "from keras.layers import Dropout, Dense, LSTM, Bidirectional\n",
        "from keras.optimizers import Adam\n",
        "\n",
        "model_input = Input(shape=(128, len(representation_model(['test'])[0][0])))\n",
        "\n",
        "model = Bidirectional(LSTM(units=128,dropout=0.3, return_sequences=True))(model_input)\n",
        "model = Bidirectional(LSTM(units=128,dropout=0.3, return_sequences=True))(model)\n",
        "model=AttentionWithContext()(model)\n",
        "model = Dense(128, activation='relu')(model)\n",
        "model = Dropout(0.3)(model)\n",
        "\n",
        "model_output = Dense(1, activation='sigmoid')(model)\n",
        "\n",
        "model = Model(model_input, model_output)\n",
        "\n",
        "model.compile(optimizer=Adam(lr=0.001), loss='binary_crossentropy', metrics=[f1])\n",
        "model.summary()"
      ],
      "execution_count": 0,
      "outputs": [
        {
          "output_type": "stream",
          "text": [
            "Model: \"model_7\"\n",
            "_________________________________________________________________\n",
            "Layer (type)                 Output Shape              Param #   \n",
            "=================================================================\n",
            "input_12 (InputLayer)        (None, 128, 768)          0         \n",
            "_________________________________________________________________\n",
            "bidirectional_15 (Bidirectio (None, 128, 256)          918528    \n",
            "_________________________________________________________________\n",
            "bidirectional_16 (Bidirectio (None, 128, 256)          394240    \n",
            "_________________________________________________________________\n",
            "attention_with_context_5 (At (None, 256)               66048     \n",
            "_________________________________________________________________\n",
            "dense_9 (Dense)              (None, 128)               32896     \n",
            "_________________________________________________________________\n",
            "dropout_3 (Dropout)          (None, 128)               0         \n",
            "_________________________________________________________________\n",
            "dense_10 (Dense)             (None, 1)                 129       \n",
            "=================================================================\n",
            "Total params: 1,411,841\n",
            "Trainable params: 1,411,841\n",
            "Non-trainable params: 0\n",
            "_________________________________________________________________\n"
          ],
          "name": "stdout"
        }
      ]
    },
    {
      "cell_type": "code",
      "metadata": {
        "id": "ceVgSxL1Tkqg",
        "colab_type": "code",
        "outputId": "cf354594-85b0-45b3-ac38-4fef56390a1c",
        "colab": {
          "base_uri": "https://localhost:8080/",
          "height": 408
        }
      },
      "source": [
        ""
      ],
      "execution_count": 0,
      "outputs": [
        {
          "output_type": "stream",
          "text": [
            "Epoch 1/20\n",
            "48/48 [==============================] - 176s 4s/step - loss: 0.5022 - f1: 0.6978 - val_loss: 0.4327 - val_f1: 0.7966\n",
            "Epoch 2/20\n",
            "48/48 [==============================] - 159s 3s/step - loss: 0.4090 - f1: 0.7720 - val_loss: 0.3872 - val_f1: 0.7777\n",
            "Epoch 3/20\n",
            "19/48 [==========>...................] - ETA: 1:45 - loss: 0.3775 - f1: 0.8019"
          ],
          "name": "stdout"
        },
        {
          "output_type": "error",
          "ename": "KeyboardInterrupt",
          "evalue": "ignored",
          "traceback": [
            "\u001b[0;31m---------------------------------------------------------------------------\u001b[0m",
            "\u001b[0;31mKeyboardInterrupt\u001b[0m                         Traceback (most recent call last)",
            "\u001b[0;32m<ipython-input-120-7587bee01e05>\u001b[0m in \u001b[0;36m<module>\u001b[0;34m()\u001b[0m\n\u001b[0;32m----> 1\u001b[0;31m \u001b[0mhistory\u001b[0m\u001b[0;34m=\u001b[0m\u001b[0mmodel\u001b[0m\u001b[0;34m.\u001b[0m\u001b[0mfit_generator\u001b[0m\u001b[0;34m(\u001b[0m\u001b[0mtrain_tok_generator\u001b[0m\u001b[0;34m,\u001b[0m\u001b[0mvalidation_data\u001b[0m\u001b[0;34m=\u001b[0m\u001b[0mval_tok_generator\u001b[0m\u001b[0;34m,\u001b[0m  \u001b[0mepochs\u001b[0m\u001b[0;34m=\u001b[0m\u001b[0;36m20\u001b[0m\u001b[0;34m)\u001b[0m\u001b[0;34m\u001b[0m\u001b[0;34m\u001b[0m\u001b[0m\n\u001b[0m",
            "\u001b[0;32m/usr/local/lib/python3.6/dist-packages/keras/legacy/interfaces.py\u001b[0m in \u001b[0;36mwrapper\u001b[0;34m(*args, **kwargs)\u001b[0m\n\u001b[1;32m     89\u001b[0m                 warnings.warn('Update your `' + object_name + '` call to the ' +\n\u001b[1;32m     90\u001b[0m                               'Keras 2 API: ' + signature, stacklevel=2)\n\u001b[0;32m---> 91\u001b[0;31m             \u001b[0;32mreturn\u001b[0m \u001b[0mfunc\u001b[0m\u001b[0;34m(\u001b[0m\u001b[0;34m*\u001b[0m\u001b[0margs\u001b[0m\u001b[0;34m,\u001b[0m \u001b[0;34m**\u001b[0m\u001b[0mkwargs\u001b[0m\u001b[0;34m)\u001b[0m\u001b[0;34m\u001b[0m\u001b[0;34m\u001b[0m\u001b[0m\n\u001b[0m\u001b[1;32m     92\u001b[0m         \u001b[0mwrapper\u001b[0m\u001b[0;34m.\u001b[0m\u001b[0m_original_function\u001b[0m \u001b[0;34m=\u001b[0m \u001b[0mfunc\u001b[0m\u001b[0;34m\u001b[0m\u001b[0;34m\u001b[0m\u001b[0m\n\u001b[1;32m     93\u001b[0m         \u001b[0;32mreturn\u001b[0m \u001b[0mwrapper\u001b[0m\u001b[0;34m\u001b[0m\u001b[0;34m\u001b[0m\u001b[0m\n",
            "\u001b[0;32m/usr/local/lib/python3.6/dist-packages/keras/engine/training.py\u001b[0m in \u001b[0;36mfit_generator\u001b[0;34m(self, generator, steps_per_epoch, epochs, verbose, callbacks, validation_data, validation_steps, validation_freq, class_weight, max_queue_size, workers, use_multiprocessing, shuffle, initial_epoch)\u001b[0m\n\u001b[1;32m   1656\u001b[0m             \u001b[0muse_multiprocessing\u001b[0m\u001b[0;34m=\u001b[0m\u001b[0muse_multiprocessing\u001b[0m\u001b[0;34m,\u001b[0m\u001b[0;34m\u001b[0m\u001b[0;34m\u001b[0m\u001b[0m\n\u001b[1;32m   1657\u001b[0m             \u001b[0mshuffle\u001b[0m\u001b[0;34m=\u001b[0m\u001b[0mshuffle\u001b[0m\u001b[0;34m,\u001b[0m\u001b[0;34m\u001b[0m\u001b[0;34m\u001b[0m\u001b[0m\n\u001b[0;32m-> 1658\u001b[0;31m             initial_epoch=initial_epoch)\n\u001b[0m\u001b[1;32m   1659\u001b[0m \u001b[0;34m\u001b[0m\u001b[0m\n\u001b[1;32m   1660\u001b[0m     \u001b[0;34m@\u001b[0m\u001b[0minterfaces\u001b[0m\u001b[0;34m.\u001b[0m\u001b[0mlegacy_generator_methods_support\u001b[0m\u001b[0;34m\u001b[0m\u001b[0;34m\u001b[0m\u001b[0m\n",
            "\u001b[0;32m/usr/local/lib/python3.6/dist-packages/keras/engine/training_generator.py\u001b[0m in \u001b[0;36mfit_generator\u001b[0;34m(model, generator, steps_per_epoch, epochs, verbose, callbacks, validation_data, validation_steps, validation_freq, class_weight, max_queue_size, workers, use_multiprocessing, shuffle, initial_epoch)\u001b[0m\n\u001b[1;32m    213\u001b[0m                 outs = model.train_on_batch(x, y,\n\u001b[1;32m    214\u001b[0m                                             \u001b[0msample_weight\u001b[0m\u001b[0;34m=\u001b[0m\u001b[0msample_weight\u001b[0m\u001b[0;34m,\u001b[0m\u001b[0;34m\u001b[0m\u001b[0;34m\u001b[0m\u001b[0m\n\u001b[0;32m--> 215\u001b[0;31m                                             class_weight=class_weight)\n\u001b[0m\u001b[1;32m    216\u001b[0m \u001b[0;34m\u001b[0m\u001b[0m\n\u001b[1;32m    217\u001b[0m                 \u001b[0mouts\u001b[0m \u001b[0;34m=\u001b[0m \u001b[0mto_list\u001b[0m\u001b[0;34m(\u001b[0m\u001b[0mouts\u001b[0m\u001b[0;34m)\u001b[0m\u001b[0;34m\u001b[0m\u001b[0;34m\u001b[0m\u001b[0m\n",
            "\u001b[0;32m/usr/local/lib/python3.6/dist-packages/keras/engine/training.py\u001b[0m in \u001b[0;36mtrain_on_batch\u001b[0;34m(self, x, y, sample_weight, class_weight)\u001b[0m\n\u001b[1;32m   1447\u001b[0m             \u001b[0mins\u001b[0m \u001b[0;34m=\u001b[0m \u001b[0mx\u001b[0m \u001b[0;34m+\u001b[0m \u001b[0my\u001b[0m \u001b[0;34m+\u001b[0m \u001b[0msample_weights\u001b[0m\u001b[0;34m\u001b[0m\u001b[0;34m\u001b[0m\u001b[0m\n\u001b[1;32m   1448\u001b[0m         \u001b[0mself\u001b[0m\u001b[0;34m.\u001b[0m\u001b[0m_make_train_function\u001b[0m\u001b[0;34m(\u001b[0m\u001b[0;34m)\u001b[0m\u001b[0;34m\u001b[0m\u001b[0;34m\u001b[0m\u001b[0m\n\u001b[0;32m-> 1449\u001b[0;31m         \u001b[0moutputs\u001b[0m \u001b[0;34m=\u001b[0m \u001b[0mself\u001b[0m\u001b[0;34m.\u001b[0m\u001b[0mtrain_function\u001b[0m\u001b[0;34m(\u001b[0m\u001b[0mins\u001b[0m\u001b[0;34m)\u001b[0m\u001b[0;34m\u001b[0m\u001b[0;34m\u001b[0m\u001b[0m\n\u001b[0m\u001b[1;32m   1450\u001b[0m         \u001b[0;32mreturn\u001b[0m \u001b[0munpack_singleton\u001b[0m\u001b[0;34m(\u001b[0m\u001b[0moutputs\u001b[0m\u001b[0;34m)\u001b[0m\u001b[0;34m\u001b[0m\u001b[0;34m\u001b[0m\u001b[0m\n\u001b[1;32m   1451\u001b[0m \u001b[0;34m\u001b[0m\u001b[0m\n",
            "\u001b[0;32m/usr/local/lib/python3.6/dist-packages/keras/backend/tensorflow_backend.py\u001b[0m in \u001b[0;36m__call__\u001b[0;34m(self, inputs)\u001b[0m\n\u001b[1;32m   2977\u001b[0m                     \u001b[0;32mreturn\u001b[0m \u001b[0mself\u001b[0m\u001b[0;34m.\u001b[0m\u001b[0m_legacy_call\u001b[0m\u001b[0;34m(\u001b[0m\u001b[0minputs\u001b[0m\u001b[0;34m)\u001b[0m\u001b[0;34m\u001b[0m\u001b[0;34m\u001b[0m\u001b[0m\n\u001b[1;32m   2978\u001b[0m \u001b[0;34m\u001b[0m\u001b[0m\n\u001b[0;32m-> 2979\u001b[0;31m             \u001b[0;32mreturn\u001b[0m \u001b[0mself\u001b[0m\u001b[0;34m.\u001b[0m\u001b[0m_call\u001b[0m\u001b[0;34m(\u001b[0m\u001b[0minputs\u001b[0m\u001b[0;34m)\u001b[0m\u001b[0;34m\u001b[0m\u001b[0;34m\u001b[0m\u001b[0m\n\u001b[0m\u001b[1;32m   2980\u001b[0m         \u001b[0;32melse\u001b[0m\u001b[0;34m:\u001b[0m\u001b[0;34m\u001b[0m\u001b[0;34m\u001b[0m\u001b[0m\n\u001b[1;32m   2981\u001b[0m             \u001b[0;32mif\u001b[0m \u001b[0mpy_any\u001b[0m\u001b[0;34m(\u001b[0m\u001b[0mis_tensor\u001b[0m\u001b[0;34m(\u001b[0m\u001b[0mx\u001b[0m\u001b[0;34m)\u001b[0m \u001b[0;32mfor\u001b[0m \u001b[0mx\u001b[0m \u001b[0;32min\u001b[0m \u001b[0minputs\u001b[0m\u001b[0;34m)\u001b[0m\u001b[0;34m:\u001b[0m\u001b[0;34m\u001b[0m\u001b[0;34m\u001b[0m\u001b[0m\n",
            "\u001b[0;32m/usr/local/lib/python3.6/dist-packages/keras/backend/tensorflow_backend.py\u001b[0m in \u001b[0;36m_call\u001b[0;34m(self, inputs)\u001b[0m\n\u001b[1;32m   2935\u001b[0m             \u001b[0mfetched\u001b[0m \u001b[0;34m=\u001b[0m \u001b[0mself\u001b[0m\u001b[0;34m.\u001b[0m\u001b[0m_callable_fn\u001b[0m\u001b[0;34m(\u001b[0m\u001b[0;34m*\u001b[0m\u001b[0marray_vals\u001b[0m\u001b[0;34m,\u001b[0m \u001b[0mrun_metadata\u001b[0m\u001b[0;34m=\u001b[0m\u001b[0mself\u001b[0m\u001b[0;34m.\u001b[0m\u001b[0mrun_metadata\u001b[0m\u001b[0;34m)\u001b[0m\u001b[0;34m\u001b[0m\u001b[0;34m\u001b[0m\u001b[0m\n\u001b[1;32m   2936\u001b[0m         \u001b[0;32melse\u001b[0m\u001b[0;34m:\u001b[0m\u001b[0;34m\u001b[0m\u001b[0;34m\u001b[0m\u001b[0m\n\u001b[0;32m-> 2937\u001b[0;31m             \u001b[0mfetched\u001b[0m \u001b[0;34m=\u001b[0m \u001b[0mself\u001b[0m\u001b[0;34m.\u001b[0m\u001b[0m_callable_fn\u001b[0m\u001b[0;34m(\u001b[0m\u001b[0;34m*\u001b[0m\u001b[0marray_vals\u001b[0m\u001b[0;34m)\u001b[0m\u001b[0;34m\u001b[0m\u001b[0;34m\u001b[0m\u001b[0m\n\u001b[0m\u001b[1;32m   2938\u001b[0m         \u001b[0;32mreturn\u001b[0m \u001b[0mfetched\u001b[0m\u001b[0;34m[\u001b[0m\u001b[0;34m:\u001b[0m\u001b[0mlen\u001b[0m\u001b[0;34m(\u001b[0m\u001b[0mself\u001b[0m\u001b[0;34m.\u001b[0m\u001b[0moutputs\u001b[0m\u001b[0;34m)\u001b[0m\u001b[0;34m]\u001b[0m\u001b[0;34m\u001b[0m\u001b[0;34m\u001b[0m\u001b[0m\n\u001b[1;32m   2939\u001b[0m \u001b[0;34m\u001b[0m\u001b[0m\n",
            "\u001b[0;32m/tensorflow-1.15.0/python3.6/tensorflow_core/python/client/session.py\u001b[0m in \u001b[0;36m__call__\u001b[0;34m(self, *args, **kwargs)\u001b[0m\n\u001b[1;32m   1470\u001b[0m         ret = tf_session.TF_SessionRunCallable(self._session._session,\n\u001b[1;32m   1471\u001b[0m                                                \u001b[0mself\u001b[0m\u001b[0;34m.\u001b[0m\u001b[0m_handle\u001b[0m\u001b[0;34m,\u001b[0m \u001b[0margs\u001b[0m\u001b[0;34m,\u001b[0m\u001b[0;34m\u001b[0m\u001b[0;34m\u001b[0m\u001b[0m\n\u001b[0;32m-> 1472\u001b[0;31m                                                run_metadata_ptr)\n\u001b[0m\u001b[1;32m   1473\u001b[0m         \u001b[0;32mif\u001b[0m \u001b[0mrun_metadata\u001b[0m\u001b[0;34m:\u001b[0m\u001b[0;34m\u001b[0m\u001b[0;34m\u001b[0m\u001b[0m\n\u001b[1;32m   1474\u001b[0m           \u001b[0mproto_data\u001b[0m \u001b[0;34m=\u001b[0m \u001b[0mtf_session\u001b[0m\u001b[0;34m.\u001b[0m\u001b[0mTF_GetBuffer\u001b[0m\u001b[0;34m(\u001b[0m\u001b[0mrun_metadata_ptr\u001b[0m\u001b[0;34m)\u001b[0m\u001b[0;34m\u001b[0m\u001b[0;34m\u001b[0m\u001b[0m\n",
            "\u001b[0;31mKeyboardInterrupt\u001b[0m: "
          ]
        }
      ]
    },
    {
      "cell_type": "code",
      "metadata": {
        "id": "9i9my0fWTkw_",
        "colab_type": "code",
        "outputId": "28379ae7-bd1d-4fe2-f283-62147ce1e02b",
        "colab": {
          "base_uri": "https://localhost:8080/",
          "height": 607
        }
      },
      "source": [
        "print(model.evaluate_generator(test_tok_generator))\n",
        "plot_history(history)"
      ],
      "execution_count": 0,
      "outputs": [
        {
          "output_type": "stream",
          "text": [
            "WARNING:matplotlib.legend:No handles with labels found to put in legend.\n"
          ],
          "name": "stderr"
        },
        {
          "output_type": "stream",
          "text": [
            "[0.3967624303938748, 0.7697905544813812]\n"
          ],
          "name": "stdout"
        },
        {
          "output_type": "display_data",
          "data": {
            "image/png": "[encoded data removed]",
            "text/plain": [
              "<Figure size 432x288 with 1 Axes>"
            ]
          },
          "metadata": {
            "tags": []
          }
        },
        {
          "output_type": "display_data",
          "data": {
            "image/png": "[encoded data removed]",
            "text/plain": [
              "<Figure size 432x288 with 1 Axes>"
            ]
          },
          "metadata": {
            "tags": []
          }
        }
      ]
    },
    {
      "cell_type": "code",
      "metadata": {
        "id": "Sszms9ekTkux",
        "colab_type": "code",
        "colab": {}
      },
      "source": [
        "def build_model(embedding_matrix, nb_words, embedding_size=300):\n",
        "    inp = Input(shape=(max_length,))\n",
        "    x = Embedding(nb_words, embedding_size, weights=[embedding_matrix], trainable=False)(inp)\n",
        "                    \n",
        "    # prob = Position_Embedding()(x)\n",
        "    # prob = AttentionWithContext()(prob)\n",
        "    # prob = GlobalMaxPool1D()(prob)      \n",
        "    prob = Position_Embedding()(x)\n",
        "    # prob = Attention_block(prob, 4, 64, 1024)\n",
        "    prob = GlobalMaxPool1D()(prob)\n",
        "    # x = SpatialDropout1D(0.3)(x)\n",
        "    x1 = Bidirectional(CuDNNLSTM(256, return_sequences=True))(BatchNormalization()(x))\n",
        "    x2 = Bidirectional(CuDNNGRU(128, return_sequences=True))(BatchNormalization()(x1))\n",
        "    max_pool1 = AttentionWithContext()(x1)\n",
        "    max_pool2 = AttentionWithContext()(x2)\n",
        "    conc = Concatenate()([max_pool1, max_pool2])\n",
        "    predictions = Dense(1, activation='sigmoid')(conc)\n",
        "    model = Model(inputs=inp, outputs=predictions)\n",
        "    adam = optimizers.Adam(lr=learning_rate)\n",
        "    model.compile(optimizer=adam, loss='binary_crossentropy', metrics=[f1])\n",
        "    return model"
      ],
      "execution_count": 0,
      "outputs": []
    },
    {
      "cell_type": "code",
      "metadata": {
        "id": "4SCJTH3VTkoR",
        "colab_type": "code",
        "outputId": "745a03a6-ca47-442b-d217-df8e53cb9c43",
        "colab": {
          "base_uri": "https://localhost:8080/",
          "height": 714
        }
      },
      "source": [
        "\n",
        "model = build_model(embedding_matrix_glove, nb_words, embedding_size=300)\n",
        "history=model.fit(train_word_sequences, y, batch_size=batch_size, epochs=20, validation_split=0.2, verbose=2)"
      ],
      "execution_count": 0,
      "outputs": [
        {
          "output_type": "stream",
          "text": [
            "Train on 6090 samples, validate on 1523 samples\n",
            "Epoch 1/20\n",
            " - 12s - loss: 0.5999 - f1: 0.5184 - val_loss: 0.5386 - val_f1: 0.6805\n",
            "Epoch 2/20\n",
            " - 4s - loss: 0.4433 - f1: 0.7419 - val_loss: 0.4894 - val_f1: 0.7702\n",
            "Epoch 3/20\n",
            " - 4s - loss: 0.3367 - f1: 0.8259 - val_loss: 0.4468 - val_f1: 0.7571\n",
            "Epoch 4/20\n",
            " - 4s - loss: 0.2321 - f1: 0.8947 - val_loss: 0.4644 - val_f1: 0.7600\n",
            "Epoch 5/20\n",
            " - 4s - loss: 0.1468 - f1: 0.9441 - val_loss: 0.6254 - val_f1: 0.6975\n",
            "Epoch 6/20\n",
            " - 4s - loss: 0.1113 - f1: 0.9542 - val_loss: 0.6531 - val_f1: 0.7572\n",
            "Epoch 7/20\n",
            " - 4s - loss: 0.0831 - f1: 0.9656 - val_loss: 0.6830 - val_f1: 0.7468\n",
            "Epoch 8/20\n",
            " - 4s - loss: 0.0795 - f1: 0.9619 - val_loss: 0.7570 - val_f1: 0.7115\n",
            "Epoch 9/20\n",
            " - 4s - loss: 0.0690 - f1: 0.9695 - val_loss: 0.8223 - val_f1: 0.7339\n",
            "Epoch 10/20\n",
            " - 4s - loss: 0.0540 - f1: 0.9736 - val_loss: 0.8059 - val_f1: 0.7547\n",
            "Epoch 11/20\n",
            " - 4s - loss: 0.0639 - f1: 0.9702 - val_loss: 0.7547 - val_f1: 0.7561\n",
            "Epoch 12/20\n",
            " - 4s - loss: 0.0474 - f1: 0.9757 - val_loss: 0.8573 - val_f1: 0.7600\n",
            "Epoch 13/20\n",
            " - 4s - loss: 0.0458 - f1: 0.9765 - val_loss: 0.8656 - val_f1: 0.7408\n",
            "Epoch 14/20\n",
            " - 4s - loss: 0.0404 - f1: 0.9797 - val_loss: 1.0291 - val_f1: 0.7490\n",
            "Epoch 15/20\n",
            " - 4s - loss: 0.0466 - f1: 0.9761 - val_loss: 1.1553 - val_f1: 0.4922\n",
            "Epoch 16/20\n",
            " - 4s - loss: 0.0724 - f1: 0.9661 - val_loss: 0.7482 - val_f1: 0.7162\n",
            "Epoch 17/20\n",
            " - 4s - loss: 0.0548 - f1: 0.9732 - val_loss: 0.9004 - val_f1: 0.7244\n",
            "Epoch 18/20\n",
            " - 4s - loss: 0.0570 - f1: 0.9705 - val_loss: 0.8715 - val_f1: 0.7604\n",
            "Epoch 19/20\n",
            " - 4s - loss: 0.0516 - f1: 0.9731 - val_loss: 0.9164 - val_f1: 0.7520\n",
            "Epoch 20/20\n",
            " - 4s - loss: 0.0364 - f1: 0.9783 - val_loss: 1.0464 - val_f1: 0.7463\n"
          ],
          "name": "stdout"
        }
      ]
    },
    {
      "cell_type": "code",
      "metadata": {
        "id": "SkPkXK1vjkpU",
        "colab_type": "code",
        "outputId": "63fad4e1-38dc-4cf8-f42f-71cc373cb864",
        "colab": {
          "base_uri": "https://localhost:8080/",
          "height": 281
        }
      },
      "source": [
        "plt_dynamic(20)"
      ],
      "execution_count": 0,
      "outputs": [
        {
          "output_type": "display_data",
          "data": {
            "image/png": "[encoded data removed]",
            "text/plain": [
              "<Figure size 432x288 with 1 Axes>"
            ]
          },
          "metadata": {
            "tags": []
          }
        }
      ]
    },
    {
      "cell_type": "code",
      "metadata": {
        "id": "wyNNrdBlkf75",
        "colab_type": "code",
        "colab": {}
      },
      "source": [
        "def build_model(embedding_matrix, nb_words, embedding_size=300):\n",
        "    inp = Input(shape=(max_length,))\n",
        "    x = Embedding(nb_words, embedding_size, weights=[embedding_matrix], trainable=False)(inp)\n",
        "                    \n",
        "    # prob = Position_Embedding()(x)\n",
        "    # prob = AttentionWithContext()(prob)\n",
        "    # prob = GlobalMaxPool1D()(prob)      \n",
        "    prob = Position_Embedding()(x)\n",
        "    # prob = Attention_block(prob, 4, 64, 1024)\n",
        "    # prob = GlobalMaxPool1D()(prob)\n",
        "    # x = SpatialDropout1D(0.3)(x)\n",
        "    x1 = Bidirectional(CuDNNLSTM(256, return_sequences=True))(BatchNormalization()(x))\n",
        "    x2 = Bidirectional(CuDNNGRU(128, return_sequences=True))(BatchNormalization()(x1))\n",
        "    max_pool1 = AttentionWithContext()(x1)\n",
        "    max_pool2 = AttentionWithContext()(x2)\n",
        "    conc = Concatenate()([max_pool1, max_pool2])\n",
        "    predictions = Dense(1, activation='sigmoid')(conc)\n",
        "    model = Model(inputs=inp, outputs=predictions)\n",
        "    adam = optimizers.Adam(lr=learning_rate)\n",
        "    model.compile(optimizer=adam, loss='binary_crossentropy', metrics=[f1])\n",
        "    return model"
      ],
      "execution_count": 0,
      "outputs": []
    },
    {
      "cell_type": "code",
      "metadata": {
        "id": "2VK00_04kvjX",
        "colab_type": "code",
        "outputId": "2428a384-ef99-4537-ae7e-f24fc691f768",
        "colab": {
          "base_uri": "https://localhost:8080/",
          "height": 714
        }
      },
      "source": [
        "\n",
        "model = build_model(embedding_matrix_glove, nb_words, embedding_size=300)\n",
        "history=model.fit(train_word_sequences, y, batch_size=batch_size, epochs=20, validation_split=0.2, verbose=2)"
      ],
      "execution_count": 0,
      "outputs": [
        {
          "output_type": "stream",
          "text": [
            "Train on 6090 samples, validate on 1523 samples\n",
            "Epoch 1/20\n",
            " - 12s - loss: 0.5118 - f1: 0.6813 - val_loss: 0.4592 - val_f1: 0.7818\n",
            "Epoch 2/20\n",
            " - 4s - loss: 0.3135 - f1: 0.8404 - val_loss: 0.4177 - val_f1: 0.7855\n",
            "Epoch 3/20\n",
            " - 4s - loss: 0.1939 - f1: 0.9162 - val_loss: 0.4570 - val_f1: 0.7690\n",
            "Epoch 4/20\n",
            " - 4s - loss: 0.1290 - f1: 0.9506 - val_loss: 0.5013 - val_f1: 0.7754\n",
            "Epoch 5/20\n",
            " - 4s - loss: 0.0969 - f1: 0.9591 - val_loss: 0.5600 - val_f1: 0.7812\n",
            "Epoch 6/20\n",
            " - 4s - loss: 0.0964 - f1: 0.9600 - val_loss: 0.5714 - val_f1: 0.7670\n",
            "Epoch 7/20\n",
            " - 4s - loss: 0.0933 - f1: 0.9601 - val_loss: 0.5795 - val_f1: 0.7745\n",
            "Epoch 8/20\n",
            " - 4s - loss: 0.0807 - f1: 0.9678 - val_loss: 0.6085 - val_f1: 0.7690\n",
            "Epoch 9/20\n",
            " - 4s - loss: 0.0648 - f1: 0.9709 - val_loss: 0.6837 - val_f1: 0.7616\n",
            "Epoch 10/20\n",
            " - 4s - loss: 0.0607 - f1: 0.9705 - val_loss: 0.6974 - val_f1: 0.7606\n",
            "Epoch 11/20\n",
            " - 4s - loss: 0.0660 - f1: 0.9701 - val_loss: 0.6790 - val_f1: 0.7687\n",
            "Epoch 12/20\n",
            " - 4s - loss: 0.0684 - f1: 0.9679 - val_loss: 0.6867 - val_f1: 0.7560\n",
            "Epoch 13/20\n",
            " - 4s - loss: 0.0809 - f1: 0.9636 - val_loss: 0.6474 - val_f1: 0.7665\n",
            "Epoch 14/20\n",
            " - 4s - loss: 0.0898 - f1: 0.9598 - val_loss: 0.6595 - val_f1: 0.7682\n",
            "Epoch 15/20\n",
            " - 4s - loss: 0.0649 - f1: 0.9723 - val_loss: 0.7067 - val_f1: 0.7730\n",
            "Epoch 16/20\n",
            " - 4s - loss: 0.0507 - f1: 0.9774 - val_loss: 0.7409 - val_f1: 0.7670\n",
            "Epoch 17/20\n",
            " - 4s - loss: 0.0445 - f1: 0.9774 - val_loss: 0.7803 - val_f1: 0.7648\n",
            "Epoch 18/20\n",
            " - 4s - loss: 0.0372 - f1: 0.9797 - val_loss: 0.8219 - val_f1: 0.7728\n",
            "Epoch 19/20\n",
            " - 4s - loss: 0.0353 - f1: 0.9794 - val_loss: 0.8428 - val_f1: 0.7722\n",
            "Epoch 20/20\n",
            " - 4s - loss: 0.0338 - f1: 0.9801 - val_loss: 0.8709 - val_f1: 0.7728\n"
          ],
          "name": "stdout"
        }
      ]
    },
    {
      "cell_type": "code",
      "metadata": {
        "id": "4vuaXtqYkyJb",
        "colab_type": "code",
        "outputId": "b48e66c6-13cc-41d0-840e-2a62a1c01832",
        "colab": {
          "base_uri": "https://localhost:8080/",
          "height": 279
        }
      },
      "source": [
        "plt_dynamic(20)"
      ],
      "execution_count": 0,
      "outputs": [
        {
          "output_type": "display_data",
          "data": {
            "image/png": "[encoded data removed]",
            "text/plain": [
              "<Figure size 432x288 with 1 Axes>"
            ]
          },
          "metadata": {
            "tags": []
          }
        }
      ]
    },
    {
      "cell_type": "code",
      "metadata": {
        "id": "_2vGvpwsk2A_",
        "colab_type": "code",
        "colab": {}
      },
      "source": [
        "def build_model(embedding_matrix, nb_words, embedding_size=300):\n",
        "    inp = Input(shape=(max_length,))\n",
        "    x = Embedding(nb_words, embedding_size, weights=[embedding_matrix], trainable=False)(inp)\n",
        "                    \n",
        "    # prob = Position_Embedding()(x)\n",
        "    # prob = AttentionWithContext()(prob)\n",
        "    # prob = GlobalMaxPool1D()(prob)      \n",
        "    prob = Position_Embedding()(x)\n",
        "    # prob = Attention_block(prob, 4, 64, 1024)\n",
        "    # prob = GlobalMaxPool1D()(prob)\n",
        "    # x = SpatialDropout1D(0.3)(x)\n",
        "    x = Bidirectional(CuDNNLSTM(256, return_sequences=True))(x)\n",
        "    \n",
        "    x = Bidirectional(CuDNNGRU(128, return_sequences=True))(BatchNormalization()(x))\n",
        "    max_pool1 = AttentionWithContext()(x)\n",
        "    # max_pool2 = AttentionWithContext()(x2)\n",
        "    # conc = Concatenate()([max_pool1, max_pool2])\n",
        "    predictions = Dense(1, activation='sigmoid')(max_pool1)\n",
        "    model = Model(inputs=inp, outputs=predictions)\n",
        "    adam = optimizers.Adam(lr=learning_rate)\n",
        "    model.compile(optimizer=adam, loss='binary_crossentropy', metrics=[f1, 'accuracy'])\n",
        "    return model"
      ],
      "execution_count": 0,
      "outputs": []
    },
    {
      "cell_type": "code",
      "metadata": {
        "id": "RVbW_QJIn_IL",
        "colab_type": "code",
        "outputId": "4425f135-c7f5-4b7b-c0e1-1ea81957c9ff",
        "colab": {
          "base_uri": "https://localhost:8080/",
          "height": 1000
        }
      },
      "source": [
        "\n",
        "model = build_model(embedding_matrix_glove, nb_words, embedding_size=300)\n",
        "history=model.fit(train_word_sequences, y, batch_size=batch_size, epochs=150, validation_split=0.2, verbose=2)"
      ],
      "execution_count": 0,
      "outputs": [
        {
          "output_type": "stream",
          "text": [
            "Train on 6090 samples, validate on 1523 samples\n",
            "Epoch 1/150\n",
            " - 13s - loss: 0.6666 - f1: 0.3411 - acc: 0.5870 - val_loss: 0.6026 - val_f1: 0.7170 - val_acc: 0.7400\n",
            "Epoch 2/150\n",
            " - 3s - loss: 0.4893 - f1: 0.7204 - acc: 0.7813 - val_loss: 0.6075 - val_f1: 0.7379 - val_acc: 0.7479\n",
            "Epoch 3/150\n",
            " - 3s - loss: 0.4288 - f1: 0.7627 - acc: 0.8133 - val_loss: 0.5237 - val_f1: 0.7672 - val_acc: 0.7787\n",
            "Epoch 4/150\n",
            " - 3s - loss: 0.4097 - f1: 0.7772 - acc: 0.8261 - val_loss: 0.4891 - val_f1: 0.7638 - val_acc: 0.7761\n",
            "Epoch 5/150\n",
            " - 3s - loss: 0.4002 - f1: 0.7835 - acc: 0.8305 - val_loss: 0.4355 - val_f1: 0.7810 - val_acc: 0.8102\n",
            "Epoch 6/150\n",
            " - 3s - loss: 0.3639 - f1: 0.8039 - acc: 0.8463 - val_loss: 0.4641 - val_f1: 0.7497 - val_acc: 0.8043\n",
            "Epoch 7/150\n",
            " - 3s - loss: 0.3325 - f1: 0.8236 - acc: 0.8611 - val_loss: 0.4428 - val_f1: 0.7418 - val_acc: 0.8056\n",
            "Epoch 8/150\n",
            " - 3s - loss: 0.3023 - f1: 0.8453 - acc: 0.8775 - val_loss: 0.4544 - val_f1: 0.7393 - val_acc: 0.8011\n",
            "Epoch 9/150\n",
            " - 3s - loss: 0.2654 - f1: 0.8706 - acc: 0.8974 - val_loss: 0.4739 - val_f1: 0.7634 - val_acc: 0.8135\n",
            "Epoch 10/150\n",
            " - 3s - loss: 0.2287 - f1: 0.8884 - acc: 0.9107 - val_loss: 0.4801 - val_f1: 0.7585 - val_acc: 0.8050\n",
            "Epoch 11/150\n",
            " - 3s - loss: 0.2107 - f1: 0.8972 - acc: 0.9164 - val_loss: 0.5535 - val_f1: 0.7246 - val_acc: 0.7978\n",
            "Epoch 12/150\n",
            " - 3s - loss: 0.1753 - f1: 0.9143 - acc: 0.9310 - val_loss: 0.6355 - val_f1: 0.7606 - val_acc: 0.7932\n",
            "Epoch 13/150\n",
            " - 3s - loss: 0.1524 - f1: 0.9275 - acc: 0.9406 - val_loss: 0.6309 - val_f1: 0.7649 - val_acc: 0.8076\n",
            "Epoch 14/150\n",
            " - 3s - loss: 0.1344 - f1: 0.9363 - acc: 0.9471 - val_loss: 0.6299 - val_f1: 0.7483 - val_acc: 0.7984\n",
            "Epoch 15/150\n",
            " - 3s - loss: 0.1238 - f1: 0.9435 - acc: 0.9534 - val_loss: 0.6657 - val_f1: 0.7451 - val_acc: 0.7938\n",
            "Epoch 16/150\n",
            " - 3s - loss: 0.1027 - f1: 0.9513 - acc: 0.9593 - val_loss: 0.7262 - val_f1: 0.7557 - val_acc: 0.7991\n",
            "Epoch 17/150\n",
            " - 3s - loss: 0.0885 - f1: 0.9608 - acc: 0.9673 - val_loss: 0.8209 - val_f1: 0.7637 - val_acc: 0.8004\n",
            "Epoch 18/150\n",
            " - 3s - loss: 0.0808 - f1: 0.9615 - acc: 0.9680 - val_loss: 0.8053 - val_f1: 0.7500 - val_acc: 0.7800\n",
            "Epoch 19/150\n",
            " - 3s - loss: 0.1042 - f1: 0.9551 - acc: 0.9622 - val_loss: 0.7012 - val_f1: 0.7578 - val_acc: 0.7997\n",
            "Epoch 20/150\n",
            " - 3s - loss: 0.0687 - f1: 0.9685 - acc: 0.9734 - val_loss: 0.7851 - val_f1: 0.7433 - val_acc: 0.7794\n",
            "Epoch 21/150\n",
            " - 3s - loss: 0.0656 - f1: 0.9677 - acc: 0.9734 - val_loss: 0.8634 - val_f1: 0.7620 - val_acc: 0.8116\n",
            "Epoch 22/150\n",
            " - 3s - loss: 0.0571 - f1: 0.9733 - acc: 0.9778 - val_loss: 0.9415 - val_f1: 0.7401 - val_acc: 0.7938\n",
            "Epoch 23/150\n",
            " - 3s - loss: 0.0507 - f1: 0.9741 - acc: 0.9785 - val_loss: 0.9233 - val_f1: 0.7337 - val_acc: 0.7439\n",
            "Epoch 24/150\n",
            " - 3s - loss: 0.0703 - f1: 0.9671 - acc: 0.9726 - val_loss: 0.7874 - val_f1: 0.7513 - val_acc: 0.8004\n",
            "Epoch 25/150\n",
            " - 3s - loss: 0.0543 - f1: 0.9743 - acc: 0.9783 - val_loss: 0.8714 - val_f1: 0.7703 - val_acc: 0.8102\n",
            "Epoch 26/150\n",
            " - 3s - loss: 0.0493 - f1: 0.9750 - acc: 0.9791 - val_loss: 1.0864 - val_f1: 0.7523 - val_acc: 0.7971\n",
            "Epoch 27/150\n",
            " - 3s - loss: 0.0539 - f1: 0.9731 - acc: 0.9780 - val_loss: 0.9137 - val_f1: 0.7398 - val_acc: 0.7886\n",
            "Epoch 28/150\n",
            " - 3s - loss: 0.0467 - f1: 0.9757 - acc: 0.9796 - val_loss: 0.9973 - val_f1: 0.7528 - val_acc: 0.7905\n",
            "Epoch 29/150\n",
            " - 3s - loss: 0.0464 - f1: 0.9745 - acc: 0.9785 - val_loss: 0.8899 - val_f1: 0.7373 - val_acc: 0.7663\n",
            "Epoch 30/150\n",
            " - 3s - loss: 0.0440 - f1: 0.9766 - acc: 0.9805 - val_loss: 1.0158 - val_f1: 0.7466 - val_acc: 0.7689\n",
            "Epoch 31/150\n",
            " - 3s - loss: 0.0417 - f1: 0.9794 - acc: 0.9826 - val_loss: 1.0748 - val_f1: 0.7468 - val_acc: 0.7886\n",
            "Epoch 32/150\n",
            " - 3s - loss: 0.0387 - f1: 0.9783 - acc: 0.9819 - val_loss: 1.0689 - val_f1: 0.7474 - val_acc: 0.7873\n",
            "Epoch 33/150\n",
            " - 3s - loss: 0.0368 - f1: 0.9802 - acc: 0.9836 - val_loss: 1.1032 - val_f1: 0.7470 - val_acc: 0.8050\n",
            "Epoch 34/150\n",
            " - 3s - loss: 0.0379 - f1: 0.9798 - acc: 0.9831 - val_loss: 1.1056 - val_f1: 0.7584 - val_acc: 0.7886\n",
            "Epoch 35/150\n",
            " - 3s - loss: 0.0481 - f1: 0.9749 - acc: 0.9790 - val_loss: 1.0604 - val_f1: 0.7477 - val_acc: 0.7840\n",
            "Epoch 36/150\n",
            " - 3s - loss: 0.0494 - f1: 0.9779 - acc: 0.9816 - val_loss: 1.0376 - val_f1: 0.7463 - val_acc: 0.7774\n",
            "Epoch 37/150\n",
            " - 3s - loss: 0.0565 - f1: 0.9721 - acc: 0.9765 - val_loss: 0.9834 - val_f1: 0.7540 - val_acc: 0.7945\n",
            "Epoch 38/150\n",
            " - 3s - loss: 0.0442 - f1: 0.9793 - acc: 0.9826 - val_loss: 1.0116 - val_f1: 0.7471 - val_acc: 0.7708\n",
            "Epoch 39/150\n",
            " - 3s - loss: 0.0493 - f1: 0.9743 - acc: 0.9785 - val_loss: 0.8783 - val_f1: 0.7389 - val_acc: 0.7636\n",
            "Epoch 40/150\n",
            " - 3s - loss: 0.0523 - f1: 0.9724 - acc: 0.9768 - val_loss: 0.9289 - val_f1: 0.7497 - val_acc: 0.7689\n",
            "Epoch 41/150\n",
            " - 3s - loss: 0.0466 - f1: 0.9739 - acc: 0.9783 - val_loss: 1.0495 - val_f1: 0.7552 - val_acc: 0.7925\n",
            "Epoch 42/150\n",
            " - 3s - loss: 0.0409 - f1: 0.9793 - acc: 0.9829 - val_loss: 0.9506 - val_f1: 0.7405 - val_acc: 0.7807\n",
            "Epoch 43/150\n",
            " - 3s - loss: 0.0403 - f1: 0.9785 - acc: 0.9819 - val_loss: 1.0097 - val_f1: 0.7573 - val_acc: 0.7886\n",
            "Epoch 44/150\n",
            " - 3s - loss: 0.0427 - f1: 0.9764 - acc: 0.9805 - val_loss: 0.9914 - val_f1: 0.7414 - val_acc: 0.7833\n",
            "Epoch 45/150\n",
            " - 3s - loss: 0.0401 - f1: 0.9760 - acc: 0.9800 - val_loss: 1.0834 - val_f1: 0.7377 - val_acc: 0.7853\n",
            "Epoch 46/150\n",
            " - 3s - loss: 0.0371 - f1: 0.9793 - acc: 0.9828 - val_loss: 1.1834 - val_f1: 0.7408 - val_acc: 0.7873\n",
            "Epoch 47/150\n",
            " - 3s - loss: 0.0363 - f1: 0.9800 - acc: 0.9831 - val_loss: 1.0596 - val_f1: 0.7362 - val_acc: 0.7905\n",
            "Epoch 48/150\n",
            " - 3s - loss: 0.0405 - f1: 0.9788 - acc: 0.9824 - val_loss: 1.0199 - val_f1: 0.7487 - val_acc: 0.7886\n",
            "Epoch 49/150\n",
            " - 3s - loss: 0.0393 - f1: 0.9794 - acc: 0.9828 - val_loss: 1.1280 - val_f1: 0.7454 - val_acc: 0.7892\n",
            "Epoch 50/150\n",
            " - 3s - loss: 0.0520 - f1: 0.9723 - acc: 0.9767 - val_loss: 0.9960 - val_f1: 0.7598 - val_acc: 0.8004\n",
            "Epoch 51/150\n",
            " - 3s - loss: 0.0454 - f1: 0.9769 - acc: 0.9810 - val_loss: 1.2348 - val_f1: 0.7266 - val_acc: 0.7768\n",
            "Epoch 52/150\n",
            " - 3s - loss: 0.0364 - f1: 0.9803 - acc: 0.9839 - val_loss: 1.1232 - val_f1: 0.7627 - val_acc: 0.8063\n",
            "Epoch 53/150\n",
            " - 3s - loss: 0.0301 - f1: 0.9821 - acc: 0.9851 - val_loss: 1.0849 - val_f1: 0.7672 - val_acc: 0.8083\n",
            "Epoch 54/150\n",
            " - 3s - loss: 0.0295 - f1: 0.9817 - acc: 0.9847 - val_loss: 1.0817 - val_f1: 0.7605 - val_acc: 0.8004\n",
            "Epoch 55/150\n",
            " - 3s - loss: 0.0279 - f1: 0.9846 - acc: 0.9870 - val_loss: 1.2717 - val_f1: 0.7387 - val_acc: 0.7925\n",
            "Epoch 56/150\n",
            " - 3s - loss: 0.0285 - f1: 0.9826 - acc: 0.9854 - val_loss: 1.1820 - val_f1: 0.7615 - val_acc: 0.8056\n",
            "Epoch 57/150\n",
            " - 3s - loss: 0.0282 - f1: 0.9816 - acc: 0.9846 - val_loss: 1.2823 - val_f1: 0.7595 - val_acc: 0.7925\n",
            "Epoch 58/150\n",
            " - 3s - loss: 0.0350 - f1: 0.9813 - acc: 0.9844 - val_loss: 1.2113 - val_f1: 0.7368 - val_acc: 0.7945\n",
            "Epoch 59/150\n",
            " - 3s - loss: 0.0462 - f1: 0.9769 - acc: 0.9806 - val_loss: 1.1098 - val_f1: 0.7456 - val_acc: 0.7833\n",
            "Epoch 60/150\n",
            " - 3s - loss: 0.0398 - f1: 0.9782 - acc: 0.9818 - val_loss: 1.0995 - val_f1: 0.7477 - val_acc: 0.7879\n",
            "Epoch 61/150\n",
            " - 3s - loss: 0.0352 - f1: 0.9806 - acc: 0.9837 - val_loss: 1.1153 - val_f1: 0.7498 - val_acc: 0.7965\n",
            "Epoch 62/150\n",
            " - 3s - loss: 0.0325 - f1: 0.9825 - acc: 0.9856 - val_loss: 1.1652 - val_f1: 0.7638 - val_acc: 0.8056\n",
            "Epoch 63/150\n",
            " - 3s - loss: 0.0288 - f1: 0.9817 - acc: 0.9849 - val_loss: 1.3130 - val_f1: 0.7524 - val_acc: 0.8017\n",
            "Epoch 64/150\n",
            " - 3s - loss: 0.0268 - f1: 0.9835 - acc: 0.9864 - val_loss: 1.2944 - val_f1: 0.7533 - val_acc: 0.7886\n",
            "Epoch 65/150\n",
            " - 3s - loss: 0.0245 - f1: 0.9839 - acc: 0.9865 - val_loss: 1.3801 - val_f1: 0.7611 - val_acc: 0.8024\n",
            "Epoch 66/150\n",
            " - 3s - loss: 0.0247 - f1: 0.9852 - acc: 0.9877 - val_loss: 1.3415 - val_f1: 0.7610 - val_acc: 0.7925\n",
            "Epoch 67/150\n",
            " - 3s - loss: 0.0248 - f1: 0.9842 - acc: 0.9867 - val_loss: 1.3855 - val_f1: 0.7660 - val_acc: 0.8037\n",
            "Epoch 68/150\n",
            " - 3s - loss: 0.0242 - f1: 0.9837 - acc: 0.9865 - val_loss: 1.3901 - val_f1: 0.7655 - val_acc: 0.8004\n",
            "Epoch 69/150\n",
            " - 3s - loss: 0.0238 - f1: 0.9847 - acc: 0.9874 - val_loss: 1.3853 - val_f1: 0.7623 - val_acc: 0.7965\n",
            "Epoch 70/150\n",
            " - 3s - loss: 0.0239 - f1: 0.9842 - acc: 0.9867 - val_loss: 1.4066 - val_f1: 0.7606 - val_acc: 0.7965\n",
            "Epoch 71/150\n",
            " - 3s - loss: 0.0235 - f1: 0.9830 - acc: 0.9859 - val_loss: 1.4190 - val_f1: 0.7626 - val_acc: 0.7971\n",
            "Epoch 72/150\n",
            " - 3s - loss: 0.0236 - f1: 0.9840 - acc: 0.9865 - val_loss: 1.4385 - val_f1: 0.7663 - val_acc: 0.8024\n",
            "Epoch 73/150\n",
            " - 3s - loss: 0.0236 - f1: 0.9837 - acc: 0.9865 - val_loss: 1.4333 - val_f1: 0.7643 - val_acc: 0.7991\n",
            "Epoch 74/150\n",
            " - 3s - loss: 0.0236 - f1: 0.9838 - acc: 0.9864 - val_loss: 1.4360 - val_f1: 0.7647 - val_acc: 0.7991\n",
            "Epoch 75/150\n",
            " - 3s - loss: 0.0237 - f1: 0.9833 - acc: 0.9860 - val_loss: 1.4604 - val_f1: 0.7685 - val_acc: 0.8037\n",
            "Epoch 76/150\n",
            " - 3s - loss: 0.0234 - f1: 0.9840 - acc: 0.9867 - val_loss: 1.4753 - val_f1: 0.7635 - val_acc: 0.7978\n",
            "Epoch 77/150\n",
            " - 3s - loss: 0.0235 - f1: 0.9847 - acc: 0.9872 - val_loss: 1.4718 - val_f1: 0.7637 - val_acc: 0.7971\n",
            "Epoch 78/150\n",
            " - 3s - loss: 0.0235 - f1: 0.9835 - acc: 0.9862 - val_loss: 1.4990 - val_f1: 0.7621 - val_acc: 0.7965\n",
            "Epoch 79/150\n",
            " - 3s - loss: 0.0234 - f1: 0.9830 - acc: 0.9860 - val_loss: 1.5038 - val_f1: 0.7631 - val_acc: 0.7978\n",
            "Epoch 80/150\n",
            " - 3s - loss: 0.0234 - f1: 0.9848 - acc: 0.9874 - val_loss: 1.4845 - val_f1: 0.7642 - val_acc: 0.7978\n",
            "Epoch 81/150\n",
            " - 3s - loss: 0.0241 - f1: 0.9841 - acc: 0.9865 - val_loss: 1.5090 - val_f1: 0.7632 - val_acc: 0.7997\n",
            "Epoch 82/150\n",
            " - 3s - loss: 0.0238 - f1: 0.9833 - acc: 0.9860 - val_loss: 1.5122 - val_f1: 0.7618 - val_acc: 0.7958\n",
            "Epoch 83/150\n",
            " - 3s - loss: 0.0238 - f1: 0.9856 - acc: 0.9878 - val_loss: 1.4942 - val_f1: 0.7649 - val_acc: 0.7945\n",
            "Epoch 84/150\n",
            " - 3s - loss: 0.0235 - f1: 0.9830 - acc: 0.9859 - val_loss: 1.5243 - val_f1: 0.7643 - val_acc: 0.7971\n",
            "Epoch 85/150\n",
            " - 3s - loss: 0.0231 - f1: 0.9846 - acc: 0.9870 - val_loss: 1.5365 - val_f1: 0.7630 - val_acc: 0.7965\n",
            "Epoch 86/150\n",
            " - 3s - loss: 0.0233 - f1: 0.9833 - acc: 0.9860 - val_loss: 1.5441 - val_f1: 0.7657 - val_acc: 0.8004\n",
            "Epoch 87/150\n",
            " - 3s - loss: 0.0235 - f1: 0.9845 - acc: 0.9872 - val_loss: 1.5483 - val_f1: 0.7598 - val_acc: 0.7919\n",
            "Epoch 88/150\n",
            " - 3s - loss: 0.0233 - f1: 0.9834 - acc: 0.9862 - val_loss: 1.5599 - val_f1: 0.7619 - val_acc: 0.7951\n",
            "Epoch 89/150\n",
            " - 3s - loss: 0.0234 - f1: 0.9838 - acc: 0.9865 - val_loss: 1.5631 - val_f1: 0.7642 - val_acc: 0.7965\n",
            "Epoch 90/150\n",
            " - 3s - loss: 0.0232 - f1: 0.9839 - acc: 0.9864 - val_loss: 1.5813 - val_f1: 0.7589 - val_acc: 0.7919\n",
            "Epoch 91/150\n",
            " - 3s - loss: 0.0234 - f1: 0.9838 - acc: 0.9864 - val_loss: 1.5678 - val_f1: 0.7595 - val_acc: 0.7938\n",
            "Epoch 92/150\n",
            " - 3s - loss: 0.0231 - f1: 0.9841 - acc: 0.9869 - val_loss: 1.5780 - val_f1: 0.7600 - val_acc: 0.7932\n",
            "Epoch 93/150\n",
            " - 3s - loss: 0.0230 - f1: 0.9832 - acc: 0.9862 - val_loss: 1.5994 - val_f1: 0.7599 - val_acc: 0.7925\n",
            "Epoch 94/150\n",
            " - 3s - loss: 0.0232 - f1: 0.9845 - acc: 0.9870 - val_loss: 1.6001 - val_f1: 0.7596 - val_acc: 0.7919\n",
            "Epoch 95/150\n",
            " - 3s - loss: 0.0232 - f1: 0.9845 - acc: 0.9872 - val_loss: 1.5946 - val_f1: 0.7647 - val_acc: 0.7958\n",
            "Epoch 96/150\n",
            " - 3s - loss: 0.0231 - f1: 0.9839 - acc: 0.9865 - val_loss: 1.5954 - val_f1: 0.7611 - val_acc: 0.7945\n",
            "Epoch 97/150\n",
            " - 3s - loss: 0.0231 - f1: 0.9848 - acc: 0.9874 - val_loss: 1.6011 - val_f1: 0.7638 - val_acc: 0.7951\n",
            "Epoch 98/150\n",
            " - 3s - loss: 0.0230 - f1: 0.9850 - acc: 0.9875 - val_loss: 1.5972 - val_f1: 0.7596 - val_acc: 0.7932\n",
            "Epoch 99/150\n",
            " - 3s - loss: 0.0232 - f1: 0.9836 - acc: 0.9864 - val_loss: 1.6172 - val_f1: 0.7608 - val_acc: 0.7938\n",
            "Epoch 100/150\n",
            " - 3s - loss: 0.0230 - f1: 0.9840 - acc: 0.9867 - val_loss: 1.6182 - val_f1: 0.7603 - val_acc: 0.7932\n",
            "Epoch 101/150\n",
            " - 3s - loss: 0.0230 - f1: 0.9833 - acc: 0.9862 - val_loss: 1.6227 - val_f1: 0.7607 - val_acc: 0.7945\n",
            "Epoch 102/150\n",
            " - 3s - loss: 0.0230 - f1: 0.9835 - acc: 0.9864 - val_loss: 1.6362 - val_f1: 0.7596 - val_acc: 0.7932\n",
            "Epoch 103/150\n",
            " - 3s - loss: 0.0233 - f1: 0.9844 - acc: 0.9872 - val_loss: 1.6370 - val_f1: 0.7617 - val_acc: 0.7919\n",
            "Epoch 104/150\n",
            " - 3s - loss: 0.0234 - f1: 0.9833 - acc: 0.9862 - val_loss: 1.6459 - val_f1: 0.7626 - val_acc: 0.7925\n",
            "Epoch 105/150\n",
            " - 3s - loss: 0.0232 - f1: 0.9849 - acc: 0.9874 - val_loss: 1.6483 - val_f1: 0.7609 - val_acc: 0.7945\n",
            "Epoch 106/150\n",
            " - 3s - loss: 0.0233 - f1: 0.9854 - acc: 0.9878 - val_loss: 1.6475 - val_f1: 0.7599 - val_acc: 0.7912\n",
            "Epoch 107/150\n",
            " - 3s - loss: 0.0233 - f1: 0.9834 - acc: 0.9862 - val_loss: 1.6583 - val_f1: 0.7596 - val_acc: 0.7905\n",
            "Epoch 108/150\n",
            " - 3s - loss: 0.0231 - f1: 0.9851 - acc: 0.9874 - val_loss: 1.6575 - val_f1: 0.7600 - val_acc: 0.7919\n",
            "Epoch 109/150\n",
            " - 3s - loss: 0.0229 - f1: 0.9844 - acc: 0.9872 - val_loss: 1.6505 - val_f1: 0.7589 - val_acc: 0.7912\n",
            "Epoch 110/150\n",
            " - 3s - loss: 0.0231 - f1: 0.9843 - acc: 0.9869 - val_loss: 1.6618 - val_f1: 0.7594 - val_acc: 0.7919\n",
            "Epoch 111/150\n",
            " - 3s - loss: 0.0232 - f1: 0.9843 - acc: 0.9870 - val_loss: 1.6819 - val_f1: 0.7611 - val_acc: 0.7919\n",
            "Epoch 112/150\n",
            " - 3s - loss: 0.0229 - f1: 0.9848 - acc: 0.9872 - val_loss: 1.6935 - val_f1: 0.7574 - val_acc: 0.7892\n",
            "Epoch 113/150\n",
            " - 3s - loss: 0.0229 - f1: 0.9838 - acc: 0.9865 - val_loss: 1.6892 - val_f1: 0.7606 - val_acc: 0.7919\n",
            "Epoch 114/150\n",
            " - 3s - loss: 0.0230 - f1: 0.9839 - acc: 0.9865 - val_loss: 1.6657 - val_f1: 0.7597 - val_acc: 0.7912\n",
            "Epoch 115/150\n",
            " - 3s - loss: 0.0229 - f1: 0.9842 - acc: 0.9869 - val_loss: 1.6632 - val_f1: 0.7618 - val_acc: 0.7932\n",
            "Epoch 116/150\n",
            " - 3s - loss: 0.0228 - f1: 0.9834 - acc: 0.9862 - val_loss: 1.6934 - val_f1: 0.7585 - val_acc: 0.7892\n",
            "Epoch 117/150\n",
            " - 3s - loss: 0.0232 - f1: 0.9845 - acc: 0.9872 - val_loss: 1.6873 - val_f1: 0.7587 - val_acc: 0.7892\n",
            "Epoch 118/150\n",
            " - 3s - loss: 0.0229 - f1: 0.9846 - acc: 0.9872 - val_loss: 1.7088 - val_f1: 0.7619 - val_acc: 0.7932\n",
            "Epoch 119/150\n",
            " - 3s - loss: 0.0229 - f1: 0.9825 - acc: 0.9854 - val_loss: 1.7051 - val_f1: 0.7608 - val_acc: 0.7919\n",
            "Epoch 120/150\n",
            " - 3s - loss: 0.0229 - f1: 0.9841 - acc: 0.9869 - val_loss: 1.7274 - val_f1: 0.7616 - val_acc: 0.7919\n",
            "Epoch 121/150\n",
            " - 3s - loss: 0.0230 - f1: 0.9832 - acc: 0.9864 - val_loss: 1.6762 - val_f1: 0.7620 - val_acc: 0.7932\n",
            "Epoch 122/150\n",
            " - 3s - loss: 0.0230 - f1: 0.9846 - acc: 0.9872 - val_loss: 1.7013 - val_f1: 0.7600 - val_acc: 0.7912\n",
            "Epoch 123/150\n",
            " - 3s - loss: 0.0228 - f1: 0.9853 - acc: 0.9878 - val_loss: 1.7199 - val_f1: 0.7600 - val_acc: 0.7905\n",
            "Epoch 124/150\n",
            " - 3s - loss: 0.0227 - f1: 0.9846 - acc: 0.9872 - val_loss: 1.7067 - val_f1: 0.7621 - val_acc: 0.7925\n",
            "Epoch 125/150\n",
            " - 3s - loss: 0.0229 - f1: 0.9854 - acc: 0.9880 - val_loss: 1.7425 - val_f1: 0.7587 - val_acc: 0.7886\n",
            "Epoch 126/150\n",
            " - 3s - loss: 0.0229 - f1: 0.9838 - acc: 0.9865 - val_loss: 1.7211 - val_f1: 0.7610 - val_acc: 0.7919\n",
            "Epoch 127/150\n",
            " - 3s - loss: 0.0233 - f1: 0.9840 - acc: 0.9867 - val_loss: 1.7178 - val_f1: 0.7573 - val_acc: 0.7899\n",
            "Epoch 128/150\n",
            " - 3s - loss: 0.0229 - f1: 0.9847 - acc: 0.9872 - val_loss: 1.7092 - val_f1: 0.7595 - val_acc: 0.7905\n",
            "Epoch 129/150\n",
            " - 3s - loss: 0.0232 - f1: 0.9843 - acc: 0.9870 - val_loss: 1.7339 - val_f1: 0.7636 - val_acc: 0.7912\n",
            "Epoch 130/150\n",
            " - 3s - loss: 0.0228 - f1: 0.9855 - acc: 0.9878 - val_loss: 1.7427 - val_f1: 0.7645 - val_acc: 0.7938\n",
            "Epoch 131/150\n",
            " - 3s - loss: 0.0233 - f1: 0.9847 - acc: 0.9874 - val_loss: 1.5711 - val_f1: 0.7575 - val_acc: 0.7840\n",
            "Epoch 132/150\n",
            " - 3s - loss: 0.0656 - f1: 0.9696 - acc: 0.9750 - val_loss: 0.8861 - val_f1: 0.7516 - val_acc: 0.7682\n",
            "Epoch 133/150\n",
            " - 3s - loss: 0.1260 - f1: 0.9410 - acc: 0.9507 - val_loss: 0.8358 - val_f1: 0.7620 - val_acc: 0.8030\n",
            "Epoch 134/150\n",
            " - 3s - loss: 0.0923 - f1: 0.9552 - acc: 0.9626 - val_loss: 0.7785 - val_f1: 0.7415 - val_acc: 0.7932\n",
            "Epoch 135/150\n",
            " - 3s - loss: 0.0789 - f1: 0.9622 - acc: 0.9683 - val_loss: 0.8704 - val_f1: 0.7366 - val_acc: 0.7781\n",
            "Epoch 136/150\n",
            " - 3s - loss: 0.0689 - f1: 0.9682 - acc: 0.9736 - val_loss: 0.8186 - val_f1: 0.7424 - val_acc: 0.7879\n",
            "Epoch 137/150\n",
            " - 3s - loss: 0.0521 - f1: 0.9739 - acc: 0.9780 - val_loss: 1.0383 - val_f1: 0.7662 - val_acc: 0.7945\n",
            "Epoch 138/150\n",
            " - 3s - loss: 0.0408 - f1: 0.9783 - acc: 0.9818 - val_loss: 0.9987 - val_f1: 0.7519 - val_acc: 0.7945\n",
            "Epoch 139/150\n",
            " - 3s - loss: 0.0331 - f1: 0.9830 - acc: 0.9857 - val_loss: 1.1436 - val_f1: 0.7597 - val_acc: 0.7965\n",
            "Epoch 140/150\n",
            " - 3s - loss: 0.0314 - f1: 0.9811 - acc: 0.9844 - val_loss: 1.2651 - val_f1: 0.7392 - val_acc: 0.7886\n",
            "Epoch 141/150\n",
            " - 3s - loss: 0.0473 - f1: 0.9757 - acc: 0.9798 - val_loss: 1.0227 - val_f1: 0.7562 - val_acc: 0.8024\n",
            "Epoch 142/150\n",
            " - 3s - loss: 0.0568 - f1: 0.9705 - acc: 0.9754 - val_loss: 1.1445 - val_f1: 0.7669 - val_acc: 0.8102\n",
            "Epoch 143/150\n",
            " - 3s - loss: 0.0406 - f1: 0.9780 - acc: 0.9814 - val_loss: 1.1041 - val_f1: 0.7603 - val_acc: 0.8070\n",
            "Epoch 144/150\n",
            " - 3s - loss: 0.0353 - f1: 0.9809 - acc: 0.9841 - val_loss: 1.1127 - val_f1: 0.7568 - val_acc: 0.8043\n",
            "Epoch 145/150\n",
            " - 3s - loss: 0.0338 - f1: 0.9813 - acc: 0.9846 - val_loss: 1.3587 - val_f1: 0.7364 - val_acc: 0.8043\n",
            "Epoch 146/150\n",
            " - 3s - loss: 0.0352 - f1: 0.9805 - acc: 0.9836 - val_loss: 1.2238 - val_f1: 0.7492 - val_acc: 0.8017\n",
            "Epoch 147/150\n",
            " - 3s - loss: 0.0339 - f1: 0.9807 - acc: 0.9839 - val_loss: 1.0881 - val_f1: 0.7583 - val_acc: 0.7905\n",
            "Epoch 148/150\n",
            " - 3s - loss: 0.0277 - f1: 0.9840 - acc: 0.9867 - val_loss: 1.2125 - val_f1: 0.7626 - val_acc: 0.8076\n",
            "Epoch 149/150\n",
            " - 3s - loss: 0.0257 - f1: 0.9830 - acc: 0.9860 - val_loss: 1.2165 - val_f1: 0.7632 - val_acc: 0.8004\n",
            "Epoch 150/150\n",
            " - 3s - loss: 0.0247 - f1: 0.9838 - acc: 0.9864 - val_loss: 1.2991 - val_f1: 0.7659 - val_acc: 0.8102\n"
          ],
          "name": "stdout"
        }
      ]
    },
    {
      "cell_type": "code",
      "metadata": {
        "id": "bqyRCccMoBfC",
        "colab_type": "code",
        "outputId": "acc61cfa-9629-46c9-cb8f-62e2b9c5a1b6",
        "colab": {
          "base_uri": "https://localhost:8080/",
          "height": 279
        }
      },
      "source": [
        "plt_dynamic(150)\n",
        "# print(model.prdeict(test_tok_generator))"
      ],
      "execution_count": 0,
      "outputs": [
        {
          "output_type": "display_data",
          "data": {
            "image/png": "[encoded data removed]",
            "text/plain": [
              "<Figure size 432x288 with 1 Axes>"
            ]
          },
          "metadata": {
            "tags": []
          }
        }
      ]
    },
    {
      "cell_type": "code",
      "metadata": {
        "id": "686D6ZiwonkC",
        "colab_type": "code",
        "colab": {}
      },
      "source": [
        ""
      ],
      "execution_count": 0,
      "outputs": []
    }
  ]
}